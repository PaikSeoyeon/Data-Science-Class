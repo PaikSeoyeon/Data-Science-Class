{
 "cells": [
  {
   "cell_type": "markdown",
   "metadata": {},
   "source": [
    "# Sect5. Logistic (regression) classifier"
   ]
  },
  {
   "cell_type": "code",
   "execution_count": 4,
   "metadata": {},
   "outputs": [],
   "source": [
    "import tensorflow as tf\n",
    "from tqdm import tqdm_notebook\n",
    "\n",
    "tf.set_random_seed(777)\n",
    "\n",
    "x_data = [[1, 2], [2, 3], [3, 1], [4, 3], [5, 3], [6, 2]]\n",
    "y_data = [[0], [0], [0], [1], [1], [1]]\n",
    "\n",
    "X = tf.placeholder(tf.float32, shape=[None, 2])\n",
    "Y = tf.placeholder(tf.float32, shape=[None, 1])\n",
    "\n",
    "W = tf.Variable(tf.random_normal([2, 1]), name='weight')\n",
    "b = tf.Variable(tf.random_normal([1]), name='bias')\n",
    "\n",
    "hypothesis = tf.sigmoid(tf.matmul(X, W) + b)\n",
    "\n",
    "cost = -tf.reduce_mean(Y * tf.log(hypothesis) + (1 - Y) * tf.log(1 - hypothesis))\n",
    "\n",
    "train = tf.train.GradientDescentOptimizer(learning_rate=0.01).minimize(cost)\n",
    "\n",
    "predicted = tf.cast(hypothesis > 0.5, dtype=tf.float32)\n",
    "accuracy = tf.reduce_mean(tf.cast(tf.equal(predicted, Y), dtype=tf.float32))"
   ]
  },
  {
   "cell_type": "code",
   "execution_count": 5,
   "metadata": {},
   "outputs": [
    {
     "data": {
      "application/vnd.jupyter.widget-view+json": {
       "model_id": "eb5b5b906d4c43368852b339d84531f1",
       "version_major": 2,
       "version_minor": 0
      },
      "text/plain": [
       "HBox(children=(IntProgress(value=0, max=10001), HTML(value='')))"
      ]
     },
     "metadata": {},
     "output_type": "display_data"
    },
    {
     "name": "stdout",
     "output_type": "stream",
     "text": [
      "Step : 0 \t Cost : 2.5744638442993164\n",
      "Step : 1 \t Cost : 2.4988784790039062\n",
      "Step : 2 \t Cost : 2.423949956893921\n",
      "Step : 3 \t Cost : 2.3497419357299805\n",
      "Step : 4 \t Cost : 2.2763173580169678\n",
      "Step : 5 \t Cost : 2.2037479877471924\n",
      "Step : 6 \t Cost : 2.1321117877960205\n",
      "Step : 7 \t Cost : 2.061492919921875\n",
      "Step : 8 \t Cost : 1.9919800758361816\n",
      "Step : 9 \t Cost : 1.9236685037612915\n",
      "Step : 200 \t Cost : 0.5877482295036316\n",
      "Step : 400 \t Cost : 0.5653448104858398\n",
      "Step : 600 \t Cost : 0.5443302392959595\n",
      "Step : 800 \t Cost : 0.5244359970092773\n",
      "Step : 1000 \t Cost : 0.5055162310600281\n",
      "Step : 1200 \t Cost : 0.4874860346317291\n",
      "Step : 1400 \t Cost : 0.47029173374176025\n",
      "Step : 1600 \t Cost : 0.45389464497566223\n",
      "Step : 1800 \t Cost : 0.4382634162902832\n",
      "Step : 2000 \t Cost : 0.4233691990375519\n",
      "Step : 2200 \t Cost : 0.4091843068599701\n",
      "Step : 2400 \t Cost : 0.39568057656288147\n",
      "Step : 2600 \t Cost : 0.3828296661376953\n",
      "Step : 2800 \t Cost : 0.37060317397117615\n",
      "Step : 3000 \t Cost : 0.35897207260131836\n",
      "Step : 3200 \t Cost : 0.34790778160095215\n",
      "Step : 3400 \t Cost : 0.337382048368454\n",
      "Step : 3600 \t Cost : 0.3273670971393585\n",
      "Step : 3800 \t Cost : 0.31783604621887207\n",
      "Step : 4000 \t Cost : 0.30876263976097107\n",
      "Step : 4200 \t Cost : 0.3001219928264618\n",
      "Step : 4400 \t Cost : 0.291890025138855\n",
      "Step : 4600 \t Cost : 0.2840438485145569\n",
      "Step : 4800 \t Cost : 0.27656176686286926\n",
      "Step : 5000 \t Cost : 0.2694232165813446\n",
      "Step : 5200 \t Cost : 0.26260867714881897\n",
      "Step : 5400 \t Cost : 0.2560997009277344\n",
      "Step : 5600 \t Cost : 0.24987910687923431\n",
      "Step : 5800 \t Cost : 0.2439304143190384\n",
      "Step : 6000 \t Cost : 0.23823828995227814\n",
      "Step : 6200 \t Cost : 0.23278845846652985\n",
      "Step : 6400 \t Cost : 0.2275674194097519\n",
      "Step : 6600 \t Cost : 0.22256238758563995\n",
      "Step : 6800 \t Cost : 0.2177615910768509\n",
      "Step : 7000 \t Cost : 0.21315382421016693\n",
      "Step : 7200 \t Cost : 0.20872879028320312\n",
      "Step : 7400 \t Cost : 0.20447655022144318\n",
      "Step : 7600 \t Cost : 0.20038802921772003\n",
      "Step : 7800 \t Cost : 0.19645459949970245\n",
      "Step : 8000 \t Cost : 0.19266818463802338\n",
      "Step : 8200 \t Cost : 0.18902118504047394\n",
      "Step : 8400 \t Cost : 0.18550658226013184\n",
      "Step : 8600 \t Cost : 0.18211759626865387\n",
      "Step : 8800 \t Cost : 0.1788480281829834\n",
      "Step : 9000 \t Cost : 0.17569208145141602\n",
      "Step : 9200 \t Cost : 0.17264415323734283\n",
      "Step : 9400 \t Cost : 0.16969895362854004\n",
      "Step : 9600 \t Cost : 0.16685175895690918\n",
      "Step : 9800 \t Cost : 0.164097860455513\n",
      "Step : 10000 \t Cost : 0.16143298149108887\n",
      "\n"
     ]
    }
   ],
   "source": [
    "with tf.Session() as sess:\n",
    "    # Initialize TensorFlow variables\n",
    "    sess.run(tf.global_variables_initializer())\n",
    "\n",
    "    for step in tqdm_notebook(range(10001)):\n",
    "        cost_val, _ = sess.run([cost, train], feed_dict={X: x_data, Y: y_data})\n",
    "        if step % 200 == 0 or step < 10 :\n",
    "            print(\"Step : {} \\t Cost : {}\".format(step, cost_val))\n",
    "            \n",
    "    # Accuracy report\n",
    "    h, c, a = sess.run([hypothesis, predicted, accuracy],\n",
    "                       feed_dict={X: x_data, Y: y_data})"
   ]
  },
  {
   "cell_type": "code",
   "execution_count": 6,
   "metadata": {},
   "outputs": [
    {
     "name": "stdout",
     "output_type": "stream",
     "text": [
      "# Hypothesis: \n",
      "[[0.03591657]\n",
      " [0.16531888]\n",
      " [0.3287507 ]\n",
      " [0.7706742 ]\n",
      " [0.93262756]\n",
      " [0.977866  ]] \n",
      "\n",
      "# Correct (Y): \n",
      "[[0.]\n",
      " [0.]\n",
      " [0.]\n",
      " [1.]\n",
      " [1.]\n",
      " [1.]] \n",
      "\n",
      "# Accuracy: 1.0\n"
     ]
    }
   ],
   "source": [
    "print(\"# Hypothesis: \\n{h} \\n\\n# Correct (Y): \\n{c} \\n\\n# Accuracy: {a}\".format(\n",
    "    h = h, c = c, a = a\n",
    "))"
   ]
  },
  {
   "cell_type": "code",
   "execution_count": 12,
   "metadata": {},
   "outputs": [
    {
     "data": {
      "text/plain": [
       "1.0"
      ]
     },
     "execution_count": 12,
     "metadata": {},
     "output_type": "execute_result"
    }
   ],
   "source": [
    "a = tf.equal(3, 3)\n",
    "b = tf.cast(a, dtype=tf.float32)\n",
    "\n",
    "sess = tf.Session()\n",
    "sess.run(b)"
   ]
  },
  {
   "cell_type": "markdown",
   "metadata": {},
   "source": [
    "### Classifying diabetes\n",
    "> 당뇨병 예측하는 실습 예제\n",
    "* 예측값이 1이면 당뇨병 O\n",
    "* 예측값이 0이면 당뇨병 X"
   ]
  },
  {
   "cell_type": "code",
   "execution_count": 13,
   "metadata": {},
   "outputs": [
    {
     "data": {
      "text/html": [
       "<div>\n",
       "<style scoped>\n",
       "    .dataframe tbody tr th:only-of-type {\n",
       "        vertical-align: middle;\n",
       "    }\n",
       "\n",
       "    .dataframe tbody tr th {\n",
       "        vertical-align: top;\n",
       "    }\n",
       "\n",
       "    .dataframe thead th {\n",
       "        text-align: right;\n",
       "    }\n",
       "</style>\n",
       "<table border=\"1\" class=\"dataframe\">\n",
       "  <thead>\n",
       "    <tr style=\"text-align: right;\">\n",
       "      <th></th>\n",
       "      <th>0</th>\n",
       "      <th>1</th>\n",
       "      <th>2</th>\n",
       "      <th>3</th>\n",
       "      <th>4</th>\n",
       "      <th>5</th>\n",
       "      <th>6</th>\n",
       "      <th>7</th>\n",
       "      <th>8</th>\n",
       "    </tr>\n",
       "  </thead>\n",
       "  <tbody>\n",
       "    <tr>\n",
       "      <th>0</th>\n",
       "      <td>-0.294118</td>\n",
       "      <td>0.487437</td>\n",
       "      <td>0.180328</td>\n",
       "      <td>-0.292929</td>\n",
       "      <td>0.000000</td>\n",
       "      <td>0.001490</td>\n",
       "      <td>-0.531170</td>\n",
       "      <td>-0.033333</td>\n",
       "      <td>0</td>\n",
       "    </tr>\n",
       "    <tr>\n",
       "      <th>1</th>\n",
       "      <td>-0.882353</td>\n",
       "      <td>-0.145729</td>\n",
       "      <td>0.081967</td>\n",
       "      <td>-0.414141</td>\n",
       "      <td>0.000000</td>\n",
       "      <td>-0.207153</td>\n",
       "      <td>-0.766866</td>\n",
       "      <td>-0.666667</td>\n",
       "      <td>1</td>\n",
       "    </tr>\n",
       "    <tr>\n",
       "      <th>2</th>\n",
       "      <td>-0.058824</td>\n",
       "      <td>0.839196</td>\n",
       "      <td>0.049180</td>\n",
       "      <td>0.000000</td>\n",
       "      <td>0.000000</td>\n",
       "      <td>-0.305514</td>\n",
       "      <td>-0.492741</td>\n",
       "      <td>-0.633333</td>\n",
       "      <td>0</td>\n",
       "    </tr>\n",
       "    <tr>\n",
       "      <th>3</th>\n",
       "      <td>-0.882353</td>\n",
       "      <td>-0.105528</td>\n",
       "      <td>0.081967</td>\n",
       "      <td>-0.535354</td>\n",
       "      <td>-0.777778</td>\n",
       "      <td>-0.162444</td>\n",
       "      <td>-0.923997</td>\n",
       "      <td>0.000000</td>\n",
       "      <td>1</td>\n",
       "    </tr>\n",
       "    <tr>\n",
       "      <th>4</th>\n",
       "      <td>0.000000</td>\n",
       "      <td>0.376884</td>\n",
       "      <td>-0.344262</td>\n",
       "      <td>-0.292929</td>\n",
       "      <td>-0.602837</td>\n",
       "      <td>0.284650</td>\n",
       "      <td>0.887276</td>\n",
       "      <td>-0.600000</td>\n",
       "      <td>0</td>\n",
       "    </tr>\n",
       "    <tr>\n",
       "      <th>5</th>\n",
       "      <td>-0.411765</td>\n",
       "      <td>0.165829</td>\n",
       "      <td>0.213115</td>\n",
       "      <td>0.000000</td>\n",
       "      <td>0.000000</td>\n",
       "      <td>-0.236960</td>\n",
       "      <td>-0.894962</td>\n",
       "      <td>-0.700000</td>\n",
       "      <td>1</td>\n",
       "    </tr>\n",
       "    <tr>\n",
       "      <th>6</th>\n",
       "      <td>-0.647059</td>\n",
       "      <td>-0.216080</td>\n",
       "      <td>-0.180328</td>\n",
       "      <td>-0.353535</td>\n",
       "      <td>-0.791962</td>\n",
       "      <td>-0.076006</td>\n",
       "      <td>-0.854825</td>\n",
       "      <td>-0.833333</td>\n",
       "      <td>0</td>\n",
       "    </tr>\n",
       "    <tr>\n",
       "      <th>7</th>\n",
       "      <td>0.176471</td>\n",
       "      <td>0.155779</td>\n",
       "      <td>0.000000</td>\n",
       "      <td>0.000000</td>\n",
       "      <td>0.000000</td>\n",
       "      <td>0.052161</td>\n",
       "      <td>-0.952178</td>\n",
       "      <td>-0.733333</td>\n",
       "      <td>1</td>\n",
       "    </tr>\n",
       "    <tr>\n",
       "      <th>8</th>\n",
       "      <td>-0.764706</td>\n",
       "      <td>0.979899</td>\n",
       "      <td>0.147541</td>\n",
       "      <td>-0.090909</td>\n",
       "      <td>0.283688</td>\n",
       "      <td>-0.090909</td>\n",
       "      <td>-0.931682</td>\n",
       "      <td>0.066667</td>\n",
       "      <td>0</td>\n",
       "    </tr>\n",
       "    <tr>\n",
       "      <th>9</th>\n",
       "      <td>-0.058824</td>\n",
       "      <td>0.256281</td>\n",
       "      <td>0.573770</td>\n",
       "      <td>0.000000</td>\n",
       "      <td>0.000000</td>\n",
       "      <td>0.000000</td>\n",
       "      <td>-0.868488</td>\n",
       "      <td>0.100000</td>\n",
       "      <td>0</td>\n",
       "    </tr>\n",
       "  </tbody>\n",
       "</table>\n",
       "</div>"
      ],
      "text/plain": [
       "          0         1         2         3         4         5         6  \\\n",
       "0 -0.294118  0.487437  0.180328 -0.292929  0.000000  0.001490 -0.531170   \n",
       "1 -0.882353 -0.145729  0.081967 -0.414141  0.000000 -0.207153 -0.766866   \n",
       "2 -0.058824  0.839196  0.049180  0.000000  0.000000 -0.305514 -0.492741   \n",
       "3 -0.882353 -0.105528  0.081967 -0.535354 -0.777778 -0.162444 -0.923997   \n",
       "4  0.000000  0.376884 -0.344262 -0.292929 -0.602837  0.284650  0.887276   \n",
       "5 -0.411765  0.165829  0.213115  0.000000  0.000000 -0.236960 -0.894962   \n",
       "6 -0.647059 -0.216080 -0.180328 -0.353535 -0.791962 -0.076006 -0.854825   \n",
       "7  0.176471  0.155779  0.000000  0.000000  0.000000  0.052161 -0.952178   \n",
       "8 -0.764706  0.979899  0.147541 -0.090909  0.283688 -0.090909 -0.931682   \n",
       "9 -0.058824  0.256281  0.573770  0.000000  0.000000  0.000000 -0.868488   \n",
       "\n",
       "          7  8  \n",
       "0 -0.033333  0  \n",
       "1 -0.666667  1  \n",
       "2 -0.633333  0  \n",
       "3  0.000000  1  \n",
       "4 -0.600000  0  \n",
       "5 -0.700000  1  \n",
       "6 -0.833333  0  \n",
       "7 -0.733333  1  \n",
       "8  0.066667  0  \n",
       "9  0.100000  0  "
      ]
     },
     "execution_count": 13,
     "metadata": {},
     "output_type": "execute_result"
    }
   ],
   "source": [
    "import pandas as pd\n",
    "\n",
    "df=pd.read_csv(\"./data/data-03-diabetes.csv\", header=None)\n",
    "df.head(10)"
   ]
  },
  {
   "cell_type": "code",
   "execution_count": 15,
   "metadata": {},
   "outputs": [
    {
     "name": "stdout",
     "output_type": "stream",
     "text": [
      " x_data.shape : (759, 8) \n",
      " y_data.shape : (759, 1)\n"
     ]
    }
   ],
   "source": [
    "import tensorflow as tf\n",
    "import numpy as np\n",
    "tf.set_random_seed(777)\n",
    "\n",
    "xy = np.loadtxt('./data/data-03-diabetes.csv', delimiter=',', dtype=np.float32)\n",
    "x_data = xy[:, 0:-1]\n",
    "y_data = xy[:, [-1]]\n",
    "\n",
    "print(\" x_data.shape : {x_shape} \\n y_data.shape : {y_shape}\".format(\n",
    "        x_shape = x_data.shape, \n",
    "        y_shape = y_data.shape\n",
    "    ))\n",
    "\n",
    "X = tf.placeholder(tf.float32, shape=[None, 8])\n",
    "Y = tf.placeholder(tf.float32, shape=[None, 1])\n",
    "\n",
    "W = tf.Variable(tf.random_normal([8, 1]), name='weight')\n",
    "b = tf.Variable(tf.random_normal([1]), name='bias')\n",
    "\n",
    "hypothesis = tf.sigmoid(tf.matmul(X,W)+b)\n",
    "\n",
    "cost = -tf.reduce_mean(Y*tf.log(hypothesis)+(1-Y)*\n",
    "                      tf.log(1-hypothesis))\n",
    "\n",
    "train = tf.train.GradientDescentOptimizer(learning_rate=0.01).minimize(cost)\n",
    "\n",
    "predicted = tf.cast(hypothesis > 0.5, dtype = tf.float32)\n",
    "accuracy = tf.reduce_mean(tf.cast(tf.equal(predicted, Y), dtype=tf.float32))"
   ]
  },
  {
   "cell_type": "code",
   "execution_count": 16,
   "metadata": {},
   "outputs": [
    {
     "name": "stdout",
     "output_type": "stream",
     "text": [
      "759\n"
     ]
    },
    {
     "data": {
      "text/plain": [
       "array([[-0.294118  ,  0.487437  ,  0.180328  , -0.292929  ,  0.        ,\n",
       "         0.00149028, -0.53117   , -0.0333333 ,  0.        ],\n",
       "       [-0.882353  , -0.145729  ,  0.0819672 , -0.414141  ,  0.        ,\n",
       "        -0.207153  , -0.766866  , -0.666667  ,  1.        ],\n",
       "       [-0.0588235 ,  0.839196  ,  0.0491803 ,  0.        ,  0.        ,\n",
       "        -0.305514  , -0.492741  , -0.633333  ,  0.        ],\n",
       "       [-0.882353  , -0.105528  ,  0.0819672 , -0.535354  , -0.777778  ,\n",
       "        -0.162444  , -0.923997  ,  0.        ,  1.        ],\n",
       "       [ 0.        ,  0.376884  , -0.344262  , -0.292929  , -0.602837  ,\n",
       "         0.28465   ,  0.887276  , -0.6       ,  0.        ],\n",
       "       [-0.411765  ,  0.165829  ,  0.213115  ,  0.        ,  0.        ,\n",
       "        -0.23696   , -0.894962  , -0.7       ,  1.        ],\n",
       "       [-0.647059  , -0.21608   , -0.180328  , -0.353535  , -0.791962  ,\n",
       "        -0.0760059 , -0.854825  , -0.833333  ,  0.        ],\n",
       "       [ 0.176471  ,  0.155779  ,  0.        ,  0.        ,  0.        ,\n",
       "         0.052161  , -0.952178  , -0.733333  ,  1.        ],\n",
       "       [-0.764706  ,  0.979899  ,  0.147541  , -0.0909091 ,  0.283688  ,\n",
       "        -0.0909091 , -0.931682  ,  0.0666667 ,  0.        ],\n",
       "       [-0.0588235 ,  0.256281  ,  0.57377   ,  0.        ,  0.        ,\n",
       "         0.        , -0.868488  ,  0.1       ,  0.        ]],\n",
       "      dtype=float32)"
      ]
     },
     "execution_count": 16,
     "metadata": {},
     "output_type": "execute_result"
    }
   ],
   "source": [
    "print(len(xy)) \n",
    "xy[:10]"
   ]
  },
  {
   "cell_type": "code",
   "execution_count": 17,
   "metadata": {},
   "outputs": [
    {
     "name": "stdout",
     "output_type": "stream",
     "text": [
      "759\n"
     ]
    },
    {
     "data": {
      "text/plain": [
       "array([[-0.294118  ,  0.487437  ,  0.180328  , -0.292929  ,  0.        ,\n",
       "         0.00149028, -0.53117   , -0.0333333 ],\n",
       "       [-0.882353  , -0.145729  ,  0.0819672 , -0.414141  ,  0.        ,\n",
       "        -0.207153  , -0.766866  , -0.666667  ],\n",
       "       [-0.0588235 ,  0.839196  ,  0.0491803 ,  0.        ,  0.        ,\n",
       "        -0.305514  , -0.492741  , -0.633333  ],\n",
       "       [-0.882353  , -0.105528  ,  0.0819672 , -0.535354  , -0.777778  ,\n",
       "        -0.162444  , -0.923997  ,  0.        ],\n",
       "       [ 0.        ,  0.376884  , -0.344262  , -0.292929  , -0.602837  ,\n",
       "         0.28465   ,  0.887276  , -0.6       ],\n",
       "       [-0.411765  ,  0.165829  ,  0.213115  ,  0.        ,  0.        ,\n",
       "        -0.23696   , -0.894962  , -0.7       ],\n",
       "       [-0.647059  , -0.21608   , -0.180328  , -0.353535  , -0.791962  ,\n",
       "        -0.0760059 , -0.854825  , -0.833333  ],\n",
       "       [ 0.176471  ,  0.155779  ,  0.        ,  0.        ,  0.        ,\n",
       "         0.052161  , -0.952178  , -0.733333  ],\n",
       "       [-0.764706  ,  0.979899  ,  0.147541  , -0.0909091 ,  0.283688  ,\n",
       "        -0.0909091 , -0.931682  ,  0.0666667 ],\n",
       "       [-0.0588235 ,  0.256281  ,  0.57377   ,  0.        ,  0.        ,\n",
       "         0.        , -0.868488  ,  0.1       ]], dtype=float32)"
      ]
     },
     "execution_count": 17,
     "metadata": {},
     "output_type": "execute_result"
    }
   ],
   "source": [
    "print(len(x_data)) \n",
    "x_data[:10]"
   ]
  },
  {
   "cell_type": "code",
   "execution_count": 18,
   "metadata": {},
   "outputs": [
    {
     "name": "stdout",
     "output_type": "stream",
     "text": [
      "759\n"
     ]
    },
    {
     "data": {
      "text/plain": [
       "array([[0.],\n",
       "       [1.],\n",
       "       [0.],\n",
       "       [1.],\n",
       "       [0.],\n",
       "       [1.],\n",
       "       [0.],\n",
       "       [1.],\n",
       "       [0.],\n",
       "       [0.]], dtype=float32)"
      ]
     },
     "execution_count": 18,
     "metadata": {},
     "output_type": "execute_result"
    }
   ],
   "source": [
    "print(len(y_data)) \n",
    "y_data[:10]"
   ]
  },
  {
   "cell_type": "code",
   "execution_count": 19,
   "metadata": {},
   "outputs": [
    {
     "data": {
      "application/vnd.jupyter.widget-view+json": {
       "model_id": "daadf0607d9341fda2913d442c9cbad9",
       "version_major": 2,
       "version_minor": 0
      },
      "text/plain": [
       "HBox(children=(IntProgress(value=0, max=10001), HTML(value='')))"
      ]
     },
     "metadata": {},
     "output_type": "display_data"
    },
    {
     "name": "stdout",
     "output_type": "stream",
     "text": [
      "Step : 0 \t Cost : 1.2706477642059326\n",
      "Step : 1 \t Cost : 1.2652075290679932\n",
      "Step : 2 \t Cost : 1.2597957849502563\n",
      "Step : 3 \t Cost : 1.2544119358062744\n",
      "Step : 4 \t Cost : 1.2490564584732056\n",
      "Step : 5 \t Cost : 1.2437294721603394\n",
      "Step : 6 \t Cost : 1.2384308576583862\n",
      "Step : 7 \t Cost : 1.2331607341766357\n",
      "Step : 8 \t Cost : 1.227919101715088\n",
      "Step : 9 \t Cost : 1.2227060794830322\n",
      "Step : 200 \t Cost : 0.6815918684005737\n",
      "Step : 400 \t Cost : 0.5800564289093018\n",
      "Step : 600 \t Cost : 0.5586622953414917\n",
      "Step : 800 \t Cost : 0.5490862131118774\n",
      "Step : 1000 \t Cost : 0.5420495271682739\n",
      "Step : 1200 \t Cost : 0.5360708236694336\n",
      "Step : 1400 \t Cost : 0.5308253765106201\n",
      "Step : 1600 \t Cost : 0.5261834263801575\n",
      "Step : 1800 \t Cost : 0.5220587253570557\n",
      "Step : 2000 \t Cost : 0.5183815360069275\n",
      "Step : 2200 \t Cost : 0.515092670917511\n",
      "Step : 2400 \t Cost : 0.5121421813964844\n",
      "Step : 2600 \t Cost : 0.5094868540763855\n",
      "Step : 2800 \t Cost : 0.5070899724960327\n",
      "Step : 3000 \t Cost : 0.504919707775116\n",
      "Step : 3200 \t Cost : 0.502949059009552\n",
      "Step : 3400 \t Cost : 0.5011545419692993\n",
      "Step : 3600 \t Cost : 0.4995157718658447\n",
      "Step : 3800 \t Cost : 0.4980154037475586\n",
      "Step : 4000 \t Cost : 0.4966380298137665\n",
      "Step : 4200 \t Cost : 0.4953705072402954\n",
      "Step : 4400 \t Cost : 0.49420106410980225\n",
      "Step : 4600 \t Cost : 0.4931197166442871\n",
      "Step : 4800 \t Cost : 0.49211758375167847\n",
      "Step : 5000 \t Cost : 0.4911869466304779\n",
      "Step : 5200 \t Cost : 0.4903208315372467\n",
      "Step : 5400 \t Cost : 0.48951300978660583\n",
      "Step : 5600 \t Cost : 0.488758385181427\n",
      "Step : 5800 \t Cost : 0.4880520701408386\n",
      "Step : 6000 \t Cost : 0.48738977313041687\n",
      "Step : 6200 \t Cost : 0.4867679178714752\n",
      "Step : 6400 \t Cost : 0.4861829876899719\n",
      "Step : 6600 \t Cost : 0.4856318235397339\n",
      "Step : 6800 \t Cost : 0.48511192202568054\n",
      "Step : 7000 \t Cost : 0.4846206605434418\n",
      "Step : 7200 \t Cost : 0.4841560423374176\n",
      "Step : 7400 \t Cost : 0.4837160110473633\n",
      "Step : 7600 \t Cost : 0.48329856991767883\n",
      "Step : 7800 \t Cost : 0.48290252685546875\n",
      "Step : 8000 \t Cost : 0.4825260639190674\n",
      "Step : 8200 \t Cost : 0.4821678102016449\n",
      "Step : 8400 \t Cost : 0.48182663321495056\n",
      "Step : 8600 \t Cost : 0.4815015196800232\n",
      "Step : 8800 \t Cost : 0.48119112849235535\n",
      "Step : 9000 \t Cost : 0.48089492321014404\n",
      "Step : 9200 \t Cost : 0.4806116819381714\n",
      "Step : 9400 \t Cost : 0.4803408980369568\n",
      "Step : 9600 \t Cost : 0.4800814986228943\n",
      "Step : 9800 \t Cost : 0.4798332750797272\n",
      "Step : 10000 \t Cost : 0.47959527373313904\n",
      "\n"
     ]
    }
   ],
   "source": [
    "with tf.Session() as sess:\n",
    "    sess.run(tf.global_variables_initializer())\n",
    "    \n",
    "    for step in tqdm_notebook(range(10001)):\n",
    "        cost_val, _ = sess.run([cost, train], feed_dict={X: x_data, Y: y_data})       \n",
    "        if step % 200 == 0 or step < 10 :\n",
    "            print(\"Step : {} \\t Cost : {}\".format(step, cost_val))    \n",
    "\n",
    "    # Accuracy report\n",
    "    h, c, a = sess.run([hypothesis, predicted, accuracy],\n",
    "                       feed_dict={X: x_data, Y: y_data})\n",
    " \n",
    "    "
   ]
  },
  {
   "cell_type": "code",
   "execution_count": 20,
   "metadata": {},
   "outputs": [
    {
     "name": "stdout",
     "output_type": "stream",
     "text": [
      "# Hypothesis: \n",
      "[[0.4079657 ]\n",
      " [0.9303479 ]\n",
      " [0.22700569]\n",
      " [0.9483484 ]\n",
      " [0.29020914]\n",
      " [0.778755  ]\n",
      " [0.94921505]\n",
      " [0.6070346 ]\n",
      " [0.19412044]\n",
      " [0.558072  ]\n",
      " [0.70133424]\n",
      " [0.16109037]\n",
      " [0.39354497]\n",
      " [0.19378212]\n",
      " [0.79484665]\n",
      " [0.47803235]\n",
      " [0.7604104 ]\n",
      " [0.8610356 ]\n",
      " [0.8191446 ]\n",
      " [0.59507364]] \n",
      "\n",
      "# Correct (Y): \n",
      "[[0.]\n",
      " [1.]\n",
      " [0.]\n",
      " [1.]\n",
      " [0.]\n",
      " [1.]\n",
      " [1.]\n",
      " [1.]\n",
      " [0.]\n",
      " [1.]\n",
      " [1.]\n",
      " [0.]\n",
      " [0.]\n",
      " [0.]\n",
      " [1.]\n",
      " [0.]\n",
      " [1.]\n",
      " [1.]\n",
      " [1.]\n",
      " [1.]] \n",
      "\n",
      "# Accuracy: 0.7747035622596741\n"
     ]
    }
   ],
   "source": [
    "print(\"# Hypothesis: \\n{h} \\n\\n# Correct (Y): \\n{c} \\n\\n# Accuracy: {a}\".format(\n",
    "    # h = h, c = c, a = a\n",
    "    h = h[:20], c = c[:20], a = a\n",
    "))"
   ]
  },
  {
   "cell_type": "code",
   "execution_count": null,
   "metadata": {},
   "outputs": [],
   "source": []
  }
 ],
 "metadata": {
  "kernelspec": {
   "display_name": "Python 3",
   "language": "python",
   "name": "python3"
  },
  "language_info": {
   "codemirror_mode": {
    "name": "ipython",
    "version": 3
   },
   "file_extension": ".py",
   "mimetype": "text/x-python",
   "name": "python",
   "nbconvert_exporter": "python",
   "pygments_lexer": "ipython3",
   "version": "3.7.3"
  }
 },
 "nbformat": 4,
 "nbformat_minor": 2
}
