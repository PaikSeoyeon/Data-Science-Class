{
 "cells": [
  {
   "cell_type": "markdown",
   "metadata": {},
   "source": [
    "### Image 파일 복사¶"
   ]
  },
  {
   "cell_type": "code",
   "execution_count": 1,
   "metadata": {},
   "outputs": [],
   "source": [
    "from IPython.display import Image\n",
    "\n",
    "origin_img = './data/Image/말티즈.jpg'\n",
    "copied_img = './data/Image/말티즈_copy.jpg'"
   ]
  },
  {
   "cell_type": "code",
   "execution_count": 2,
   "metadata": {},
   "outputs": [
    {
     "data": {
      "image/jpeg": "[encoded data removed]",
      "text/plain": [
       "<IPython.core.display.Image object>"
      ]
     },
     "execution_count": 2,
     "metadata": {},
     "output_type": "execute_result"
    }
   ],
   "source": [
    "Image(origin_img)"
   ]
  },
  {
   "cell_type": "code",
   "execution_count": 3,
   "metadata": {},
   "outputs": [],
   "source": [
    "bufsize = 1024\n",
    "f = open(origin_img, 'rb')\n",
    "h = open(copied_img, 'wb')\n",
    "\n",
    "data = f.read(bufsize)\n",
    "while data:\n",
    "    h.write(data)\n",
    "    data = f.read(bufsize)\n",
    "    \n",
    "h.close()\n",
    "f.close()"
   ]
  },
  {
   "cell_type": "code",
   "execution_count": 4,
   "metadata": {},
   "outputs": [
    {
     "data": {
      "image/jpeg": "[encoded data removed]",
      "text/plain": [
       "<IPython.core.display.Image object>"
      ]
     },
     "execution_count": 4,
     "metadata": {},
     "output_type": "execute_result"
    }
   ],
   "source": [
    "Image(copied_img)"
   ]
  },
  {
   "cell_type": "markdown",
   "metadata": {},
   "source": [
    "# 파일핸들링 & OS 기본명령어"
   ]
  },
  {
   "cell_type": "markdown",
   "metadata": {},
   "source": [
    "### Text 파일 생성"
   ]
  },
  {
   "cell_type": "code",
   "execution_count": 5,
   "metadata": {},
   "outputs": [],
   "source": [
    "def write_txt(filepath):\n",
    "    # 텍스트 파일에 한줄씩 쓰기(writelines)\n",
    "    count = 1\n",
    "    data = []\n",
    "    print('파일에 내용을 저장하려면 내용을 입력하지 말고 [Enter]를 누르세요')\n",
    "\n",
    "    while True:\n",
    "        text = input('[%d] 파일에 저장할 내용을 입력하세요: ' %count)\n",
    "        if text == '':\n",
    "            break\n",
    "        data.append(text+'\\n')\n",
    "        count += 1\n",
    "\n",
    "    f = open(filepath, 'w')\n",
    "    f.writelines(data)\n",
    "    f.close()\n",
    "    \n",
    "    ret = 'TEXT 파일을 생성하였습니다.'\n",
    "    \n",
    "    return ret"
   ]
  },
  {
   "cell_type": "code",
   "execution_count": 6,
   "metadata": {},
   "outputs": [
    {
     "name": "stdout",
     "output_type": "stream",
     "text": [
      "파일에 내용을 저장하려면 내용을 입력하지 말고 [Enter]를 누르세요\n",
      "[1] 파일에 저장할 내용을 입력하세요: 로아\n",
      "[2] 파일에 저장할 내용을 입력하세요: ♡\n",
      "[3] 파일에 저장할 내용을 입력하세요: \n"
     ]
    },
    {
     "data": {
      "text/plain": [
       "'TEXT 파일을 생성하였습니다.'"
      ]
     },
     "execution_count": 6,
     "metadata": {},
     "output_type": "execute_result"
    }
   ],
   "source": [
    "filepath = './data/mydata.txt'\n",
    "write_txt(filepath)"
   ]
  },
  {
   "cell_type": "code",
   "execution_count": 8,
   "metadata": {},
   "outputs": [
    {
     "name": "stdout",
     "output_type": "stream",
     "text": [
      "로아\n",
      "♡\n",
      "\n"
     ]
    }
   ],
   "source": [
    "f = open(filepath, 'r')\n",
    "data = f.read()\n",
    "f.close()\n",
    "\n",
    "print(data)"
   ]
  },
  {
   "cell_type": "markdown",
   "metadata": {},
   "source": [
    "### Text 파일 복사"
   ]
  },
  {
   "cell_type": "code",
   "execution_count": 10,
   "metadata": {},
   "outputs": [],
   "source": [
    "# 텍스트 파일 복사하기(read, write)\n",
    "f = open('./data/mydata.txt', 'r')\n",
    "h = open('./data/mydata_copy.txt', 'w')\n",
    "\n",
    "data = f.read()\n",
    "h.write(data)\n",
    "\n",
    "h.close()\n",
    "f.close()"
   ]
  },
  {
   "cell_type": "code",
   "execution_count": 11,
   "metadata": {},
   "outputs": [
    {
     "name": "stdout",
     "output_type": "stream",
     "text": [
      "로아\n",
      "♡\n",
      "\n"
     ]
    }
   ],
   "source": [
    "with open('./data/mydata_copy.txt', 'r') as fp:\n",
    "    data = fp.read()\n",
    "    print(data)"
   ]
  },
  {
   "cell_type": "markdown",
   "metadata": {},
   "source": [
    "# OS 기본명령어"
   ]
  },
  {
   "cell_type": "markdown",
   "metadata": {},
   "source": [
    "### 파일 크기 구하기(ospathgetsize)"
   ]
  },
  {
   "cell_type": "code",
   "execution_count": 1,
   "metadata": {},
   "outputs": [
    {
     "name": "stdout",
     "output_type": "stream",
     "text": [
      "File Name: ./data/mydata_copy.txt \t File Size: 10 Byte\n",
      "File Name: ./data/Image/jupyter_logo.PNG \t File Size: 1082 Byte\n"
     ]
    }
   ],
   "source": [
    "# 파일 크기 구하기(ospathgetsize)\n",
    "from os.path import getsize\n",
    "\n",
    "file1 = './data/mydata_copy.txt'\n",
    "file2 = './data/Image/jupyter_logo.PNG'\n",
    "\n",
    "# OK !!\n",
    "# file2 = '/Users/user/Dropbox/sect_tech/src_anaconda/images/jupyter_logo.png'\n",
    "\n",
    "# SyntaxError\n",
    "# file2 = 'C:\\Users\\user\\Dropbox\\sect_tech\\src_anaconda\\images\\upyter_logo.png'\n",
    "\n",
    "file_size1 = getsize(file1)\n",
    "file_size2 = getsize(file2)\n",
    "\n",
    "print('File Name: %s \\t File Size: %d Byte' %(file1, file_size1))\n",
    "print('File Name: %s \\t File Size: %d Byte' %(file2, file_size2))"
   ]
  },
  {
   "cell_type": "markdown",
   "metadata": {},
   "source": [
    "### 파일 삭제하기(osremove)"
   ]
  },
  {
   "cell_type": "code",
   "execution_count": 2,
   "metadata": {},
   "outputs": [
    {
     "name": "stdout",
     "output_type": "stream",
     "text": [
      "[./data/mydata_copy.txt] 파일을 삭제하겠습니까? ([[y]/n])\n",
      "[./data/mydata_copy.txt] 파일을 삭제했습니다.\n"
     ]
    }
   ],
   "source": [
    "from os import remove\n",
    "\n",
    "target_file = './data/mydata_copy.txt'\n",
    "k = input('[%s] 파일을 삭제하겠습니까? ([[y]/n])' %target_file)\n",
    "\n",
    "if k == 'y' or k =='':\n",
    "    remove(target_file)\n",
    "    print('[%s] 파일을 삭제했습니다.' %target_file)"
   ]
  },
  {
   "cell_type": "markdown",
   "metadata": {},
   "source": [
    "### 파일 이름 바꾸기(osrename)"
   ]
  },
  {
   "cell_type": "code",
   "execution_count": 3,
   "metadata": {},
   "outputs": [
    {
     "name": "stdout",
     "output_type": "stream",
     "text": [
      "[./data/mydata.txt]에 대한 새로운 파일 이름을 입력하세요: \n"
     ]
    },
    {
     "ename": "FileNotFoundError",
     "evalue": "[WinError 2] 지정된 파일을 찾을 수 없습니다: './data/mydata.txt' -> ''",
     "output_type": "error",
     "traceback": [
      "\u001b[1;31m---------------------------------------------------------------------------\u001b[0m",
      "\u001b[1;31mFileNotFoundError\u001b[0m                         Traceback (most recent call last)",
      "\u001b[1;32m<ipython-input-3-20bafbf0e7d3>\u001b[0m in \u001b[0;36m<module>\u001b[1;34m\u001b[0m\n\u001b[0;32m      6\u001b[0m \u001b[1;33m\u001b[0m\u001b[0m\n\u001b[0;32m      7\u001b[0m \u001b[0mnew_file\u001b[0m \u001b[1;33m=\u001b[0m \u001b[0mnewname\u001b[0m\u001b[1;33m\u001b[0m\u001b[1;33m\u001b[0m\u001b[0m\n\u001b[1;32m----> 8\u001b[1;33m \u001b[0mrename\u001b[0m\u001b[1;33m(\u001b[0m\u001b[0mtarget_file\u001b[0m\u001b[1;33m,\u001b[0m \u001b[0mnew_file\u001b[0m\u001b[1;33m)\u001b[0m\u001b[1;33m\u001b[0m\u001b[1;33m\u001b[0m\u001b[0m\n\u001b[0m\u001b[0;32m      9\u001b[0m \u001b[0mprint\u001b[0m\u001b[1;33m(\u001b[0m\u001b[1;34m'[%s] -> [%s] 로 파일이름이 변경되었습니다.'\u001b[0m \u001b[1;33m%\u001b[0m\u001b[1;33m(\u001b[0m\u001b[0mtarget_file\u001b[0m\u001b[1;33m,\u001b[0m \u001b[0mnew_file\u001b[0m\u001b[1;33m)\u001b[0m\u001b[1;33m)\u001b[0m\u001b[1;33m\u001b[0m\u001b[1;33m\u001b[0m\u001b[0m\n",
      "\u001b[1;31mFileNotFoundError\u001b[0m: [WinError 2] 지정된 파일을 찾을 수 없습니다: './data/mydata.txt' -> ''"
     ]
    }
   ],
   "source": [
    "from os import rename\n",
    "\n",
    "folder_path = './data/'\n",
    "target_file = folder_path + 'mydata.txt'\n",
    "newname = input('[%s]에 대한 새로운 파일 이름을 입력하세요: ' %target_file)\n",
    "\n",
    "new_file = newname\n",
    "rename(target_file, new_file)\n",
    "print('[%s] -> [%s] 로 파일이름이 변경되었습니다.' %(target_file, new_file))"
   ]
  },
  {
   "cell_type": "markdown",
   "metadata": {},
   "source": [
    "### 파일을 다른 디렉터리로 이동하기(osrename)"
   ]
  },
  {
   "cell_type": "code",
   "execution_count": 29,
   "metadata": {},
   "outputs": [
    {
     "name": "stdout",
     "output_type": "stream",
     "text": [
      "[yourdata.txt]를 이동할 디렉터리의 절대경로를 입력하세요: ./Anaconda_src\n",
      "[WinError 2] 지정된 파일을 찾을 수 없습니다: 'yourdata.txt' -> './Anaconda_src/yourdata.txt'\n"
     ]
    }
   ],
   "source": [
    "# 파일을 다른 디렉터리로 이동하기(osrename)\n",
    "from os import rename\n",
    "\n",
    "# target_file = 'yourdata.txt'\n",
    "target_file = new_file\n",
    "newpath = input('[%s]를 이동할 디렉터리의 절대경로를 입력하세요: ' %target_file)\n",
    "\n",
    "if newpath[-1] == '/':\n",
    "    newname = newpath + target_file\n",
    "else:\n",
    "    newname = newpath + '/' + target_file\n",
    "\n",
    "try:\n",
    "    rename(target_file, newname)\n",
    "    print('[%s] -> [%s]로 이동되었습니다.' %(target_file, newname))\n",
    "except FileNotFoundError as e:\n",
    "    print(e)"
   ]
  },
  {
   "cell_type": "markdown",
   "metadata": {},
   "source": [
    "### 디렉터리에 있는 파일목록 얻기(os.listdir, glob.glob) "
   ]
  },
  {
   "cell_type": "code",
   "execution_count": 22,
   "metadata": {},
   "outputs": [
    {
     "name": "stdout",
     "output_type": "stream",
     "text": [
      "['.ipynb_checkpoints', 'company.csv', 'hello.txt', 'Image', 'mydata_copy.txt', 'students.csv', 'subject.txt']\n",
      "['data\\\\hello.txt', 'data\\\\mydata_copy.txt', 'data\\\\subject.txt']\n"
     ]
    }
   ],
   "source": [
    "# 디렉터리에 있는 파일목록 얻기(os.listdir, glob.glob)\n",
    "import os, glob\n",
    "\n",
    "folder = 'data'\n",
    "file_list1 = os.listdir(folder)\n",
    "print(file_list1)\n",
    "\n",
    "files = 'data/*.txt'\n",
    "file_list2 = glob.glob(files)\n",
    "print(file_list2)"
   ]
  },
  {
   "cell_type": "code",
   "execution_count": 24,
   "metadata": {},
   "outputs": [
    {
     "name": "stdout",
     "output_type": "stream",
     "text": [
      " C 드라이브의 볼륨에는 이름이 없습니다.\n",
      " 볼륨 일련 번호: 7E7A-BE66\n",
      "\n",
      " C:\\Users\\SIT302-007\\Anaconda_src 디렉터리\n",
      "\n",
      "2019-08-22  오전 10:30    <DIR>          .\n",
      "2019-08-22  오전 10:30    <DIR>          ..\n",
      "2019-08-22  오전 10:11    <DIR>          .ipynb_checkpoints\n",
      "2019-08-22  오전 10:15    <DIR>          data\n",
      "2019-08-20  오후 04:51             8,794 FileIO Basic.ipynb\n",
      "2019-08-22  오전 10:30            41,790 FileIO OS-CMD.ipynb\n",
      "2019-08-22  오전 09:45                10 yourdata.txt\n",
      "2019-08-20  오후 03:33            24,297 실습1.ipynb\n",
      "               4개 파일              74,891 바이트\n",
      "               4개 디렉터리  81,463,320,576 바이트 남음\n"
     ]
    }
   ],
   "source": [
    "%ls"
   ]
  },
  {
   "cell_type": "markdown",
   "metadata": {},
   "source": [
    "### 현재 디렉터리 확인하고 바꾸기(os.getcwd, os.chdir) "
   ]
  },
  {
   "cell_type": "code",
   "execution_count": 25,
   "metadata": {},
   "outputs": [
    {
     "name": "stdout",
     "output_type": "stream",
     "text": [
      "C:\\Users\\SIT302-007\\Anaconda_src\n",
      "C:\\Users\\SIT302-007\\Anaconda_src\\data\n",
      "C:\\Users\\SIT302-007\\Anaconda_src\n",
      "C:\\Users\\SIT302-007\\Anaconda_src\n"
     ]
    }
   ],
   "source": [
    "import os\n",
    "\n",
    "pdir = os.getcwd() ; print(pdir)\n",
    "os.chdir('data');   print(os.getcwd())\n",
    "os.chdir('..');     print(os.getcwd())\n",
    "os.chdir(pdir);     print(os.getcwd())"
   ]
  },
  {
   "cell_type": "markdown",
   "metadata": {},
   "source": [
    "### 디렉터리 생성하기(osmkdir) "
   ]
  },
  {
   "cell_type": "code",
   "execution_count": 4,
   "metadata": {},
   "outputs": [
    {
     "name": "stdout",
     "output_type": "stream",
     "text": [
      "새로 생성할 디렉터리 이름을 입력하세요: ROA\n",
      "[WinError 183] 파일이 이미 있으므로 만들 수 없습니다: 'ROA'\n"
     ]
    }
   ],
   "source": [
    "# 디렉터리 생성하기(osmkdir)\n",
    "import os\n",
    "\n",
    "newfolder = input('새로 생성할 디렉터리 이름을 입력하세요: ')\n",
    "\n",
    "try:\n",
    "    os.mkdir(newfolder)\n",
    "    print('[%s] 디렉터리를 새로 생성했습니다.' %newfolder)\n",
    "except Exception as e:\n",
    "    print(e)"
   ]
  },
  {
   "cell_type": "markdown",
   "metadata": {},
   "source": [
    "### 디렉터리 제거하기(osrmdir) ¶"
   ]
  },
  {
   "cell_type": "code",
   "execution_count": 5,
   "metadata": {},
   "outputs": [
    {
     "name": "stdout",
     "output_type": "stream",
     "text": [
      "[ROA] 디렉터리를 삭제하겠습니까? (y/n)y\n",
      "[ROA] 디렉터리를 삭제했습니다.\n"
     ]
    }
   ],
   "source": [
    "import os\n",
    "\n",
    "target_folder = newfolder\n",
    "k = input('[%s] 디렉터리를 삭제하겠습니까? (y/n)' %target_folder)\n",
    "if k == 'y':\n",
    "    try:\n",
    "        os.rmdir(target_folder)\n",
    "        print('[%s] 디렉터리를 삭제했습니다.' %target_folder)\n",
    "    except Exception as e:\n",
    "        print(e)"
   ]
  },
  {
   "cell_type": "markdown",
   "metadata": {},
   "source": [
    "### 하위 디렉터리 및 파일 전체 삭제하기(shutil.rmtree)"
   ]
  },
  {
   "cell_type": "code",
   "execution_count": 6,
   "metadata": {},
   "outputs": [
    {
     "name": "stdout",
     "output_type": "stream",
     "text": [
      "[E:/f] 하위 모든 디렉터리 및 파일들을 삭제합니다.\n",
      "asdf.txt\n",
      "[E:/f]를 삭제하겠습니까? (y/n) y\n",
      "[E:/f]의 모든 하위 디렉터리와 파일들을 삭제했습니다.\n"
     ]
    }
   ],
   "source": [
    "# 하위 디렉터리 및 파일 전체 삭제하기(shutil.rmtree)\n",
    "import shutil\n",
    "import os\n",
    "\n",
    "target_folder = 'E:/f'\n",
    "print('[%s] 하위 모든 디렉터리 및 파일들을 삭제합니다.' %target_folder)\n",
    "\n",
    "for file in os.listdir(target_folder):\n",
    "    print(file)\n",
    "k = input('[%s]를 삭제하겠습니까? (y/n) ' %target_folder)\n",
    "\n",
    "if k == 'y':\n",
    "    try:\n",
    "        shutil.rmtree(target_folder)\n",
    "        print('[%s]의 모든 하위 디렉터리와 파일들을 삭제했습니다.' %target_folder)\n",
    "    except Exception as e:\n",
    "        print(e)"
   ]
  },
  {
   "cell_type": "markdown",
   "metadata": {},
   "source": [
    "### 파일이 존재하는지 체크하기(os.pathexists) ¶"
   ]
  },
  {
   "cell_type": "code",
   "execution_count": 8,
   "metadata": {},
   "outputs": [
    {
     "name": "stdout",
     "output_type": "stream",
     "text": [
      "새로 생성할 디렉터리 이름을 입력하세요: ROA\n",
      "[ROA]은(는) 이미 존재합니다.\n"
     ]
    }
   ],
   "source": [
    "# 파일이 존재하는지 체크하기(os.pathexists)\n",
    "import os\n",
    "from os.path import exists\n",
    "\n",
    "dir_name = input('새로 생성할 디렉터리 이름을 입력하세요: ')\n",
    "\n",
    "if not exists(dir_name):\n",
    "    os.mkdir(dir_name)\n",
    "    print('[%s] 디렉터리를 생성했습니다.' %dir_name)\n",
    "else:\n",
    "    print('[%s]은(는) 이미 존재합니다.' %dir_name)"
   ]
  },
  {
   "cell_type": "markdown",
   "metadata": {},
   "source": [
    "### 파일인지 디렉터리인지 확인하기(os.pathisfile, os.pathisdir) "
   ]
  },
  {
   "cell_type": "code",
   "execution_count": 9,
   "metadata": {},
   "outputs": [
    {
     "name": "stdout",
     "output_type": "stream",
     "text": [
      "DIR: .ipynb_checkpoints\n",
      "DIR: data\n",
      "DIR: ROA\n",
      "FILE: FileIO Basic.ipynb\n",
      "FILE: FileIO OS-CMD.ipynb\n",
      "FILE: 실습1.ipynb\n"
     ]
    }
   ],
   "source": [
    "# 파일인지 디렉터리인지 확인하기(os.pathisfile, os.pathisdir)\n",
    "import os\n",
    "from os.path import exists, isdir, isfile\n",
    "\n",
    "# files = os.listdir('..')\n",
    "files = os.listdir()\n",
    "\n",
    "for file in files:\n",
    "    if isdir(file):\n",
    "        print('DIR: %s' %file)\n",
    "\n",
    "for file in files:\n",
    "    if isfile(file):\n",
    "        print('FILE: %s' %file)"
   ]
  },
  {
   "cell_type": "code",
   "execution_count": null,
   "metadata": {},
   "outputs": [],
   "source": []
  }
 ],
 "metadata": {
  "kernelspec": {
   "display_name": "Python 3",
   "language": "python",
   "name": "python3"
  },
  "language_info": {
   "codemirror_mode": {
    "name": "ipython",
    "version": 3
   },
   "file_extension": ".py",
   "mimetype": "text/x-python",
   "name": "python",
   "nbconvert_exporter": "python",
   "pygments_lexer": "ipython3",
   "version": "3.7.3"
  }
 },
 "nbformat": 4,
 "nbformat_minor": 2
}
