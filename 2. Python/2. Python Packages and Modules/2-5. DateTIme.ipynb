{
 "cells": [
  {
   "cell_type": "markdown",
   "metadata": {},
   "source": [
    "# Date, Time"
   ]
  },
  {
   "cell_type": "markdown",
   "metadata": {},
   "source": [
    "### 시간 정보"
   ]
  },
  {
   "cell_type": "code",
   "execution_count": 3,
   "metadata": {},
   "outputs": [
    {
     "name": "stderr",
     "output_type": "stream",
     "text": [
      "C:\\Users\\SIT302-007\\Anaconda_src\\test.log을(를) 찾을 수 없습니다.\n"
     ]
    }
   ],
   "source": [
    "# 현재 시간을 년-월-일 시:분:초로 출력하기(localtime, strftime)\n",
    "from time import localtime, strftime\n",
    "\n",
    "def writelog(logfile, log):\n",
    "    time_stamp = strftime('%Y-%m-%d %X\\t', localtime())\n",
    "    log = time_stamp + log + '\\n'\n",
    "\n",
    "    with open(logfile, 'a') as f:\n",
    "        f.writelines(log)\n",
    "\n",
    "logfile = 'test.log'\n",
    "# ! rm $logfile\n",
    "! del test.log \n",
    "\n",
    "writelog(logfile, '첫번째 로깅 문장입니다.')\n"
   ]
  },
  {
   "cell_type": "code",
   "execution_count": 4,
   "metadata": {},
   "outputs": [
    {
     "name": "stdout",
     "output_type": "stream",
     "text": [
      "2019-08-22 16:32:57\t첫번째 로깅 문장입니다.\n"
     ]
    }
   ],
   "source": [
    "# ! cat $logfile\n",
    "! type test.log"
   ]
  },
  {
   "cell_type": "code",
   "execution_count": null,
   "metadata": {},
   "outputs": [],
   "source": [
    "from time import datetime\n",
    "\n",
    "def getMemorialDay(year, month, day, mem_day, is_msg=True):\n",
    "    \n",
    "    print('오늘은 {}로부터 {}일 경과되었고, 달 수로는 {}개월째, 연수로는 {}년째 되었습니다!!')\n",
    "\n",
    "\n"
   ]
  },
  {
   "cell_type": "code",
   "execution_count": 16,
   "metadata": {},
   "outputs": [
    {
     "ename": "ImportError",
     "evalue": "cannot import name 'datetime' from 'time' (unknown location)",
     "output_type": "error",
     "traceback": [
      "\u001b[1;31m---------------------------------------------------------------------------\u001b[0m",
      "\u001b[1;31mImportError\u001b[0m                               Traceback (most recent call last)",
      "\u001b[1;32m<ipython-input-16-419988af3139>\u001b[0m in \u001b[0;36m<module>\u001b[1;34m\u001b[0m\n\u001b[1;32m----> 1\u001b[1;33m \u001b[1;32mfrom\u001b[0m \u001b[0mtime\u001b[0m \u001b[1;32mimport\u001b[0m \u001b[0mdatetime\u001b[0m\u001b[1;33m\u001b[0m\u001b[1;33m\u001b[0m\u001b[0m\n\u001b[0m\u001b[0;32m      2\u001b[0m \u001b[1;33m\u001b[0m\u001b[0m\n\u001b[0;32m      3\u001b[0m \u001b[0mmem_day\u001b[0m \u001b[1;33m=\u001b[0m \u001b[0mdatetime\u001b[0m\u001b[1;33m(\u001b[0m\u001b[1;36m2002\u001b[0m\u001b[1;33m,\u001b[0m \u001b[1;36m3\u001b[0m\u001b[1;33m,\u001b[0m \u001b[1;36m2\u001b[0m\u001b[1;33m)\u001b[0m\u001b[1;33m\u001b[0m\u001b[1;33m\u001b[0m\u001b[0m\n\u001b[0;32m      4\u001b[0m \u001b[0mmem_day\u001b[0m\u001b[1;33m\u001b[0m\u001b[1;33m\u001b[0m\u001b[0m\n",
      "\u001b[1;31mImportError\u001b[0m: cannot import name 'datetime' from 'time' (unknown location)"
     ]
    }
   ],
   "source": [
    "from time import datetime\n",
    "\n",
    "mem_day = datetime(2002, 3, 2)\n",
    "mem_day"
   ]
  },
  {
   "cell_type": "code",
   "execution_count": null,
   "metadata": {},
   "outputs": [],
   "source": []
  }
 ],
 "metadata": {
  "kernelspec": {
   "display_name": "Python 3",
   "language": "python",
   "name": "python3"
  },
  "language_info": {
   "codemirror_mode": {
    "name": "ipython",
    "version": 3
   },
   "file_extension": ".py",
   "mimetype": "text/x-python",
   "name": "python",
   "nbconvert_exporter": "python",
   "pygments_lexer": "ipython3",
   "version": "3.7.3"
  }
 },
 "nbformat": 4,
 "nbformat_minor": 2
}
