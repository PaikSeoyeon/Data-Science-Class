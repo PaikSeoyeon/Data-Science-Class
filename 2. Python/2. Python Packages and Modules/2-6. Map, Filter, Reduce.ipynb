{
 "cells": [
  {
   "cell_type": "markdown",
   "metadata": {},
   "source": [
    "# Lambda Operator"
   ]
  },
  {
   "cell_type": "markdown",
   "metadata": {},
   "source": [
    "### 일반 함수"
   ]
  },
  {
   "cell_type": "markdown",
   "metadata": {},
   "source": [
    "#### 미션1"
   ]
  },
  {
   "cell_type": "code",
   "execution_count": 13,
   "metadata": {},
   "outputs": [],
   "source": [
    "def get_square(number):\n",
    "    return number ** 2\n",
    "\n",
    "def get_square_list(numbers):\n",
    "    element = []\n",
    "    for number in numbers:\n",
    "        element.append(get_square(number))\n",
    "    return element"
   ]
  },
  {
   "cell_type": "code",
   "execution_count": 6,
   "metadata": {},
   "outputs": [
    {
     "data": {
      "text/plain": [
       "[1, 4, 9, 16, 25, 36, 49, 64, 81, 100]"
      ]
     },
     "execution_count": 6,
     "metadata": {},
     "output_type": "execute_result"
    }
   ],
   "source": [
    "numbers = list(range(1,11))\n",
    "get_square_list(numbers)"
   ]
  },
  {
   "cell_type": "markdown",
   "metadata": {},
   "source": [
    "#### 미션2"
   ]
  },
  {
   "cell_type": "code",
   "execution_count": 7,
   "metadata": {},
   "outputs": [],
   "source": [
    "def get_positive_list(numbers):\n",
    "    elements = []\n",
    "    for number in numbers:\n",
    "        if number > 0:\n",
    "            elements.append(number)\n",
    "    return elements"
   ]
  },
  {
   "cell_type": "code",
   "execution_count": 8,
   "metadata": {},
   "outputs": [
    {
     "data": {
      "text/plain": [
       "[1, 5]"
      ]
     },
     "execution_count": 8,
     "metadata": {},
     "output_type": "execute_result"
    }
   ],
   "source": [
    "numbers = [1, -5, 5, -7]\n",
    "get_positive_list(numbers)"
   ]
  },
  {
   "cell_type": "markdown",
   "metadata": {},
   "source": [
    "# Map, Filter, Reduce"
   ]
  },
  {
   "cell_type": "code",
   "execution_count": 3,
   "metadata": {},
   "outputs": [],
   "source": [
    "from functools import *"
   ]
  },
  {
   "cell_type": "code",
   "execution_count": 16,
   "metadata": {},
   "outputs": [
    {
     "data": {
      "text/plain": [
       "[1, 4, 9, 16, 25]"
      ]
     },
     "execution_count": 16,
     "metadata": {},
     "output_type": "execute_result"
    }
   ],
   "source": [
    "list(map(get_square, [1,2,3,4,5]))"
   ]
  },
  {
   "cell_type": "code",
   "execution_count": 17,
   "metadata": {},
   "outputs": [
    {
     "data": {
      "text/plain": [
       "[1, 4, 9, 16, 25]"
      ]
     },
     "execution_count": 17,
     "metadata": {},
     "output_type": "execute_result"
    }
   ],
   "source": [
    "list(map(lambda x: x**2,\n",
    "        [1,2,3,4,5]))"
   ]
  },
  {
   "cell_type": "code",
   "execution_count": 18,
   "metadata": {},
   "outputs": [
    {
     "data": {
      "text/plain": [
       "[1, 4, 9, 16, 25]"
      ]
     },
     "execution_count": 18,
     "metadata": {},
     "output_type": "execute_result"
    }
   ],
   "source": [
    "def get_square_lit(numbers):\n",
    "    return list(map(lambda x: x **2, numbers))\n",
    "\n",
    "get_square_list([1,2,3,4,5])"
   ]
  },
  {
   "cell_type": "markdown",
   "metadata": {},
   "source": [
    "### filter"
   ]
  },
  {
   "cell_type": "code",
   "execution_count": 19,
   "metadata": {},
   "outputs": [
    {
     "data": {
      "text/plain": [
       "[True, False, True, False]"
      ]
     },
     "execution_count": 19,
     "metadata": {},
     "output_type": "execute_result"
    }
   ],
   "source": [
    "number = [1,-2,3,-4,5]\n",
    "\n",
    "list(map(lambda x: x>0,\n",
    "        numbers))"
   ]
  },
  {
   "cell_type": "code",
   "execution_count": 20,
   "metadata": {},
   "outputs": [
    {
     "data": {
      "text/plain": [
       "[1, 5]"
      ]
     },
     "execution_count": 20,
     "metadata": {},
     "output_type": "execute_result"
    }
   ],
   "source": [
    "list(filter(lambda x: x>0,\n",
    "        numbers))"
   ]
  },
  {
   "cell_type": "code",
   "execution_count": 22,
   "metadata": {},
   "outputs": [
    {
     "data": {
      "text/plain": [
       "[1, 5]"
      ]
     },
     "execution_count": 22,
     "metadata": {},
     "output_type": "execute_result"
    }
   ],
   "source": [
    "def get_positive_list(numbers):\n",
    "    elements=[]\n",
    "    for number in numbers:\n",
    "        if number >0:\n",
    "            elements.append(number)\n",
    "    return elements\n",
    "\n",
    "get_positive_list(numbers)"
   ]
  },
  {
   "cell_type": "code",
   "execution_count": 27,
   "metadata": {},
   "outputs": [
    {
     "data": {
      "text/plain": [
       "[1, 3, 5]"
      ]
     },
     "execution_count": 27,
     "metadata": {},
     "output_type": "execute_result"
    }
   ],
   "source": [
    "#list(filter(lambda x: x>0, numbers))\n",
    "\n",
    "def get_positive_list(numbers):\n",
    "    return list(filter(lambda x:x>0, numbers))\n",
    "\n",
    "get_positive_list([1, -2,  3, -4,  5])\n",
    "\n",
    "#get_positive_list = lambda numbers: list(filter(lambda x: x>0, numbers))"
   ]
  },
  {
   "cell_type": "code",
   "execution_count": 25,
   "metadata": {},
   "outputs": [
    {
     "data": {
      "text/plain": [
       "[1, 3, 5]"
      ]
     },
     "execution_count": 25,
     "metadata": {},
     "output_type": "execute_result"
    }
   ],
   "source": [
    "get_positive_list([1, -2,  3, -4,  5])"
   ]
  },
  {
   "cell_type": "markdown",
   "metadata": {},
   "source": [
    "### reduce"
   ]
  },
  {
   "cell_type": "markdown",
   "metadata": {},
   "source": [
    "- 입력값을 순차적으로 한개씩 받아서 최종 결과값을 갱신한다."
   ]
  },
  {
   "cell_type": "code",
   "execution_count": 28,
   "metadata": {},
   "outputs": [
    {
     "data": {
      "text/plain": [
       "24"
      ]
     },
     "execution_count": 28,
     "metadata": {},
     "output_type": "execute_result"
    }
   ],
   "source": [
    "def get_multiply(numbers):\n",
    "    result = 1\n",
    "    for number in numbers:\n",
    "        result *= number\n",
    "    return result\n",
    "\n",
    "get_multiply([1,2,3,4])"
   ]
  },
  {
   "cell_type": "code",
   "execution_count": 30,
   "metadata": {},
   "outputs": [
    {
     "data": {
      "text/plain": [
       "5"
      ]
     },
     "execution_count": 30,
     "metadata": {},
     "output_type": "execute_result"
    }
   ],
   "source": [
    "def get_max(numbers):\n",
    "    result = 0\n",
    "    for number in numbers:\n",
    "        if result < number:\n",
    "            result = number\n",
    "    return result\n",
    "\n",
    "get_max([3,-1,5,-6])"
   ]
  },
  {
   "cell_type": "code",
   "execution_count": 31,
   "metadata": {},
   "outputs": [
    {
     "data": {
      "text/plain": [
       "5"
      ]
     },
     "execution_count": 31,
     "metadata": {},
     "output_type": "execute_result"
    }
   ],
   "source": [
    "def get_bigger(a,b):\n",
    "    return a if a>b else b\n",
    "\n",
    "reduce(get_bigger, [3,-1,5,-6])"
   ]
  },
  {
   "cell_type": "code",
   "execution_count": 33,
   "metadata": {},
   "outputs": [
    {
     "data": {
      "text/plain": [
       "5"
      ]
     },
     "execution_count": 33,
     "metadata": {},
     "output_type": "execute_result"
    }
   ],
   "source": [
    "reduce(\n",
    "    lambda x, y: x if x > y else y,\n",
    "    [3, -1, 5, -6],\n",
    ")"
   ]
  },
  {
   "cell_type": "code",
   "execution_count": 36,
   "metadata": {},
   "outputs": [
    {
     "data": {
      "text/plain": [
       "5"
      ]
     },
     "execution_count": 36,
     "metadata": {},
     "output_type": "execute_result"
    }
   ],
   "source": [
    "def get_max(numbers):\n",
    "    return reduce(lambda x, y: x if x > y else y, numbers)\n",
    "\n",
    "get_max([3, -1, 5, -6])"
   ]
  },
  {
   "cell_type": "code",
   "execution_count": 41,
   "metadata": {},
   "outputs": [
    {
     "name": "stdout",
     "output_type": "stream",
     "text": [
      "(2, 1)\n",
      "(2, 2)\n",
      "(4, 3)\n",
      "(12, 4)\n",
      "(48, 5)\n"
     ]
    },
    {
     "data": {
      "text/plain": [
       "240"
      ]
     },
     "execution_count": 41,
     "metadata": {},
     "output_type": "execute_result"
    }
   ],
   "source": [
    "def multiply(a,b):\n",
    "    print((a,b))\n",
    "    return a*b\n",
    "\n",
    "reduce(multiply, [1,2,3,4,5], 2)"
   ]
  },
  {
   "cell_type": "markdown",
   "metadata": {},
   "source": [
    "#### 실습. Histogram 함수 작성해보기"
   ]
  },
  {
   "cell_type": "code",
   "execution_count": 5,
   "metadata": {},
   "outputs": [
    {
     "data": {
      "text/plain": [
       "{'cat': 3, 'sheep': 2, 'duck': 4}"
      ]
     },
     "execution_count": 5,
     "metadata": {},
     "output_type": "execute_result"
    }
   ],
   "source": [
    "data = [\"cat\", \"cat\", \"cat\", \"sheep\", \"sheep\", \"duck\", \"duck\", \"duck\", \"duck\" ]\n",
    "\n",
    "\n",
    "reduce(lambda a, b: a.update({b: a.get(b, 0) + 1}) or a,\n",
    "        data,\n",
    "        {}\n",
    "      )\n",
    "    \n",
    "    \n",
    "\n",
    "    "
   ]
  },
  {
   "cell_type": "code",
   "execution_count": 6,
   "metadata": {},
   "outputs": [
    {
     "name": "stdout",
     "output_type": "stream",
     "text": [
      "{'cat': 1} cat\n",
      "{'cat': 2} cat\n",
      "{'cat': 3} cat\n",
      "{'cat': 3, 'sheep': 1} sheep\n",
      "{'cat': 3, 'sheep': 2} sheep\n",
      "{'cat': 3, 'sheep': 2, 'duck': 1} duck\n",
      "{'cat': 3, 'sheep': 2, 'duck': 2} duck\n",
      "{'cat': 3, 'sheep': 2, 'duck': 3} duck\n",
      "{'cat': 3, 'sheep': 2, 'duck': 4} duck\n"
     ]
    },
    {
     "data": {
      "text/plain": [
       "{'cat': 3, 'sheep': 2, 'duck': 4}"
      ]
     },
     "execution_count": 6,
     "metadata": {},
     "output_type": "execute_result"
    }
   ],
   "source": [
    "data = [\"cat\", \"cat\", \"cat\", \"sheep\", \"sheep\", \"duck\", \"duck\", \"duck\", \"duck\" ]\n",
    "\n",
    "def get_count(result, param):\n",
    "    \n",
    "    if result.get(param):\n",
    "        result[param]+=1\n",
    "    else:\n",
    "        result[param] = 1\n",
    "        \n",
    "    print(result, param)\n",
    "    return result\n",
    "\n",
    "\n",
    "reduce(\n",
    "    get_count,\n",
    "    data,\n",
    "    {}\n",
    ")"
   ]
  },
  {
   "cell_type": "code",
   "execution_count": 8,
   "metadata": {},
   "outputs": [
    {
     "name": "stdout",
     "output_type": "stream",
     "text": [
      "{'cat': 1} cat\n",
      "{'cat': 2} cat\n",
      "{'cat': 3} cat\n",
      "{'cat': 3, 'sheep': 1} sheep\n",
      "{'cat': 3, 'sheep': 2} sheep\n",
      "{'cat': 3, 'sheep': 2, 'duck': 1} duck\n",
      "{'cat': 3, 'sheep': 2, 'duck': 2} duck\n",
      "{'cat': 3, 'sheep': 2, 'duck': 3} duck\n",
      "{'cat': 3, 'sheep': 2, 'duck': 4} duck\n"
     ]
    }
   ],
   "source": [
    "result = reduce(get_count,data,{})"
   ]
  },
  {
   "cell_type": "code",
   "execution_count": 9,
   "metadata": {},
   "outputs": [
    {
     "data": {
      "text/plain": [
       "{'cat': 3, 'sheep': 2, 'duck': 4}"
      ]
     },
     "execution_count": 9,
     "metadata": {},
     "output_type": "execute_result"
    }
   ],
   "source": [
    "result"
   ]
  },
  {
   "cell_type": "code",
   "execution_count": 10,
   "metadata": {},
   "outputs": [
    {
     "name": "stdout",
     "output_type": "stream",
     "text": [
      "cat 3\n",
      "sheep 2\n",
      "duck 4\n"
     ]
    }
   ],
   "source": [
    "rouw = []\n",
    "for key, value in result.items():\n",
    "    row = \"[key]{value_count}\"\n",
    "    print(key, value)"
   ]
  },
  {
   "cell_type": "code",
   "execution_count": null,
   "metadata": {},
   "outputs": [],
   "source": []
  }
 ],
 "metadata": {
  "kernelspec": {
   "display_name": "Python 3",
   "language": "python",
   "name": "python3"
  },
  "language_info": {
   "codemirror_mode": {
    "name": "ipython",
    "version": 3
   },
   "file_extension": ".py",
   "mimetype": "text/x-python",
   "name": "python",
   "nbconvert_exporter": "python",
   "pygments_lexer": "ipython3",
   "version": "3.7.3"
  }
 },
 "nbformat": 4,
 "nbformat_minor": 2
}
