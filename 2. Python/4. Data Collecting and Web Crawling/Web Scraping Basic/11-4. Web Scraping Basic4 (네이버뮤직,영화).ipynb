{
 "cells": [
  {
   "cell_type": "code",
   "execution_count": 1,
   "metadata": {},
   "outputs": [],
   "source": [
    "import glob\n",
    "import time\n",
    "from datetime import datetime\n",
    "\n",
    "import os\n",
    "from os.path import exists\n",
    "\n",
    "import requests\n",
    "from bs4 import BeautifulSoup"
   ]
  },
  {
   "cell_type": "markdown",
   "metadata": {},
   "source": [
    "#### 주간 음악 순위 : NAVER MUSIC TOP 100"
   ]
  },
  {
   "cell_type": "code",
   "execution_count": 3,
   "metadata": {},
   "outputs": [
    {
     "data": {
      "text/plain": [
       "<title>TOP 100 차트 히스토리 : 네이버 뮤직</title>"
      ]
     },
     "execution_count": 3,
     "metadata": {},
     "output_type": "execute_result"
    }
   ],
   "source": [
    "url = 'https://music.naver.com/listen/history/index.nhn?type=TOTAL_V2&year=2019&month=08&week=0'\n",
    "\n",
    "html_music = requests.get(url).text\n",
    "soup_music = BeautifulSoup(html_music, \"lxml\")\n",
    "soup_music.title"
   ]
  },
  {
   "cell_type": "markdown",
   "metadata": {},
   "source": [
    "#### # _title 정보"
   ]
  },
  {
   "cell_type": "code",
   "execution_count": 4,
   "metadata": {},
   "outputs": [
    {
     "data": {
      "text/plain": [
       "50"
      ]
     },
     "execution_count": 4,
     "metadata": {},
     "output_type": "execute_result"
    }
   ],
   "source": [
    "# a 태그의 요소 중에서 Class 속성값이 \"_title\" 인것을 찾고,\n",
    "# 그 안에서 span 태그의 요소 중에서 class 속성값이 \"ellipasis\" 인 요소를 추출\n",
    "\n",
    "titles= soup_music.select('a._title span.ellipsis')\n",
    "len(titles)"
   ]
  },
  {
   "cell_type": "code",
   "execution_count": 5,
   "metadata": {},
   "outputs": [
    {
     "data": {
      "text/plain": [
       "[<span class=\"ellipsis\">그대라는 시</span>,\n",
       " <span class=\"ellipsis\">술이 문제야</span>,\n",
       " <span class=\"ellipsis\">ICY</span>,\n",
       " <span class=\"ellipsis\">헤어져줘서 고마워</span>,\n",
       " <span class=\"ellipsis\">기억해줘요 내 모든 날과 그때를</span>,\n",
       " <span class=\"ellipsis\">2002</span>,\n",
       " <span class=\"ellipsis\">나의 어깨에 기대어요</span>,\n",
       " <span class=\"ellipsis\">니 소식</span>,\n",
       " <span class=\"ellipsis\">사랑에 연습이 있었다면 (Prod. 2soo)</span>,\n",
       " <span class=\"ellipsis\">Snapping</span>]"
      ]
     },
     "execution_count": 5,
     "metadata": {},
     "output_type": "execute_result"
    }
   ],
   "source": [
    "titles[0:10]"
   ]
  },
  {
   "cell_type": "code",
   "execution_count": 6,
   "metadata": {},
   "outputs": [],
   "source": [
    "music_titles = [title.get_text() for title in titles]"
   ]
  },
  {
   "cell_type": "code",
   "execution_count": 8,
   "metadata": {},
   "outputs": [
    {
     "data": {
      "text/plain": [
       "['그대라는 시',\n",
       " '술이 문제야',\n",
       " 'ICY',\n",
       " '헤어져줘서 고마워',\n",
       " '기억해줘요 내 모든 날과 그때를',\n",
       " '2002',\n",
       " '나의 어깨에 기대어요',\n",
       " '니 소식',\n",
       " '사랑에 연습이 있었다면 (Prod. 2soo)',\n",
       " 'Snapping']"
      ]
     },
     "execution_count": 8,
     "metadata": {},
     "output_type": "execute_result"
    }
   ],
   "source": [
    "music_titles[:10]"
   ]
  },
  {
   "cell_type": "markdown",
   "metadata": {},
   "source": [
    "#### # _artist 정보"
   ]
  },
  {
   "cell_type": "code",
   "execution_count": 21,
   "metadata": {},
   "outputs": [
    {
     "data": {
      "text/plain": [
       "42"
      ]
     },
     "execution_count": 21,
     "metadata": {},
     "output_type": "execute_result"
    }
   ],
   "source": [
    "artists = soup_music.select('a._artist span.ellipsis')\n",
    "len(artists)"
   ]
  },
  {
   "cell_type": "code",
   "execution_count": 10,
   "metadata": {},
   "outputs": [
    {
     "data": {
      "text/plain": [
       "'\\r\\n\\t\\t\\t\\r\\n\\t\\t\\t\\r\\n\\t\\t\\t태연 (TAEYEON)\\r\\n\\t\\t'"
      ]
     },
     "execution_count": 10,
     "metadata": {},
     "output_type": "execute_result"
    }
   ],
   "source": [
    "artists[0].get_text()"
   ]
  },
  {
   "cell_type": "code",
   "execution_count": 11,
   "metadata": {},
   "outputs": [
    {
     "data": {
      "text/plain": [
       "'태연 (TAEYEON)'"
      ]
     },
     "execution_count": 11,
     "metadata": {},
     "output_type": "execute_result"
    }
   ],
   "source": [
    "artists[0].get_text().strip()"
   ]
  },
  {
   "cell_type": "code",
   "execution_count": 12,
   "metadata": {},
   "outputs": [],
   "source": [
    "music_artists = [artist.get_text().strip() for artist in artists]"
   ]
  },
  {
   "cell_type": "code",
   "execution_count": 13,
   "metadata": {},
   "outputs": [
    {
     "data": {
      "text/plain": [
       "42"
      ]
     },
     "execution_count": 13,
     "metadata": {},
     "output_type": "execute_result"
    }
   ],
   "source": [
    "len(music_artists)"
   ]
  },
  {
   "cell_type": "code",
   "execution_count": 14,
   "metadata": {},
   "outputs": [
    {
     "data": {
      "text/plain": [
       "['잔나비',\n",
       " '헤이즈 (Heize)',\n",
       " 'Shawn Mendes',\n",
       " '볼빨간사춘기',\n",
       " '벤',\n",
       " '전소미',\n",
       " '먼데이키즈(Monday Kiz)',\n",
       " '장범준',\n",
       " 'TWICE(트와이스)',\n",
       " 'IZ*ONE(아이즈원)']"
      ]
     },
     "execution_count": 14,
     "metadata": {},
     "output_type": "execute_result"
    }
   ],
   "source": [
    "music_artists[-10:]"
   ]
  },
  {
   "cell_type": "markdown",
   "metadata": {},
   "source": [
    "####  #_artist 정보 → again"
   ]
  },
  {
   "cell_type": "code",
   "execution_count": 23,
   "metadata": {},
   "outputs": [
    {
     "data": {
      "text/plain": [
       "50"
      ]
     },
     "execution_count": 23,
     "metadata": {},
     "output_type": "execute_result"
    }
   ],
   "source": [
    "artists = soup_music.select('td._artist a')\n",
    "len(artists)"
   ]
  },
  {
   "cell_type": "code",
   "execution_count": 24,
   "metadata": {},
   "outputs": [
    {
     "data": {
      "text/plain": [
       "<a class=\"_artist NPI=a:artist,r:1,i:35551\" href=\"/artist/home.nhn?artistId=35551\" title=\"태연 (TAEYEON)\">\n",
       "<span class=\"ellipsis\">\n",
       "\t\t\t\n",
       "\t\t\t\n",
       "\t\t\t태연 (TAEYEON)\n",
       "\t\t</span>\n",
       "</a>"
      ]
     },
     "execution_count": 24,
     "metadata": {},
     "output_type": "execute_result"
    }
   ],
   "source": [
    "artists[0]"
   ]
  },
  {
   "cell_type": "code",
   "execution_count": 25,
   "metadata": {},
   "outputs": [
    {
     "data": {
      "text/plain": [
       "50"
      ]
     },
     "execution_count": 25,
     "metadata": {},
     "output_type": "execute_result"
    }
   ],
   "source": [
    "music_artists = [artist.get_text().strip() for artist in artists]\n",
    "len(music_artists)"
   ]
  },
  {
   "cell_type": "code",
   "execution_count": null,
   "metadata": {},
   "outputs": [],
   "source": []
  },
  {
   "cell_type": "code",
   "execution_count": 26,
   "metadata": {},
   "outputs": [
    {
     "name": "stdout",
     "output_type": "stream",
     "text": [
      "1: 그대라는 시 / 태연 (TAEYEON)\n",
      "2: 술이 문제야 / 장혜진\n",
      "3: ICY / ITZY(있지)\n",
      "4: 헤어져줘서 고마워 / 벤\n",
      "5: 기억해줘요 내 모든 날과 그때를 / 거미\n",
      "6: 나의 어깨에 기대어요 / 10cm\n",
      "7: 니 소식 / 송하예\n",
      "8: 사랑에 연습이 있었다면 (Prod. 2soo) / 임재현\n",
      "9: Snapping / 청하\n",
      "10: 작은 것들을 위한 시 (Boy With Luv) (Feat. Halsey) / 방탄소년단\n"
     ]
    }
   ],
   "source": [
    "type_dict = { '종합' : 'TOTAL_V2', \n",
    "              '국내' : 'DOMESTIC_V2', \n",
    "              '해외' : 'OVERSEA_V2'  } \n",
    "\n",
    "url = 'https://music.naver.com/listen/history/index.nhn?type={type}&year={year}&month={month}&week={week}'.format(\n",
    "            type  = type_dict['국내'], \n",
    "            year  = '2019',\n",
    "            month = '08',\n",
    "            week  = '0' \n",
    "       )\n",
    "\n",
    "html_music = requests.get(url).text\n",
    "soup_music = BeautifulSoup(html_music, \"lxml\")\n",
    "\n",
    "titles  = soup_music.select('a._title span.ellipsis') \n",
    "artists = soup_music.select('td._artist a')\n",
    "\n",
    "music_titles  = [title.get_text() for title in titles]\n",
    "music_artists = [artist.get_text().strip() for artist in artists]\n",
    "\n",
    "for k in range(10):\n",
    "    print(\"{0}: {1} / {2}\".format(k+1, music_titles[k], music_artists[k]))"
   ]
  },
  {
   "cell_type": "code",
   "execution_count": 27,
   "metadata": {},
   "outputs": [],
   "source": [
    "music_titles_artists={}\n",
    "ranking = 0\n",
    "\n",
    "for (music_title, music_artist) in zip(music_titles, music_artists):\n",
    "    ranking += 1\n",
    "    music_titles_artists[ranking] = [music_title, music_artist]"
   ]
  },
  {
   "cell_type": "code",
   "execution_count": 30,
   "metadata": {},
   "outputs": [
    {
     "data": {
      "text/plain": [
       "['그대라는 시', '태연 (TAEYEON)']"
      ]
     },
     "execution_count": 30,
     "metadata": {},
     "output_type": "execute_result"
    }
   ],
   "source": [
    "music_titles_artists[1]"
   ]
  },
  {
   "cell_type": "code",
   "execution_count": 31,
   "metadata": {},
   "outputs": [
    {
     "data": {
      "text/plain": [
       "(2019, 9, 5)"
      ]
     },
     "execution_count": 31,
     "metadata": {},
     "output_type": "execute_result"
    }
   ],
   "source": [
    "now = datetime.now()\n",
    "now.year, now.month, now.day"
   ]
  },
  {
   "cell_type": "code",
   "execution_count": 32,
   "metadata": {},
   "outputs": [
    {
     "data": {
      "text/plain": [
       "int"
      ]
     },
     "execution_count": 32,
     "metadata": {},
     "output_type": "execute_result"
    }
   ],
   "source": [
    "type(now.year)"
   ]
  },
  {
   "cell_type": "code",
   "execution_count": 33,
   "metadata": {},
   "outputs": [
    {
     "data": {
      "text/plain": [
       "'12'"
      ]
     },
     "execution_count": 33,
     "metadata": {},
     "output_type": "execute_result"
    }
   ],
   "source": [
    "month = now.month\n",
    "month = 12\n",
    "month = str(1) if not str(month).isdigit() else str(month)\n",
    "month = '0'+month if len(month)==1 else month\n",
    "month"
   ]
  },
  {
   "cell_type": "code",
   "execution_count": 35,
   "metadata": {},
   "outputs": [
    {
     "data": {
      "text/plain": [
       "'9'"
      ]
     },
     "execution_count": 35,
     "metadata": {},
     "output_type": "execute_result"
    }
   ],
   "source": [
    "month = now.month\n",
    "str(month)"
   ]
  },
  {
   "cell_type": "code",
   "execution_count": null,
   "metadata": {},
   "outputs": [],
   "source": []
  }
 ],
 "metadata": {
  "kernelspec": {
   "display_name": "Python 3",
   "language": "python",
   "name": "python3"
  },
  "language_info": {
   "codemirror_mode": {
    "name": "ipython",
    "version": 3
   },
   "file_extension": ".py",
   "mimetype": "text/x-python",
   "name": "python",
   "nbconvert_exporter": "python",
   "pygments_lexer": "ipython3",
   "version": "3.7.3"
  }
 },
 "nbformat": 4,
 "nbformat_minor": 2
}
