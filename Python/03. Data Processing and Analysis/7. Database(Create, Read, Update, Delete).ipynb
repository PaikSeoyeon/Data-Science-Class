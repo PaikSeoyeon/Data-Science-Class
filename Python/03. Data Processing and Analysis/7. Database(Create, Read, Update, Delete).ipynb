{
 "cells": [
  {
   "cell_type": "markdown",
   "metadata": {},
   "source": [
    "# 데이터베이스, DB SQL"
   ]
  },
  {
   "cell_type": "code",
   "execution_count": 1,
   "metadata": {},
   "outputs": [],
   "source": [
    "import sqlite3\n",
    "\n",
    "db_name = './database/my_books.db'"
   ]
  },
  {
   "cell_type": "code",
   "execution_count": 2,
   "metadata": {},
   "outputs": [
    {
     "data": {
      "text/plain": [
       "'C:\\\\Users\\\\SIT302-007\\\\Anaconda_src'"
      ]
     },
     "execution_count": 2,
     "metadata": {},
     "output_type": "execute_result"
    }
   ],
   "source": [
    "%pwd"
   ]
  },
  {
   "cell_type": "markdown",
   "metadata": {},
   "source": [
    "### 테이블 생성"
   ]
  },
  {
   "cell_type": "code",
   "execution_count": 5,
   "metadata": {},
   "outputs": [],
   "source": [
    "def create_table(db_name, db_sql):\n",
    "    \"\"\"\n",
    "    데이터베이스 테이블을 생성하는 함수\n",
    "    Args:\n",
    "        db_name : Database Name\n",
    "        db_sql  : Query for creating Table\n",
    "    Returns : \n",
    "        is_success : Boolean \n",
    "    \"\"\"\n",
    "    is_success = True\n",
    "    \n",
    "    try :\n",
    "        # 데이터베이스 커넥션 생성\n",
    "        conn = sqlite3.connect(db_name)  \n",
    "\n",
    "        # 커서 확보\n",
    "        cur = conn.cursor()  \n",
    "\n",
    "        # 테이블 생성\n",
    "        cur.execute(db_sql)\n",
    "    \n",
    "    # except OperationalError as e:\n",
    "    #     is_success = False\n",
    "    #     print('Error:', e)\n",
    "        \n",
    "    except:\n",
    "        is_success = False\n",
    "        print(\"Database Error!\")\n",
    "        \n",
    "    finally :        \n",
    "        if is_success:\n",
    "            # 데이터베이스 반영\n",
    "            conn.commit()  \n",
    "        else:\n",
    "            # 데이터베이스 철회\n",
    "            conn.rollback()\n",
    "            \n",
    "        # 데이터베이스 커넥션 닫기\n",
    "        # print('Finish process of function.')\n",
    "        conn.close()\n",
    "    \n",
    "    return is_success"
   ]
  },
  {
   "cell_type": "code",
   "execution_count": 6,
   "metadata": {},
   "outputs": [],
   "source": [
    "import os\n",
    "from os.path import exists"
   ]
  },
  {
   "cell_type": "code",
   "execution_count": 7,
   "metadata": {},
   "outputs": [],
   "source": [
    "# Database 파일 삭제\n",
    "db_name = './database/my_books.db'\n",
    "os.remove(db_name)"
   ]
  },
  {
   "cell_type": "code",
   "execution_count": 8,
   "metadata": {},
   "outputs": [
    {
     "name": "stdout",
     "output_type": "stream",
     "text": [
      "[database]은(는) 이미 존재합니다.\n"
     ]
    }
   ],
   "source": [
    "dir_name = 'database'\n",
    "\n",
    "if not exists(dir_name):\n",
    "    os.mkdir(dir_name)\n",
    "    print('[%s] 디렉터리를 생성했습니다.' %dir_name)\n",
    "else:\n",
    "    print('[%s]은(는) 이미 존재합니다.' %dir_name)"
   ]
  },
  {
   "cell_type": "code",
   "execution_count": 9,
   "metadata": {},
   "outputs": [
    {
     "name": "stdout",
     "output_type": "stream",
     "text": [
      "테이블이 성공적으로 생성되었습니다.\n"
     ]
    }
   ],
   "source": [
    "db_sql  = '''\n",
    "CREATE TABLE my_books (\n",
    "    title text,\n",
    "    published_date text,\n",
    "    publisher text,\n",
    "    pages integer,\n",
    "    recommendation integer\n",
    ")\n",
    "'''\n",
    "\n",
    "if create_table(db_name, db_sql):\n",
    "    print('테이블이 성공적으로 생성되었습니다.')\n",
    "else :\n",
    "    print('테이블이 생성되지 않았습니다')"
   ]
  },
  {
   "cell_type": "markdown",
   "metadata": {},
   "source": [
    "### 데이터 등록"
   ]
  },
  {
   "cell_type": "code",
   "execution_count": 45,
   "metadata": {},
   "outputs": [],
   "source": [
    "import sqlite3\n",
    "\n",
    "def insert_books(db_name):\n",
    "    is_success = True\n",
    "    \n",
    "    try:\n",
    "        conn = sqlite3.connect(db_name)\n",
    "        cur = conn.cursor()\n",
    "        \n",
    "        db_sql = \"INSERT INTO my_books VALUES ('메가트랜드', '2002. 03. 02', 'A', 200, 0)\"\n",
    "        cur.execute(db_sql)\n",
    "        \n",
    "        db_sql = 'INSERT INTO my_books VALUES (?, ?, ?, ?, ?)'\n",
    "        cur.execute(db_sql, ('인더스트리 4.0', '2016.07.09','B', 584, 1))\n",
    "        \n",
    "        books = [\n",
    "            ('유니콘 스타트업', '2011.07.15','A', 248, 1),\n",
    "            ('빅데이터 마케팅', '2012.08.25','A', 296, 1),\n",
    "            ('사물인터넷 전망', '2013.08.22','B', 526, 0)\n",
    "        ]\n",
    "        cur.executemany(db_sql, books)\n",
    "        \n",
    "    except:\n",
    "        is_success = False\n",
    "        print(\"Database Error!\")\n",
    "        \n",
    "    finally:\n",
    "        if is_success:\n",
    "            conn.commit()\n",
    "        else:\n",
    "            conn.rollback()\n",
    "            \n",
    "        conn.close()\n",
    "        \n",
    "    return is_success\n"
   ]
  },
  {
   "cell_type": "code",
   "execution_count": 46,
   "metadata": {},
   "outputs": [
    {
     "name": "stdout",
     "output_type": "stream",
     "text": [
      "데이터가 성공적으로 등록되었습니다.\n"
     ]
    }
   ],
   "source": [
    "if insert_books(db_name):\n",
    "    print('데이터가 성공적으로 등록되었습니다.')\n",
    "else :\n",
    "    print('데이터가 등록되지 않았습니다')"
   ]
  },
  {
   "cell_type": "markdown",
   "metadata": {},
   "source": [
    "### 데이터 조회"
   ]
  },
  {
   "cell_type": "code",
   "execution_count": 12,
   "metadata": {},
   "outputs": [],
   "source": [
    "import pandas as pd"
   ]
  },
  {
   "cell_type": "code",
   "execution_count": 13,
   "metadata": {},
   "outputs": [],
   "source": [
    "import pandas as pd\n",
    "\n",
    "def getBooksDF(books):\n",
    "    ret_df = pd.DataFrame()\n",
    "    \n",
    "    title          = list()\n",
    "    published_date = list()\n",
    "    publisher      = list()\n",
    "    pages          = list()\n",
    "    recommendation = list()\n",
    "\n",
    "    column_name = ['title', 'published_date', 'publisher', 'pages', 'recommendation']\n",
    "    for book in books:\n",
    "        # print(book)\n",
    "        # for value in book:\n",
    "        #     print(value, end=\" | \")\n",
    "        title         .append(book[0])\n",
    "        published_date.append(book[1])\n",
    "        publisher     .append(book[2])\n",
    "        pages         .append(book[3])\n",
    "        recommendation.append(book[4])\n",
    "\n",
    "    data = {\n",
    "        'title'          : title         ,\n",
    "        'published_date' : published_date,\n",
    "        'publisher'      : publisher     ,\n",
    "        'pages'          : pages         ,\n",
    "        'recommendation' : recommendation\n",
    "    }\n",
    "\n",
    "    ret_df = pd.DataFrame(data, columns=column_name)\n",
    "    \n",
    "    return ret_df"
   ]
  },
  {
   "cell_type": "code",
   "execution_count": 14,
   "metadata": {},
   "outputs": [],
   "source": [
    "import sqlite3\n",
    "import pandas as pd\n",
    "\n",
    "def select_all_books(db_name):\n",
    "    \"\"\"\n",
    "    전체 데이터를 조회하는 함수\n",
    "    Args:\n",
    "        db_name : Database Name\n",
    "    Returns :\n",
    "        is_success : Boolean \n",
    "        ret_df : DataFrame of books\n",
    "    \"\"\"\n",
    "    ret_df = pd.DataFrame()\n",
    "    is_success = True\n",
    "    \n",
    "    try:\n",
    "        # 데이터베이스 커넥션 생성\n",
    "        conn = sqlite3.connect(db_name) \n",
    "\n",
    "        # 커서 확보\n",
    "        cur = conn.cursor()  \n",
    "\n",
    "        # 조회용 SQL 실행\n",
    "        db_sql = \"SELECT * FROM my_books\"\n",
    "        cur.execute(db_sql) \n",
    "\n",
    "        # 조회한 데이터 불러오기\n",
    "        print('[1] 전체 데이터 출력하기')\n",
    "        books = cur.fetchall()                          \n",
    "\n",
    "        ret_df = getBooksDF(books)\n",
    "        \n",
    "        # 데이터 출력하기\n",
    "        # for book in books:                              \n",
    "        #     print(book)\n",
    "     \n",
    "    except:\n",
    "        is_success = False\n",
    "        print(\"Database Error!\")\n",
    "        \n",
    "    finally : \n",
    "        # 데이터베이스 커넥션 닫기\n",
    "        conn.close()\n",
    "        \n",
    "    return is_success, ret_df"
   ]
  },
  {
   "cell_type": "code",
   "execution_count": 15,
   "metadata": {},
   "outputs": [
    {
     "name": "stdout",
     "output_type": "stream",
     "text": [
      "[1] 전체 데이터 출력하기\n",
      "조회된 데이터는 총 5 건 입니다.\n"
     ]
    },
    {
     "data": {
      "text/html": [
       "<div>\n",
       "<style scoped>\n",
       "    .dataframe tbody tr th:only-of-type {\n",
       "        vertical-align: middle;\n",
       "    }\n",
       "\n",
       "    .dataframe tbody tr th {\n",
       "        vertical-align: top;\n",
       "    }\n",
       "\n",
       "    .dataframe thead th {\n",
       "        text-align: right;\n",
       "    }\n",
       "</style>\n",
       "<table border=\"1\" class=\"dataframe\">\n",
       "  <thead>\n",
       "    <tr style=\"text-align: right;\">\n",
       "      <th></th>\n",
       "      <th>title</th>\n",
       "      <th>published_date</th>\n",
       "      <th>publisher</th>\n",
       "      <th>pages</th>\n",
       "      <th>recommendation</th>\n",
       "    </tr>\n",
       "  </thead>\n",
       "  <tbody>\n",
       "    <tr>\n",
       "      <th>0</th>\n",
       "      <td>메가트랜드</td>\n",
       "      <td>2002. 03. 02</td>\n",
       "      <td>A</td>\n",
       "      <td>200</td>\n",
       "      <td>0</td>\n",
       "    </tr>\n",
       "    <tr>\n",
       "      <th>1</th>\n",
       "      <td>인더스트리 4.0</td>\n",
       "      <td>2016.07.09</td>\n",
       "      <td>B</td>\n",
       "      <td>584</td>\n",
       "      <td>1</td>\n",
       "    </tr>\n",
       "    <tr>\n",
       "      <th>2</th>\n",
       "      <td>유니콘 스타트업</td>\n",
       "      <td>2011.07.15</td>\n",
       "      <td>A</td>\n",
       "      <td>248</td>\n",
       "      <td>1</td>\n",
       "    </tr>\n",
       "    <tr>\n",
       "      <th>3</th>\n",
       "      <td>빅데이터 마케팅</td>\n",
       "      <td>2012.08.25</td>\n",
       "      <td>A</td>\n",
       "      <td>296</td>\n",
       "      <td>1</td>\n",
       "    </tr>\n",
       "    <tr>\n",
       "      <th>4</th>\n",
       "      <td>사물인터넷 전망</td>\n",
       "      <td>2013.08.22</td>\n",
       "      <td>B</td>\n",
       "      <td>526</td>\n",
       "      <td>0</td>\n",
       "    </tr>\n",
       "  </tbody>\n",
       "</table>\n",
       "</div>"
      ],
      "text/plain": [
       "       title published_date publisher  pages  recommendation\n",
       "0      메가트랜드   2002. 03. 02         A    200               0\n",
       "1  인더스트리 4.0     2016.07.09         B    584               1\n",
       "2   유니콘 스타트업     2011.07.15         A    248               1\n",
       "3   빅데이터 마케팅     2012.08.25         A    296               1\n",
       "4   사물인터넷 전망     2013.08.22         B    526               0"
      ]
     },
     "execution_count": 15,
     "metadata": {},
     "output_type": "execute_result"
    }
   ],
   "source": [
    "is_success, books_df = select_all_books(db_name)\n",
    "if is_success:\n",
    "    print('조회된 데이터는 총 %d 건 입니다.'%len(books_df))\n",
    "else :\n",
    "    print('데이터를 조회하지 못했습니다')\n",
    "\n",
    "books_df"
   ]
  },
  {
   "cell_type": "code",
   "execution_count": 16,
   "metadata": {},
   "outputs": [
    {
     "name": "stdout",
     "output_type": "stream",
     "text": [
      "[1] 전체 데이터 출력하기\n"
     ]
    },
    {
     "data": {
      "text/plain": [
       "(True,        title published_date publisher  pages  recommendation\n",
       " 0      메가트랜드   2002. 03. 02         A    200               0\n",
       " 1  인더스트리 4.0     2016.07.09         B    584               1\n",
       " 2   유니콘 스타트업     2011.07.15         A    248               1\n",
       " 3   빅데이터 마케팅     2012.08.25         A    296               1\n",
       " 4   사물인터넷 전망     2013.08.22         B    526               0)"
      ]
     },
     "execution_count": 16,
     "metadata": {},
     "output_type": "execute_result"
    }
   ],
   "source": [
    "select_all_books(db_name)"
   ]
  },
  {
   "cell_type": "code",
   "execution_count": 17,
   "metadata": {},
   "outputs": [],
   "source": [
    "# 일부 조회용 함수\n",
    "def select_some_books(db_name, number):\n",
    "    \"\"\"\n",
    "    일부 데이터를 조회하는 함수\n",
    "    Args:\n",
    "        db_name : Database Name\n",
    "        number  : Count of data to query\n",
    "    Returns : \n",
    "        is_success : Boolean \n",
    "        ret_df : DataFrame of books\n",
    "    \"\"\"\n",
    "    ret_df = pd.DataFrame()\n",
    "    is_success = True\n",
    "    \n",
    "    try:\n",
    "        # 데이터베이스 커넥션 생성\n",
    "        conn = sqlite3.connect(db_name) \n",
    "\n",
    "        # 커서 확보\n",
    "        cur = conn.cursor()  \n",
    "\n",
    "        # 조회용 SQL 실행\n",
    "        db_sql = \"SELECT * FROM my_books\"\n",
    "        cur.execute(db_sql) \n",
    "\n",
    "        # 조회한 데이터 일부 불러오기\n",
    "        print('[2] 데이터 일부 출력하기')\n",
    "        books = cur.fetchmany(number)                   \n",
    "\n",
    "        ret_df = getBooksDF(books)\n",
    "     \n",
    "    except:\n",
    "        is_success = False\n",
    "        print(\"Database Error!\")\n",
    "        \n",
    "    finally : \n",
    "        # 데이터베이스 커넥션 닫기\n",
    "        conn.close()\n",
    "        \n",
    "    return is_success, ret_df  "
   ]
  },
  {
   "cell_type": "code",
   "execution_count": 18,
   "metadata": {},
   "outputs": [
    {
     "name": "stdout",
     "output_type": "stream",
     "text": [
      "[2] 데이터 일부 출력하기\n",
      "조회된 데이터는 총 3 건 입니다.\n"
     ]
    },
    {
     "data": {
      "text/html": [
       "<div>\n",
       "<style scoped>\n",
       "    .dataframe tbody tr th:only-of-type {\n",
       "        vertical-align: middle;\n",
       "    }\n",
       "\n",
       "    .dataframe tbody tr th {\n",
       "        vertical-align: top;\n",
       "    }\n",
       "\n",
       "    .dataframe thead th {\n",
       "        text-align: right;\n",
       "    }\n",
       "</style>\n",
       "<table border=\"1\" class=\"dataframe\">\n",
       "  <thead>\n",
       "    <tr style=\"text-align: right;\">\n",
       "      <th></th>\n",
       "      <th>title</th>\n",
       "      <th>published_date</th>\n",
       "      <th>publisher</th>\n",
       "      <th>pages</th>\n",
       "      <th>recommendation</th>\n",
       "    </tr>\n",
       "  </thead>\n",
       "  <tbody>\n",
       "    <tr>\n",
       "      <th>0</th>\n",
       "      <td>메가트랜드</td>\n",
       "      <td>2002. 03. 02</td>\n",
       "      <td>A</td>\n",
       "      <td>200</td>\n",
       "      <td>0</td>\n",
       "    </tr>\n",
       "    <tr>\n",
       "      <th>1</th>\n",
       "      <td>인더스트리 4.0</td>\n",
       "      <td>2016.07.09</td>\n",
       "      <td>B</td>\n",
       "      <td>584</td>\n",
       "      <td>1</td>\n",
       "    </tr>\n",
       "    <tr>\n",
       "      <th>2</th>\n",
       "      <td>유니콘 스타트업</td>\n",
       "      <td>2011.07.15</td>\n",
       "      <td>A</td>\n",
       "      <td>248</td>\n",
       "      <td>1</td>\n",
       "    </tr>\n",
       "  </tbody>\n",
       "</table>\n",
       "</div>"
      ],
      "text/plain": [
       "       title published_date publisher  pages  recommendation\n",
       "0      메가트랜드   2002. 03. 02         A    200               0\n",
       "1  인더스트리 4.0     2016.07.09         B    584               1\n",
       "2   유니콘 스타트업     2011.07.15         A    248               1"
      ]
     },
     "execution_count": 18,
     "metadata": {},
     "output_type": "execute_result"
    }
   ],
   "source": [
    "# select_some_books(db_name, number=3)\n",
    "\n",
    "is_success, books_df = select_some_books(db_name, number=3)\n",
    "if is_success:\n",
    "    print('조회된 데이터는 총 %d 건 입니다.'%len(books_df))\n",
    "else :\n",
    "    print('데이터를 조회하지 못했습니다')\n",
    "\n",
    "books_df"
   ]
  },
  {
   "cell_type": "code",
   "execution_count": 19,
   "metadata": {},
   "outputs": [],
   "source": [
    "# 1개 조회용 함수\n",
    "def select_one_book(db_name):\n",
    "    \"\"\"\n",
    "    최상단 하나의 데이터를 조회하는 함수\n",
    "    Args:\n",
    "        db_name : Database Name\n",
    "    Returns : \n",
    "        is_success : Boolean \n",
    "        ret_df : DataFrame of books\n",
    "    \"\"\"\n",
    "    ret_df = pd.DataFrame()\n",
    "    is_success = True\n",
    "    \n",
    "    try:\n",
    "        # 데이터베이스 커넥션 생성\n",
    "        conn = sqlite3.connect(db_name) \n",
    "\n",
    "        # 커서 확보\n",
    "        cur = conn.cursor()  \n",
    "\n",
    "        # 조회용 SQL 실행\n",
    "        db_sql = \"SELECT * FROM my_books \"\n",
    "        cur.execute(db_sql) \n",
    "\n",
    "        # 데이터 한개 출력하기\n",
    "        print('[3] 1개 데이터 출력하기')\n",
    "        # print(cur.fetchone())                          \n",
    "        book = cur.fetchone()\n",
    "        books = [book]\n",
    "        ret_df = getBooksDF(books)\n",
    "     \n",
    "    except:\n",
    "        is_success = False\n",
    "        print(\"Database Error!\")\n",
    "        \n",
    "    finally : \n",
    "        # 데이터베이스 커넥션 닫기\n",
    "        conn.close()\n",
    "        \n",
    "    return is_success, ret_df          "
   ]
  },
  {
   "cell_type": "code",
   "execution_count": 20,
   "metadata": {},
   "outputs": [
    {
     "name": "stdout",
     "output_type": "stream",
     "text": [
      "[3] 1개 데이터 출력하기\n",
      "하나의 데이터를 성공적으로 조회하였습니다.\n"
     ]
    },
    {
     "data": {
      "text/html": [
       "<div>\n",
       "<style scoped>\n",
       "    .dataframe tbody tr th:only-of-type {\n",
       "        vertical-align: middle;\n",
       "    }\n",
       "\n",
       "    .dataframe tbody tr th {\n",
       "        vertical-align: top;\n",
       "    }\n",
       "\n",
       "    .dataframe thead th {\n",
       "        text-align: right;\n",
       "    }\n",
       "</style>\n",
       "<table border=\"1\" class=\"dataframe\">\n",
       "  <thead>\n",
       "    <tr style=\"text-align: right;\">\n",
       "      <th></th>\n",
       "      <th>title</th>\n",
       "      <th>published_date</th>\n",
       "      <th>publisher</th>\n",
       "      <th>pages</th>\n",
       "      <th>recommendation</th>\n",
       "    </tr>\n",
       "  </thead>\n",
       "  <tbody>\n",
       "    <tr>\n",
       "      <th>0</th>\n",
       "      <td>메가트랜드</td>\n",
       "      <td>2002. 03. 02</td>\n",
       "      <td>A</td>\n",
       "      <td>200</td>\n",
       "      <td>0</td>\n",
       "    </tr>\n",
       "  </tbody>\n",
       "</table>\n",
       "</div>"
      ],
      "text/plain": [
       "   title published_date publisher  pages  recommendation\n",
       "0  메가트랜드   2002. 03. 02         A    200               0"
      ]
     },
     "execution_count": 20,
     "metadata": {},
     "output_type": "execute_result"
    }
   ],
   "source": [
    "# select_one_book(db_name) \n",
    "\n",
    "is_success, books_df = select_one_book(db_name) \n",
    "if is_success:\n",
    "    print('하나의 데이터를 성공적으로 조회하였습니다.')\n",
    "else :\n",
    "    print('데이터를 조회하지 못했습니다')\n",
    "\n",
    "books_df"
   ]
  },
  {
   "cell_type": "code",
   "execution_count": 21,
   "metadata": {},
   "outputs": [],
   "source": [
    "# 쪽수 많은 책 조회용 함수\n",
    "def find_big_books(db_name):\n",
    "    \"\"\"\n",
    "    조건에 맞는 데이터를 조회하는 함수\n",
    "    조건 : 페이지수가 300쪽보다 큰 데이터\n",
    "    Args:\n",
    "        db_name : Database Name\n",
    "    Returns : \n",
    "        is_success : Boolean \n",
    "        ret_df : DataFrame of books\n",
    "    \"\"\"\n",
    "    ret_df = pd.DataFrame()\n",
    "    is_success = True\n",
    "    \n",
    "    try:\n",
    "        # 데이터베이스 커넥션 생성\n",
    "        conn = sqlite3.connect(db_name) \n",
    "\n",
    "        # 커서 확보\n",
    "        cur = conn.cursor()  \n",
    "\n",
    "        # 조회용 SQL 실행\n",
    "        # db_sql = \"SELECT title, pages FROM my_books \"\n",
    "        db_sql = \"SELECT * FROM my_books \"\n",
    "        db_sql+= \"WHERE pages > 300\"\n",
    "        cur.execute(db_sql) \n",
    "\n",
    "        # 조회한 데이터 불러오기\n",
    "        print('[4] 페이지 많은 책 출력하기')\n",
    "        books = cur.fetchall()\n",
    "        \n",
    "        ret_df = getBooksDF(books)\n",
    "\n",
    "    except:\n",
    "        is_success = False\n",
    "        print(\"Database Error!\")\n",
    "        \n",
    "    finally : \n",
    "        # 데이터베이스 커넥션 닫기\n",
    "        conn.close()\n",
    "        \n",
    "    return is_success, ret_df       "
   ]
  },
  {
   "cell_type": "code",
   "execution_count": 22,
   "metadata": {},
   "outputs": [
    {
     "name": "stdout",
     "output_type": "stream",
     "text": [
      "[4] 페이지 많은 책 출력하기\n",
      "조건에 맞는 데이터는 총 2 건 입니다.(조건:pages>300)\n"
     ]
    },
    {
     "data": {
      "text/html": [
       "<div>\n",
       "<style scoped>\n",
       "    .dataframe tbody tr th:only-of-type {\n",
       "        vertical-align: middle;\n",
       "    }\n",
       "\n",
       "    .dataframe tbody tr th {\n",
       "        vertical-align: top;\n",
       "    }\n",
       "\n",
       "    .dataframe thead th {\n",
       "        text-align: right;\n",
       "    }\n",
       "</style>\n",
       "<table border=\"1\" class=\"dataframe\">\n",
       "  <thead>\n",
       "    <tr style=\"text-align: right;\">\n",
       "      <th></th>\n",
       "      <th>title</th>\n",
       "      <th>published_date</th>\n",
       "      <th>publisher</th>\n",
       "      <th>pages</th>\n",
       "      <th>recommendation</th>\n",
       "    </tr>\n",
       "  </thead>\n",
       "  <tbody>\n",
       "    <tr>\n",
       "      <th>0</th>\n",
       "      <td>인더스트리 4.0</td>\n",
       "      <td>2016.07.09</td>\n",
       "      <td>B</td>\n",
       "      <td>584</td>\n",
       "      <td>1</td>\n",
       "    </tr>\n",
       "    <tr>\n",
       "      <th>1</th>\n",
       "      <td>사물인터넷 전망</td>\n",
       "      <td>2013.08.22</td>\n",
       "      <td>B</td>\n",
       "      <td>526</td>\n",
       "      <td>0</td>\n",
       "    </tr>\n",
       "  </tbody>\n",
       "</table>\n",
       "</div>"
      ],
      "text/plain": [
       "       title published_date publisher  pages  recommendation\n",
       "0  인더스트리 4.0     2016.07.09         B    584               1\n",
       "1   사물인터넷 전망     2013.08.22         B    526               0"
      ]
     },
     "execution_count": 22,
     "metadata": {},
     "output_type": "execute_result"
    }
   ],
   "source": [
    "# find_big_books(db_name)\n",
    "\n",
    "is_success, books_df = find_big_books(db_name)\n",
    "if is_success:\n",
    "    print('조건에 맞는 데이터는 총 %d 건 입니다.(조건:pages>300)'%len(books_df))\n",
    "else :\n",
    "    print('데이터를 조회하지 못했습니다')\n",
    "\n",
    "books_df"
   ]
  },
  {
   "cell_type": "code",
   "execution_count": 58,
   "metadata": {},
   "outputs": [],
   "source": [
    "# 쪽수 많은 책 조회용 함수\n",
    "def find_book_title(db_name, title):\n",
    "\n",
    "    ret_df = pd.DataFrame()\n",
    "    is_success = True\n",
    "    \n",
    "    \n",
    "    try:\n",
    "        conn = sqlite3.connect(db_name) \n",
    "        cur = conn.cursor()  \n",
    "        db_sql = \"SELECT * FROM my_books \"\n",
    "        db_sql+= \"WHERE title like '%{}%'\"\n",
    "#         print(db_sql.format(title))\n",
    "        cur.execute(db_sql.format(title)) \n",
    "\n",
    "        # 조회한 데이터 불러오기\n",
    "        print('[5] 타이틀로 책 출력하기')\n",
    "        books = cur.fetchall()\n",
    "        \n",
    "        ret_df = getBooksDF(books)\n",
    "\n",
    "    except:\n",
    "        is_success = False\n",
    "        print(\"Database Error!\")\n",
    "        \n",
    "    finally : \n",
    "        # 데이터베이스 커넥션 닫기\n",
    "        conn.close()\n",
    "        \n",
    "    return is_success, ret_df"
   ]
  },
  {
   "cell_type": "code",
   "execution_count": 59,
   "metadata": {},
   "outputs": [
    {
     "name": "stdout",
     "output_type": "stream",
     "text": [
      "[5] 타이틀로 책 출력하기\n",
      "조건에 맞는 데이터는 총 1 건 입니다.\n"
     ]
    },
    {
     "data": {
      "text/html": [
       "<div>\n",
       "<style scoped>\n",
       "    .dataframe tbody tr th:only-of-type {\n",
       "        vertical-align: middle;\n",
       "    }\n",
       "\n",
       "    .dataframe tbody tr th {\n",
       "        vertical-align: top;\n",
       "    }\n",
       "\n",
       "    .dataframe thead th {\n",
       "        text-align: right;\n",
       "    }\n",
       "</style>\n",
       "<table border=\"1\" class=\"dataframe\">\n",
       "  <thead>\n",
       "    <tr style=\"text-align: right;\">\n",
       "      <th></th>\n",
       "      <th>title</th>\n",
       "      <th>published_date</th>\n",
       "      <th>publisher</th>\n",
       "      <th>pages</th>\n",
       "      <th>recommendation</th>\n",
       "    </tr>\n",
       "  </thead>\n",
       "  <tbody>\n",
       "    <tr>\n",
       "      <th>0</th>\n",
       "      <td>빅데이터 마케팅</td>\n",
       "      <td>2012.08.25</td>\n",
       "      <td>A</td>\n",
       "      <td>296</td>\n",
       "      <td>1</td>\n",
       "    </tr>\n",
       "  </tbody>\n",
       "</table>\n",
       "</div>"
      ],
      "text/plain": [
       "      title published_date publisher  pages  recommendation\n",
       "0  빅데이터 마케팅     2012.08.25         A    296               1"
      ]
     },
     "execution_count": 59,
     "metadata": {},
     "output_type": "execute_result"
    }
   ],
   "source": [
    "title = '빅데이터 마케팅'\n",
    "is_success, books_df = find_book_title(db_name, title)\n",
    "\n",
    "if is_success:\n",
    "    print('조건에 맞는 데이터는 총 %d 건 입니다.'%len(books_df))\n",
    "else :\n",
    "    print('데이터를 조회하지 못했습니다')\n",
    "\n",
    "books_df"
   ]
  },
  {
   "cell_type": "markdown",
   "metadata": {},
   "source": [
    "### 데이터 갱신"
   ]
  },
  {
   "cell_type": "code",
   "execution_count": 25,
   "metadata": {},
   "outputs": [],
   "source": [
    "import sqlite3 \n",
    "\n",
    "def update_books(db_name):\n",
    "    \"\"\"\n",
    "    데이터를 수정하는 함수\n",
    "    Args:\n",
    "        db_name : Database Name\n",
    "    Returns : \n",
    "        is_success : Boolean \n",
    "    \"\"\"\n",
    "    is_success = True\n",
    "    chk_point = 0\n",
    "    \n",
    "    try:\n",
    "        # 데이터베이스 커넥션 생성\n",
    "        conn = sqlite3.connect(db_name) \n",
    "        chk_point = 1\n",
    "\n",
    "        # 커서 확보\n",
    "        cur = conn.cursor()  \n",
    "        chk_point = 2\n",
    "\n",
    "        # 데이터 수정 SQL ( 제목이 ? 인 책의 추천 유무를 ? 로 변경하라 )\n",
    "        db_sql = \"UPDATE my_books SET recommendation=? WHERE title=? \"\n",
    "        print(\"SQL : {}\".format(db_sql))\n",
    "        chk_point = 3\n",
    "\n",
    "        # 수정 SQL 실행\n",
    "        cur.execute(db_sql, (1, '메가트랜드'))\n",
    "#         cur.execute(db_sql, (1, '메가트랜드'))\n",
    "        chk_point = 4\n",
    "\n",
    "    except:\n",
    "        is_success = False\n",
    "        print(\"Database Error! {}단계\".format(chk_point))\n",
    "        \n",
    "    finally :      \n",
    "        if is_success:\n",
    "            # 데이터베이스 반영\n",
    "            conn.commit()  \n",
    "        else:\n",
    "            # 데이터베이스 철회\n",
    "            conn.rollback()\n",
    "            \n",
    "        # 데이터베이스 커넥션 닫기\n",
    "        conn.close()\n",
    "    \n",
    "    return is_success "
   ]
  },
  {
   "cell_type": "code",
   "execution_count": 26,
   "metadata": {},
   "outputs": [
    {
     "name": "stdout",
     "output_type": "stream",
     "text": [
      "[3] 1개 데이터 출력하기\n",
      "SQL : UPDATE my_books SET recommendation=? WHERE title=? \n",
      "데이터가 성공적으로 수정되었습니다.\n",
      "[3] 1개 데이터 출력하기\n"
     ]
    },
    {
     "data": {
      "text/html": [
       "<div>\n",
       "<style scoped>\n",
       "    .dataframe tbody tr th:only-of-type {\n",
       "        vertical-align: middle;\n",
       "    }\n",
       "\n",
       "    .dataframe tbody tr th {\n",
       "        vertical-align: top;\n",
       "    }\n",
       "\n",
       "    .dataframe thead th {\n",
       "        text-align: right;\n",
       "    }\n",
       "</style>\n",
       "<table border=\"1\" class=\"dataframe\">\n",
       "  <thead>\n",
       "    <tr style=\"text-align: right;\">\n",
       "      <th></th>\n",
       "      <th>title</th>\n",
       "      <th>published_date</th>\n",
       "      <th>publisher</th>\n",
       "      <th>pages</th>\n",
       "      <th>recommendation</th>\n",
       "    </tr>\n",
       "    <tr>\n",
       "      <th>update</th>\n",
       "      <th></th>\n",
       "      <th></th>\n",
       "      <th></th>\n",
       "      <th></th>\n",
       "      <th></th>\n",
       "    </tr>\n",
       "  </thead>\n",
       "  <tbody>\n",
       "    <tr>\n",
       "      <th>수정전</th>\n",
       "      <td>메가트랜드</td>\n",
       "      <td>2002. 03. 02</td>\n",
       "      <td>A</td>\n",
       "      <td>200</td>\n",
       "      <td>0</td>\n",
       "    </tr>\n",
       "    <tr>\n",
       "      <th>수정후</th>\n",
       "      <td>메가트랜드</td>\n",
       "      <td>2002. 03. 02</td>\n",
       "      <td>A</td>\n",
       "      <td>200</td>\n",
       "      <td>1</td>\n",
       "    </tr>\n",
       "  </tbody>\n",
       "</table>\n",
       "</div>"
      ],
      "text/plain": [
       "        title published_date publisher  pages  recommendation\n",
       "update                                                       \n",
       "수정전     메가트랜드   2002. 03. 02         A    200               0\n",
       "수정후     메가트랜드   2002. 03. 02         A    200               1"
      ]
     },
     "execution_count": 26,
     "metadata": {},
     "output_type": "execute_result"
    }
   ],
   "source": [
    "is_success, books_df1 = select_one_book(db_name) \n",
    "\n",
    "if update_books(db_name):\n",
    "    print('데이터가 성공적으로 수정되었습니다.')\n",
    "else :\n",
    "    print('데이터가 수정되지 않았습니다')\n",
    "    \n",
    "is_success, books_df2 = select_one_book(db_name) \n",
    "\n",
    "books_df = pd.concat([books_df1, books_df2], axis=0)\n",
    "books_df['update'] = ['수정전', '수정후']\n",
    "books_df.set_index('update', inplace=True)\n",
    "books_df"
   ]
  },
  {
   "cell_type": "code",
   "execution_count": 28,
   "metadata": {},
   "outputs": [
    {
     "name": "stdout",
     "output_type": "stream",
     "text": [
      "[1] 전체 데이터 출력하기\n",
      "조회된 데이터는 총 5 건 입니다.\n"
     ]
    },
    {
     "data": {
      "text/html": [
       "<div>\n",
       "<style scoped>\n",
       "    .dataframe tbody tr th:only-of-type {\n",
       "        vertical-align: middle;\n",
       "    }\n",
       "\n",
       "    .dataframe tbody tr th {\n",
       "        vertical-align: top;\n",
       "    }\n",
       "\n",
       "    .dataframe thead th {\n",
       "        text-align: right;\n",
       "    }\n",
       "</style>\n",
       "<table border=\"1\" class=\"dataframe\">\n",
       "  <thead>\n",
       "    <tr style=\"text-align: right;\">\n",
       "      <th></th>\n",
       "      <th>title</th>\n",
       "      <th>published_date</th>\n",
       "      <th>publisher</th>\n",
       "      <th>pages</th>\n",
       "      <th>recommendation</th>\n",
       "    </tr>\n",
       "  </thead>\n",
       "  <tbody>\n",
       "    <tr>\n",
       "      <th>0</th>\n",
       "      <td>메가트랜드</td>\n",
       "      <td>2002. 03. 02</td>\n",
       "      <td>A</td>\n",
       "      <td>200</td>\n",
       "      <td>1</td>\n",
       "    </tr>\n",
       "    <tr>\n",
       "      <th>1</th>\n",
       "      <td>인더스트리 4.0</td>\n",
       "      <td>2016.07.09</td>\n",
       "      <td>B</td>\n",
       "      <td>584</td>\n",
       "      <td>1</td>\n",
       "    </tr>\n",
       "    <tr>\n",
       "      <th>2</th>\n",
       "      <td>유니콘 스타트업</td>\n",
       "      <td>2011.07.15</td>\n",
       "      <td>A</td>\n",
       "      <td>248</td>\n",
       "      <td>1</td>\n",
       "    </tr>\n",
       "    <tr>\n",
       "      <th>3</th>\n",
       "      <td>빅데이터 마케팅</td>\n",
       "      <td>2012.08.25</td>\n",
       "      <td>A</td>\n",
       "      <td>296</td>\n",
       "      <td>1</td>\n",
       "    </tr>\n",
       "    <tr>\n",
       "      <th>4</th>\n",
       "      <td>사물인터넷 전망</td>\n",
       "      <td>2013.08.22</td>\n",
       "      <td>B</td>\n",
       "      <td>526</td>\n",
       "      <td>0</td>\n",
       "    </tr>\n",
       "  </tbody>\n",
       "</table>\n",
       "</div>"
      ],
      "text/plain": [
       "       title published_date publisher  pages  recommendation\n",
       "0      메가트랜드   2002. 03. 02         A    200               1\n",
       "1  인더스트리 4.0     2016.07.09         B    584               1\n",
       "2   유니콘 스타트업     2011.07.15         A    248               1\n",
       "3   빅데이터 마케팅     2012.08.25         A    296               1\n",
       "4   사물인터넷 전망     2013.08.22         B    526               0"
      ]
     },
     "execution_count": 28,
     "metadata": {},
     "output_type": "execute_result"
    }
   ],
   "source": [
    "is_success, books_df = select_all_books(db_name)\n",
    "if is_success:\n",
    "    print('조회된 데이터는 총 %d 건 입니다.'%len(books_df))\n",
    "else :\n",
    "    print('데이터를 조회하지 못했습니다')\n",
    "\n",
    "books_df"
   ]
  },
  {
   "cell_type": "markdown",
   "metadata": {},
   "source": [
    "### 데이터 삭제"
   ]
  },
  {
   "cell_type": "code",
   "execution_count": 54,
   "metadata": {},
   "outputs": [],
   "source": [
    "import sqlite3 \n",
    "\n",
    "# 데이터 삭제용 함수\n",
    "def delete_books_by_title(db_name, title):\n",
    "    is_success = True\n",
    "    \n",
    "    try:    \n",
    "\n",
    "        conn = sqlite3.connect(db_name) \n",
    "        cur = conn.cursor()  \n",
    "\n",
    "        # 데이터 삭제 SQL\n",
    "        db_sql = \"DELETE FROM my_books \"\n",
    "        db_sql+= \"WHERE title = ?      \"\n",
    "\n",
    "        # 수정 SQL 실행\n",
    "#         print('db_sql:', db_sql)\n",
    "#         print('title:', title)\n",
    "        cur.execute(db_sql, (title,))\n",
    "#         count = cur.execute(db_sql, (title,))\n",
    "#         print('count:', type(count), count)\n",
    "        \n",
    "    except:\n",
    "        is_success = False\n",
    "        print(\"Database Error!\")\n",
    "        \n",
    "    finally :      \n",
    "        if is_success:\n",
    "            conn.commit()  \n",
    "        else:\n",
    "            conn.rollback()\n",
    "\n",
    "        conn.close()\n",
    "    \n",
    "    return is_success  \n"
   ]
  },
  {
   "cell_type": "code",
   "execution_count": 55,
   "metadata": {},
   "outputs": [
    {
     "name": "stdout",
     "output_type": "stream",
     "text": [
      "데이터가 성공적으로 삭제되었습니다.\n",
      "[1] 전체 데이터 출력하기\n"
     ]
    },
    {
     "data": {
      "text/html": [
       "<div>\n",
       "<style scoped>\n",
       "    .dataframe tbody tr th:only-of-type {\n",
       "        vertical-align: middle;\n",
       "    }\n",
       "\n",
       "    .dataframe tbody tr th {\n",
       "        vertical-align: top;\n",
       "    }\n",
       "\n",
       "    .dataframe thead th {\n",
       "        text-align: right;\n",
       "    }\n",
       "</style>\n",
       "<table border=\"1\" class=\"dataframe\">\n",
       "  <thead>\n",
       "    <tr style=\"text-align: right;\">\n",
       "      <th></th>\n",
       "      <th>title</th>\n",
       "      <th>published_date</th>\n",
       "      <th>publisher</th>\n",
       "      <th>pages</th>\n",
       "      <th>recommendation</th>\n",
       "    </tr>\n",
       "  </thead>\n",
       "  <tbody>\n",
       "    <tr>\n",
       "      <th>0</th>\n",
       "      <td>유니콘 스타트업</td>\n",
       "      <td>2011.07.15</td>\n",
       "      <td>A</td>\n",
       "      <td>248</td>\n",
       "      <td>1</td>\n",
       "    </tr>\n",
       "    <tr>\n",
       "      <th>1</th>\n",
       "      <td>빅데이터 마케팅</td>\n",
       "      <td>2012.08.25</td>\n",
       "      <td>A</td>\n",
       "      <td>296</td>\n",
       "      <td>1</td>\n",
       "    </tr>\n",
       "    <tr>\n",
       "      <th>2</th>\n",
       "      <td>사물인터넷 전망</td>\n",
       "      <td>2013.08.22</td>\n",
       "      <td>B</td>\n",
       "      <td>526</td>\n",
       "      <td>0</td>\n",
       "    </tr>\n",
       "  </tbody>\n",
       "</table>\n",
       "</div>"
      ],
      "text/plain": [
       "      title published_date publisher  pages  recommendation\n",
       "0  유니콘 스타트업     2011.07.15         A    248               1\n",
       "1  빅데이터 마케팅     2012.08.25         A    296               1\n",
       "2  사물인터넷 전망     2013.08.22         B    526               0"
      ]
     },
     "execution_count": 55,
     "metadata": {},
     "output_type": "execute_result"
    }
   ],
   "source": [
    "title = '메가트랜드'\n",
    "\n",
    "if delete_books_by_title(db_name, title):\n",
    "    print('데이터가 성공적으로 삭제되었습니다.')\n",
    "else :\n",
    "    print('데이터가 삭제되지 않았습니다')\n",
    "\n",
    "is_success, books_df = select_all_books(db_name) \n",
    "books_df"
   ]
  },
  {
   "cell_type": "code",
   "execution_count": 35,
   "metadata": {},
   "outputs": [],
   "source": [
    "def delete_books(db_name, col_name, col_val):\n",
    "    \"\"\"\n",
    "    조건에 맞는 데이터를 삭제하는 함수\n",
    "    Args:\n",
    "        db_name  : Database Name\n",
    "        col_name : Column Name\n",
    "        col_val  : Column Value\n",
    "    Returns : \n",
    "        is_success : Boolean \n",
    "    \"\"\"\n",
    "    is_success = True\n",
    "    \n",
    "    try: \n",
    "        conn = sqlite3.connect(db_name) \n",
    "        cur = conn.cursor()  \n",
    "\n",
    "\n",
    "        # 데이터 삭제 SQL\n",
    "        # db_sql = \"DELETE FROM my_books \"\n",
    "        # db_sql+= \"WHERE {} = '{}' \"\n",
    "        # db_sql = db_sql.format(col_name, col_val)\n",
    "        # cur.execute(db_sql)    \n",
    "\n",
    "        # # 데이터 삭제 SQL\n",
    "        db_sql = 'DELETE FROM my_books '\n",
    "        db_sql+= 'WHERE {} = ? '\n",
    "        db_sql = db_sql.format(col_name)\n",
    "\n",
    "        # 수정 SQL 실행\n",
    "        cur.execute(db_sql, (col_val,))\n",
    "\n",
    "    except:\n",
    "        is_success = False\n",
    "        print(\"Database Error!\")\n",
    "        \n",
    "    finally :      \n",
    "        if is_success:\n",
    "            # 데이터베이스 반영\n",
    "            conn.commit()  \n",
    "        else:\n",
    "            # 데이터베이스 철회\n",
    "            conn.rollback()\n",
    "            \n",
    "        # 데이터베이스 커넥션 닫기\n",
    "        conn.close()\n",
    "    \n",
    "    return is_success   "
   ]
  },
  {
   "cell_type": "code",
   "execution_count": 36,
   "metadata": {},
   "outputs": [
    {
     "name": "stdout",
     "output_type": "stream",
     "text": [
      "[1] 전체 데이터 출력하기\n"
     ]
    },
    {
     "data": {
      "text/html": [
       "<div>\n",
       "<style scoped>\n",
       "    .dataframe tbody tr th:only-of-type {\n",
       "        vertical-align: middle;\n",
       "    }\n",
       "\n",
       "    .dataframe tbody tr th {\n",
       "        vertical-align: top;\n",
       "    }\n",
       "\n",
       "    .dataframe thead th {\n",
       "        text-align: right;\n",
       "    }\n",
       "</style>\n",
       "<table border=\"1\" class=\"dataframe\">\n",
       "  <thead>\n",
       "    <tr style=\"text-align: right;\">\n",
       "      <th></th>\n",
       "      <th>title</th>\n",
       "      <th>published_date</th>\n",
       "      <th>publisher</th>\n",
       "      <th>pages</th>\n",
       "      <th>recommendation</th>\n",
       "    </tr>\n",
       "  </thead>\n",
       "  <tbody>\n",
       "    <tr>\n",
       "      <th>0</th>\n",
       "      <td>인더스트리 4.0</td>\n",
       "      <td>2016.07.09</td>\n",
       "      <td>B</td>\n",
       "      <td>584</td>\n",
       "      <td>1</td>\n",
       "    </tr>\n",
       "    <tr>\n",
       "      <th>1</th>\n",
       "      <td>유니콘 스타트업</td>\n",
       "      <td>2011.07.15</td>\n",
       "      <td>A</td>\n",
       "      <td>248</td>\n",
       "      <td>1</td>\n",
       "    </tr>\n",
       "    <tr>\n",
       "      <th>2</th>\n",
       "      <td>빅데이터 마케팅</td>\n",
       "      <td>2012.08.25</td>\n",
       "      <td>A</td>\n",
       "      <td>296</td>\n",
       "      <td>1</td>\n",
       "    </tr>\n",
       "    <tr>\n",
       "      <th>3</th>\n",
       "      <td>사물인터넷 전망</td>\n",
       "      <td>2013.08.22</td>\n",
       "      <td>B</td>\n",
       "      <td>526</td>\n",
       "      <td>0</td>\n",
       "    </tr>\n",
       "  </tbody>\n",
       "</table>\n",
       "</div>"
      ],
      "text/plain": [
       "       title published_date publisher  pages  recommendation\n",
       "0  인더스트리 4.0     2016.07.09         B    584               1\n",
       "1   유니콘 스타트업     2011.07.15         A    248               1\n",
       "2   빅데이터 마케팅     2012.08.25         A    296               1\n",
       "3   사물인터넷 전망     2013.08.22         B    526               0"
      ]
     },
     "execution_count": 36,
     "metadata": {},
     "output_type": "execute_result"
    }
   ],
   "source": [
    "is_success, books_df = select_all_books(db_name) \n",
    "books_df"
   ]
  },
  {
   "cell_type": "code",
   "execution_count": 37,
   "metadata": {},
   "outputs": [
    {
     "name": "stdout",
     "output_type": "stream",
     "text": [
      "데이터가 성공적으로 삭제되었습니다.\n",
      "[1] 전체 데이터 출력하기\n"
     ]
    },
    {
     "data": {
      "text/html": [
       "<div>\n",
       "<style scoped>\n",
       "    .dataframe tbody tr th:only-of-type {\n",
       "        vertical-align: middle;\n",
       "    }\n",
       "\n",
       "    .dataframe tbody tr th {\n",
       "        vertical-align: top;\n",
       "    }\n",
       "\n",
       "    .dataframe thead th {\n",
       "        text-align: right;\n",
       "    }\n",
       "</style>\n",
       "<table border=\"1\" class=\"dataframe\">\n",
       "  <thead>\n",
       "    <tr style=\"text-align: right;\">\n",
       "      <th></th>\n",
       "      <th>title</th>\n",
       "      <th>published_date</th>\n",
       "      <th>publisher</th>\n",
       "      <th>pages</th>\n",
       "      <th>recommendation</th>\n",
       "    </tr>\n",
       "  </thead>\n",
       "  <tbody>\n",
       "    <tr>\n",
       "      <th>0</th>\n",
       "      <td>인더스트리 4.0</td>\n",
       "      <td>2016.07.09</td>\n",
       "      <td>B</td>\n",
       "      <td>584</td>\n",
       "      <td>1</td>\n",
       "    </tr>\n",
       "    <tr>\n",
       "      <th>1</th>\n",
       "      <td>사물인터넷 전망</td>\n",
       "      <td>2013.08.22</td>\n",
       "      <td>B</td>\n",
       "      <td>526</td>\n",
       "      <td>0</td>\n",
       "    </tr>\n",
       "  </tbody>\n",
       "</table>\n",
       "</div>"
      ],
      "text/plain": [
       "       title published_date publisher  pages  recommendation\n",
       "0  인더스트리 4.0     2016.07.09         B    584               1\n",
       "1   사물인터넷 전망     2013.08.22         B    526               0"
      ]
     },
     "execution_count": 37,
     "metadata": {},
     "output_type": "execute_result"
    }
   ],
   "source": [
    "col_name = 'publisher'\n",
    "col_val  = 'A'\n",
    "if delete_books(db_name, col_name, col_val):\n",
    "    print('데이터가 성공적으로 삭제되었습니다.')\n",
    "else :\n",
    "    print('데이터가 삭제되지 않았습니다')\n",
    "\n",
    "is_success, books_df = select_all_books(db_name) \n",
    "books_df"
   ]
  },
  {
   "cell_type": "code",
   "execution_count": 38,
   "metadata": {},
   "outputs": [
    {
     "name": "stdout",
     "output_type": "stream",
     "text": [
      "데이터가 성공적으로 삭제되었습니다.\n",
      "[1] 전체 데이터 출력하기\n"
     ]
    },
    {
     "data": {
      "text/html": [
       "<div>\n",
       "<style scoped>\n",
       "    .dataframe tbody tr th:only-of-type {\n",
       "        vertical-align: middle;\n",
       "    }\n",
       "\n",
       "    .dataframe tbody tr th {\n",
       "        vertical-align: top;\n",
       "    }\n",
       "\n",
       "    .dataframe thead th {\n",
       "        text-align: right;\n",
       "    }\n",
       "</style>\n",
       "<table border=\"1\" class=\"dataframe\">\n",
       "  <thead>\n",
       "    <tr style=\"text-align: right;\">\n",
       "      <th></th>\n",
       "      <th>title</th>\n",
       "      <th>published_date</th>\n",
       "      <th>publisher</th>\n",
       "      <th>pages</th>\n",
       "      <th>recommendation</th>\n",
       "    </tr>\n",
       "  </thead>\n",
       "  <tbody>\n",
       "    <tr>\n",
       "      <th>0</th>\n",
       "      <td>인더스트리 4.0</td>\n",
       "      <td>2016.07.09</td>\n",
       "      <td>B</td>\n",
       "      <td>584</td>\n",
       "      <td>1</td>\n",
       "    </tr>\n",
       "  </tbody>\n",
       "</table>\n",
       "</div>"
      ],
      "text/plain": [
       "       title published_date publisher  pages  recommendation\n",
       "0  인더스트리 4.0     2016.07.09         B    584               1"
      ]
     },
     "execution_count": 38,
     "metadata": {},
     "output_type": "execute_result"
    }
   ],
   "source": [
    "col_name = 'title'\n",
    "col_val  = '사물인터넷 전망'\n",
    "if delete_books(db_name, col_name, col_val):\n",
    "    print('데이터가 성공적으로 삭제되었습니다.')\n",
    "else :\n",
    "    print('데이터가 삭제되지 않았습니다')\n",
    "\n",
    "is_success, books_df = select_all_books(db_name) \n",
    "books_df"
   ]
  },
  {
   "cell_type": "code",
   "execution_count": null,
   "metadata": {},
   "outputs": [],
   "source": []
  }
 ],
 "metadata": {
  "kernelspec": {
   "display_name": "Python 3",
   "language": "python",
   "name": "python3"
  },
  "language_info": {
   "codemirror_mode": {
    "name": "ipython",
    "version": 3
   },
   "file_extension": ".py",
   "mimetype": "text/x-python",
   "name": "python",
   "nbconvert_exporter": "python",
   "pygments_lexer": "ipython3",
   "version": "3.7.3"
  }
 },
 "nbformat": 4,
 "nbformat_minor": 2
}
