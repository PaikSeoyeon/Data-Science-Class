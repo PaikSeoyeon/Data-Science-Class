{
 "cells": [
  {
   "cell_type": "code",
   "execution_count": 1,
   "metadata": {},
   "outputs": [],
   "source": [
    "from tqdm import tqdm_notebook\n",
    "import tensorflow as tf\n",
    "import numpy as np"
   ]
  },
  {
   "cell_type": "code",
   "execution_count": 5,
   "metadata": {},
   "outputs": [],
   "source": [
    "tf.set_random_seed(777)\n",
    "\n",
    "x_data = [[10,5], [9,5], [3,2], [2,4], [11,1]]\n",
    "y_data = [[1, 0, 0], \n",
    "          [1, 0, 0], \n",
    "          [0, 1, 0], \n",
    "          [0, 1, 0],\n",
    "          [0, 0, 1]]\n",
    "\n",
    "X = tf.placeholder(\"float\", [None, 2])\n",
    "Y = tf.placeholder(\"float\", [None, 3])\n",
    "nb_classes = 3\n",
    "\n",
    "W = tf.Variable(tf.random_normal([2, nb_classes]), name = 'weight')\n",
    "b = tf.Variable(tf.random_normal([nb_classes]), name='bias')\n",
    "\n",
    "hypothesis = tf.nn.softmax(tf.matmul(X, W) + b)\n",
    "cost = tf.reduce_mean(-tf.reduce_sum(Y * tf.log(hypothesis), axis=1))\n",
    "optimizer = tf.train.GradientDescentOptimizer(learning_rate=0.1).minimize(cost)"
   ]
  },
  {
   "cell_type": "code",
   "execution_count": 6,
   "metadata": {},
   "outputs": [
    {
     "data": {
      "application/vnd.jupyter.widget-view+json": {
       "model_id": "d6b07400bd35449aa4cd5843c1f594d9",
       "version_major": 2,
       "version_minor": 0
      },
      "text/plain": [
       "HBox(children=(IntProgress(value=0, max=2001), HTML(value='')))"
      ]
     },
     "metadata": {},
     "output_type": "display_data"
    },
    {
     "name": "stdout",
     "output_type": "stream",
     "text": [
      "Step : 0, \t Cost : 5.66846227645874\n",
      "Step : 200, \t Cost : 0.07845985889434814\n",
      "Step : 400, \t Cost : 0.0450439453125\n",
      "Step : 600, \t Cost : 0.0318208783864975\n",
      "Step : 800, \t Cost : 0.024630513042211533\n",
      "Step : 1000, \t Cost : 0.02009696327149868\n",
      "Step : 1200, \t Cost : 0.016974376514554024\n",
      "Step : 1400, \t Cost : 0.014691990800201893\n",
      "Step : 1600, \t Cost : 0.01295076310634613\n",
      "Step : 1800, \t Cost : 0.011578544974327087\n",
      "Step : 2000, \t Cost : 0.010469244793057442\n",
      "\n"
     ]
    }
   ],
   "source": [
    "sess = tf.Session()\n",
    "sess.run(tf.global_variables_initializer())\n",
    "\n",
    "for step in tqdm_notebook(range(2001)):\n",
    "    sess.run(optimizer, feed_dict={X: x_data, Y: y_data})\n",
    "    if step % 200 == 0:\n",
    "        # print(step, sess.run(cost, feed_dict={X: x_data, Y: y_data}))\n",
    "        print(\"Step : {}, \\t Cost : {}\".format(step, sess.run(cost, feed_dict={X: x_data, Y: y_data})))"
   ]
  },
  {
   "cell_type": "code",
   "execution_count": null,
   "metadata": {},
   "outputs": [],
   "source": []
  }
 ],
 "metadata": {
  "kernelspec": {
   "display_name": "Python 3",
   "language": "python",
   "name": "python3"
  },
  "language_info": {
   "codemirror_mode": {
    "name": "ipython",
    "version": 3
   },
   "file_extension": ".py",
   "mimetype": "text/x-python",
   "name": "python",
   "nbconvert_exporter": "python",
   "pygments_lexer": "ipython3",
   "version": "3.7.3"
  }
 },
 "nbformat": 4,
 "nbformat_minor": 2
}
