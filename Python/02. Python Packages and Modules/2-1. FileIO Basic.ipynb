{
 "cells": [
  {
   "cell_type": "markdown",
   "metadata": {},
   "source": [
    "# 파일 입출력, File i/O"
   ]
  },
  {
   "cell_type": "code",
   "execution_count": 3,
   "metadata": {},
   "outputs": [],
   "source": [
    "http://localhost:8888/notebooks/Anaconda_src/02.%20FileIO%20Basic.ipynb#%ED%8C%8C%EC%9D%BC-%EC%9E%85%EC%B6%9C%EB%A0%A5,-File-i/Ofp = open('./data/hello.txt', 'r')"
   ]
  },
  {
   "cell_type": "code",
   "execution_count": 4,
   "metadata": {},
   "outputs": [
    {
     "data": {
      "text/plain": [
       "'Hello, Bigdata Science !!!'"
      ]
     },
     "execution_count": 4,
     "metadata": {},
     "output_type": "execute_result"
    }
   ],
   "source": [
    "fp.read()"
   ]
  },
  {
   "cell_type": "code",
   "execution_count": 5,
   "metadata": {},
   "outputs": [],
   "source": [
    "fp.close()"
   ]
  },
  {
   "cell_type": "code",
   "execution_count": 6,
   "metadata": {},
   "outputs": [
    {
     "ename": "ValueError",
     "evalue": "I/O operation on closed file.",
     "output_type": "error",
     "traceback": [
      "\u001b[1;31m---------------------------------------------------------------------------\u001b[0m",
      "\u001b[1;31mValueError\u001b[0m                                Traceback (most recent call last)",
      "\u001b[1;32m<ipython-input-6-5b707e20d623>\u001b[0m in \u001b[0;36m<module>\u001b[1;34m\u001b[0m\n\u001b[1;32m----> 1\u001b[1;33m \u001b[0mfp\u001b[0m\u001b[1;33m.\u001b[0m\u001b[0mread\u001b[0m\u001b[1;33m(\u001b[0m\u001b[1;33m)\u001b[0m\u001b[1;33m\u001b[0m\u001b[1;33m\u001b[0m\u001b[0m\n\u001b[0m",
      "\u001b[1;31mValueError\u001b[0m: I/O operation on closed file."
     ]
    }
   ],
   "source": [
    "fp.read()"
   ]
  },
  {
   "cell_type": "code",
   "execution_count": 7,
   "metadata": {},
   "outputs": [
    {
     "name": "stdout",
     "output_type": "stream",
     "text": [
      "Hello, Bigdata Science !!!\n"
     ]
    }
   ],
   "source": [
    "with open('./data/hello.txt', 'r') as fp:\n",
    "    data = fp.read()\n",
    "    print(data)"
   ]
  },
  {
   "cell_type": "code",
   "execution_count": 14,
   "metadata": {},
   "outputs": [
    {
     "data": {
      "text/plain": [
       "'파이썬을 이용한 빅데이터 분석!!'"
      ]
     },
     "execution_count": 14,
     "metadata": {},
     "output_type": "execute_result"
    }
   ],
   "source": [
    "data"
   ]
  },
  {
   "cell_type": "code",
   "execution_count": 10,
   "metadata": {},
   "outputs": [],
   "source": [
    "with open('./data/subject.txt', 'w') as fp:\n",
    "    data = '파이썬을 이용한 빅데이터 분석!!'\n",
    "    fp.write(data)"
   ]
  },
  {
   "cell_type": "code",
   "execution_count": 12,
   "metadata": {},
   "outputs": [
    {
     "name": "stdout",
     "output_type": "stream",
     "text": [
      "파이썬을 이용한 빅데이터 분석!!\n"
     ]
    }
   ],
   "source": [
    "with open('./data/subject.txt', 'r') as fp:\n",
    "    data = fp.read()\n",
    "    print(data)"
   ]
  },
  {
   "cell_type": "code",
   "execution_count": 53,
   "metadata": {},
   "outputs": [],
   "source": [
    "def read_csv(filepath):\n",
    "    \n",
    "    fp = open(filepath, 'r', encoding='utf-8')\n",
    "    data = fp.read()\n",
    "    fp.close()\n",
    "    \n",
    "    # return dataL\n",
    "    elements = []\n",
    "    \n",
    "    rows = data.split(\"\\n\")\n",
    "    #print(rows)\n",
    "    \n",
    "    for row in rows:        \n",
    "        \n",
    "        fields = row.split(\",\")\n",
    "        print(fields)\n",
    "        \n",
    "        element = {   \n",
    "            \"name\"   : fields[0],\n",
    "            \"school\" : fields[1],\n",
    "            \"email\"  : fields[2],\n",
    "        }\n",
    "        elements.append(element)\n",
    "    return elements"
   ]
  },
  {
   "cell_type": "code",
   "execution_count": 54,
   "metadata": {},
   "outputs": [
    {
     "name": "stdout",
     "output_type": "stream",
     "text": [
      "['김태희', '서울대', 'thkim@gmail.com']\n",
      "['신민아', '성균관대', 'sma@gmial.com']\n",
      "['전지현', '중앙대', 'jhjeon@gmail.com']\n",
      "['이영애', '숭실대', 'janggumi@gamil.com']\n"
     ]
    },
    {
     "data": {
      "text/plain": [
       "[{'name': '김태희', 'school': '서울대', 'email': 'thkim@gmail.com'},\n",
       " {'name': '신민아', 'school': '성균관대', 'email': 'sma@gmial.com'},\n",
       " {'name': '전지현', 'school': '중앙대', 'email': 'jhjeon@gmail.com'},\n",
       " {'name': '이영애', 'school': '숭실대', 'email': 'janggumi@gamil.com'}]"
      ]
     },
     "execution_count": 54,
     "metadata": {},
     "output_type": "execute_result"
    }
   ],
   "source": [
    "filepath = 'data/students.csv'\n",
    "read_csv(filepath)"
   ]
  },
  {
   "cell_type": "code",
   "execution_count": 125,
   "metadata": {},
   "outputs": [],
   "source": [
    "def read_csv(filepath):\n",
    "    \n",
    "    fp = open(filepath, 'r', encoding='utf-8')\n",
    "    data = fp.read()\n",
    "    fp.close()\n",
    "    \n",
    "    elements = []\n",
    "    \n",
    "    print('data : ', data)\n",
    "    rows = data.split(\"\\n\")\n",
    "    print(rows)\n",
    "   \n",
    "    columns = rows[0].split(\",\")\n",
    "    #print('columns => key :', columns)\n",
    "    \n",
    "    print('row :', rows[0])\n",
    "    print('columns :', columns)\n",
    "    \n",
    "   \n",
    "    for row in rows:        \n",
    "        \n",
    "        \n",
    "        fields = row.split(\",\")\n",
    "        print('fields : ', fields)\n",
    "        \n",
    "        element = {   \n",
    "            \"name\"   : fields[3],\n",
    "            \"school\" : fields[1],\n",
    "            \"email\"  : fields[2],\n",
    "        }\n",
    "        elements.append(element)\n",
    "    return elements"
   ]
  },
  {
   "cell_type": "code",
   "execution_count": 126,
   "metadata": {},
   "outputs": [
    {
     "name": "stdout",
     "output_type": "stream",
     "text": [
      "data :  랭킹, 회사이름, 영문명, 창업자 \n",
      "1, 애플, Apple, 스티브잡스 \n",
      "2, 구글, Google, 세르게이브린 & 레리페이지 \n",
      "3, 마이크로소프트, Microsoft, 빌게이츠 & 폴앨런 \n",
      "4, 페이스북, Facebook, 마크쥬크버그 \n",
      "5, 에어비엔비, Airbnb, 브라이언체크키 & 조게비어\n",
      "['랭킹, 회사이름, 영문명, 창업자 ', '1, 애플, Apple, 스티브잡스 ', '2, 구글, Google, 세르게이브린 & 레리페이지 ', '3, 마이크로소프트, Microsoft, 빌게이츠 & 폴앨런 ', '4, 페이스북, Facebook, 마크쥬크버그 ', '5, 에어비엔비, Airbnb, 브라이언체크키 & 조게비어']\n",
      "row : 랭킹, 회사이름, 영문명, 창업자 \n",
      "columns : ['랭킹', ' 회사이름', ' 영문명', ' 창업자 ']\n",
      "fields :  ['랭킹', ' 회사이름', ' 영문명', ' 창업자 ']\n",
      "fields :  ['1', ' 애플', ' Apple', ' 스티브잡스 ']\n",
      "fields :  ['2', ' 구글', ' Google', ' 세르게이브린 & 레리페이지 ']\n",
      "fields :  ['3', ' 마이크로소프트', ' Microsoft', ' 빌게이츠 & 폴앨런 ']\n",
      "fields :  ['4', ' 페이스북', ' Facebook', ' 마크쥬크버그 ']\n",
      "fields :  ['5', ' 에어비엔비', ' Airbnb', ' 브라이언체크키 & 조게비어']\n"
     ]
    },
    {
     "data": {
      "text/plain": [
       "[{'name': ' 창업자 ', 'school': ' 회사이름', 'email': ' 영문명'},\n",
       " {'name': ' 스티브잡스 ', 'school': ' 애플', 'email': ' Apple'},\n",
       " {'name': ' 세르게이브린 & 레리페이지 ', 'school': ' 구글', 'email': ' Google'},\n",
       " {'name': ' 빌게이츠 & 폴앨런 ', 'school': ' 마이크로소프트', 'email': ' Microsoft'},\n",
       " {'name': ' 마크쥬크버그 ', 'school': ' 페이스북', 'email': ' Facebook'},\n",
       " {'name': ' 브라이언체크키 & 조게비어', 'school': ' 에어비엔비', 'email': ' Airbnb'}]"
      ]
     },
     "execution_count": 126,
     "metadata": {},
     "output_type": "execute_result"
    }
   ],
   "source": [
    "filepath = 'data/company.csv'\n",
    "read_csv(filepath)"
   ]
  },
  {
   "cell_type": "code",
   "execution_count": null,
   "metadata": {},
   "outputs": [],
   "source": []
  }
 ],
 "metadata": {
  "kernelspec": {
   "display_name": "Python 3",
   "language": "python",
   "name": "python3"
  },
  "language_info": {
   "codemirror_mode": {
    "name": "ipython",
    "version": 3
   },
   "file_extension": ".py",
   "mimetype": "text/x-python",
   "name": "python",
   "nbconvert_exporter": "python",
   "pygments_lexer": "ipython3",
   "version": "3.7.3"
  }
 },
 "nbformat": 4,
 "nbformat_minor": 2
}
