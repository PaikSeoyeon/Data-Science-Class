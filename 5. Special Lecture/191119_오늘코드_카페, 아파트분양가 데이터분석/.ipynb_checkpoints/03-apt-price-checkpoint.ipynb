{
 "cells": [
  {
   "cell_type": "markdown",
   "metadata": {
    "colab_type": "text",
    "id": "KjUsJlrmJZUh"
   },
   "source": [
    "# 전국 신규 민간 아파트 분양가격 동향\n",
    "\n",
    "* 데이터셋 다운로드 위치 : https://www.data.go.kr/dataset/3035522/fileData.do\n",
    "\n",
    "### 전국 평균 분양가격(2013년 9월부터 2015년 8월까지)\n",
    "* 전국 공동주택의 3.3제곱미터당 평균분양가격 데이터를 제공\n",
    "\n",
    "###  주택도시보증공사_전국 평균 분양가격(2019년 8월)_20190917\n",
    "* 전국 공동주택의 연도별, 월별, 전용면적별 제곱미터당 평균분양가격 데이터를 제공\n",
    "* 지역별 평균값은 단순 산술평균값이 아닌 가중평균값임"
   ]
  },
  {
   "cell_type": "code",
   "execution_count": 2,
   "metadata": {
    "colab": {},
    "colab_type": "code",
    "id": "zpY51yLhJZUj"
   },
   "outputs": [],
   "source": [
    "# 파이썬에서 쓸 수 있는 엑셀과도 유사한 판다스 라이브러리를 불러옵니다.\n",
    "import pandas as pd"
   ]
  },
  {
   "cell_type": "markdown",
   "metadata": {
    "colab_type": "text",
    "id": "bWq3K5gGJZUo"
   },
   "source": [
    "## 데이터 로드\n",
    "### 최근 파일 로드\n",
    "공공데이터 포털에서 \"주택도시보증공사_전국 평균 분양가격(2019년 8월)_20190917\"파일을 다운로드 받아 불러옵니다.\n",
    "이 때, 인코딩을 설정을 해주어야 한글이 깨지지 않습니다.\n",
    "보통 엑셀로 저장된 한글의 인코딩은 cp949 혹은 euc-kr로 되어 있습니다.\n",
    "df_last 라는 변수에 최근 분양가 파일을 다운로드 받아 로드합니다.\n",
    "\n",
    "데이터를 로드한 뒤 shape를 통해 행과 열의 갯수를 출력합니다."
   ]
  },
  {
   "cell_type": "code",
   "execution_count": 9,
   "metadata": {
    "colab": {},
    "colab_type": "code",
    "id": "QhUa-oftJZUp"
   },
   "outputs": [
    {
     "data": {
      "text/plain": [
       "(4080, 5)"
      ]
     },
     "execution_count": 9,
     "metadata": {},
     "output_type": "execute_result"
    }
   ],
   "source": [
    "df_last = pd.read_csv('주택도시보증공사_전국 평균 분양가격(2019년 9월).csv', encoding='cp949')\n",
    "df_last.shape"
   ]
  },
  {
   "cell_type": "code",
   "execution_count": 10,
   "metadata": {
    "colab": {},
    "colab_type": "code",
    "id": "luD_xdGcJZUr",
    "scrolled": true
   },
   "outputs": [
    {
     "data": {
      "text/html": [
       "<div>\n",
       "<style scoped>\n",
       "    .dataframe tbody tr th:only-of-type {\n",
       "        vertical-align: middle;\n",
       "    }\n",
       "\n",
       "    .dataframe tbody tr th {\n",
       "        vertical-align: top;\n",
       "    }\n",
       "\n",
       "    .dataframe thead th {\n",
       "        text-align: right;\n",
       "    }\n",
       "</style>\n",
       "<table border=\"1\" class=\"dataframe\">\n",
       "  <thead>\n",
       "    <tr style=\"text-align: right;\">\n",
       "      <th></th>\n",
       "      <th>지역명</th>\n",
       "      <th>규모구분</th>\n",
       "      <th>연도</th>\n",
       "      <th>월</th>\n",
       "      <th>분양가격(㎡)</th>\n",
       "    </tr>\n",
       "  </thead>\n",
       "  <tbody>\n",
       "    <tr>\n",
       "      <th>0</th>\n",
       "      <td>서울</td>\n",
       "      <td>전체</td>\n",
       "      <td>2015</td>\n",
       "      <td>10</td>\n",
       "      <td>5841</td>\n",
       "    </tr>\n",
       "    <tr>\n",
       "      <th>1</th>\n",
       "      <td>서울</td>\n",
       "      <td>전용면적 60㎡이하</td>\n",
       "      <td>2015</td>\n",
       "      <td>10</td>\n",
       "      <td>5652</td>\n",
       "    </tr>\n",
       "    <tr>\n",
       "      <th>2</th>\n",
       "      <td>서울</td>\n",
       "      <td>전용면적 60㎡초과 85㎡이하</td>\n",
       "      <td>2015</td>\n",
       "      <td>10</td>\n",
       "      <td>5882</td>\n",
       "    </tr>\n",
       "    <tr>\n",
       "      <th>3</th>\n",
       "      <td>서울</td>\n",
       "      <td>전용면적 85㎡초과 102㎡이하</td>\n",
       "      <td>2015</td>\n",
       "      <td>10</td>\n",
       "      <td>5721</td>\n",
       "    </tr>\n",
       "    <tr>\n",
       "      <th>4</th>\n",
       "      <td>서울</td>\n",
       "      <td>전용면적 102㎡초과</td>\n",
       "      <td>2015</td>\n",
       "      <td>10</td>\n",
       "      <td>5879</td>\n",
       "    </tr>\n",
       "  </tbody>\n",
       "</table>\n",
       "</div>"
      ],
      "text/plain": [
       "  지역명               규모구분    연도   월 분양가격(㎡)\n",
       "0  서울                 전체  2015  10    5841\n",
       "1  서울         전용면적 60㎡이하  2015  10    5652\n",
       "2  서울   전용면적 60㎡초과 85㎡이하  2015  10    5882\n",
       "3  서울  전용면적 85㎡초과 102㎡이하  2015  10    5721\n",
       "4  서울        전용면적 102㎡초과  2015  10    5879"
      ]
     },
     "execution_count": 10,
     "metadata": {},
     "output_type": "execute_result"
    }
   ],
   "source": [
    "# head 로 파일을 미리보기 합니다.\n",
    "df_last.head()"
   ]
  },
  {
   "cell_type": "code",
   "execution_count": 12,
   "metadata": {
    "colab": {},
    "colab_type": "code",
    "id": "odvB6ab7JZUu"
   },
   "outputs": [
    {
     "data": {
      "text/html": [
       "<div>\n",
       "<style scoped>\n",
       "    .dataframe tbody tr th:only-of-type {\n",
       "        vertical-align: middle;\n",
       "    }\n",
       "\n",
       "    .dataframe tbody tr th {\n",
       "        vertical-align: top;\n",
       "    }\n",
       "\n",
       "    .dataframe thead th {\n",
       "        text-align: right;\n",
       "    }\n",
       "</style>\n",
       "<table border=\"1\" class=\"dataframe\">\n",
       "  <thead>\n",
       "    <tr style=\"text-align: right;\">\n",
       "      <th></th>\n",
       "      <th>지역명</th>\n",
       "      <th>규모구분</th>\n",
       "      <th>연도</th>\n",
       "      <th>월</th>\n",
       "      <th>분양가격(㎡)</th>\n",
       "    </tr>\n",
       "  </thead>\n",
       "  <tbody>\n",
       "    <tr>\n",
       "      <th>4075</th>\n",
       "      <td>제주</td>\n",
       "      <td>전체</td>\n",
       "      <td>2019</td>\n",
       "      <td>9</td>\n",
       "      <td>3869</td>\n",
       "    </tr>\n",
       "    <tr>\n",
       "      <th>4076</th>\n",
       "      <td>제주</td>\n",
       "      <td>전용면적 60㎡이하</td>\n",
       "      <td>2019</td>\n",
       "      <td>9</td>\n",
       "      <td>3804</td>\n",
       "    </tr>\n",
       "    <tr>\n",
       "      <th>4077</th>\n",
       "      <td>제주</td>\n",
       "      <td>전용면적 60㎡초과 85㎡이하</td>\n",
       "      <td>2019</td>\n",
       "      <td>9</td>\n",
       "      <td>3884</td>\n",
       "    </tr>\n",
       "    <tr>\n",
       "      <th>4078</th>\n",
       "      <td>제주</td>\n",
       "      <td>전용면적 85㎡초과 102㎡이하</td>\n",
       "      <td>2019</td>\n",
       "      <td>9</td>\n",
       "      <td>NaN</td>\n",
       "    </tr>\n",
       "    <tr>\n",
       "      <th>4079</th>\n",
       "      <td>제주</td>\n",
       "      <td>전용면적 102㎡초과</td>\n",
       "      <td>2019</td>\n",
       "      <td>9</td>\n",
       "      <td>3601</td>\n",
       "    </tr>\n",
       "  </tbody>\n",
       "</table>\n",
       "</div>"
      ],
      "text/plain": [
       "     지역명               규모구분    연도  월 분양가격(㎡)\n",
       "4075  제주                 전체  2019  9    3869\n",
       "4076  제주         전용면적 60㎡이하  2019  9    3804\n",
       "4077  제주   전용면적 60㎡초과 85㎡이하  2019  9    3884\n",
       "4078  제주  전용면적 85㎡초과 102㎡이하  2019  9     NaN\n",
       "4079  제주        전용면적 102㎡초과  2019  9    3601"
      ]
     },
     "execution_count": 12,
     "metadata": {},
     "output_type": "execute_result"
    }
   ],
   "source": [
    "# tail 로도 미리보기를 합니다.\n",
    "df_last.tail()"
   ]
  },
  {
   "cell_type": "markdown",
   "metadata": {
    "colab_type": "text",
    "id": "ruVmuOlXJZUw"
   },
   "source": [
    "### 2015년 부터 최근까지의 데이터 로드\n",
    "전국 평균 분양가격(2013년 9월부터 2015년 8월까지) 파일을 불러옵니다.\n",
    "df_first 라는 변수에 담고 shape로 행과 열의 갯수를 출력합니다."
   ]
  },
  {
   "cell_type": "code",
   "execution_count": 13,
   "metadata": {
    "colab": {},
    "colab_type": "code",
    "id": "vI9ANsK7JZUx"
   },
   "outputs": [
    {
     "data": {
      "text/plain": [
       "(17, 22)"
      ]
     },
     "execution_count": 13,
     "metadata": {},
     "output_type": "execute_result"
    }
   ],
   "source": [
    "df_first = pd.read_csv('전국 평균 분양가격(2013년 9월부터 2015년 8월까지).csv', encoding='cp949')\n",
    "df_first.shape"
   ]
  },
  {
   "cell_type": "code",
   "execution_count": 14,
   "metadata": {
    "colab": {},
    "colab_type": "code",
    "id": "NrnsHAX9JZUz"
   },
   "outputs": [
    {
     "data": {
      "text/html": [
       "<div>\n",
       "<style scoped>\n",
       "    .dataframe tbody tr th:only-of-type {\n",
       "        vertical-align: middle;\n",
       "    }\n",
       "\n",
       "    .dataframe tbody tr th {\n",
       "        vertical-align: top;\n",
       "    }\n",
       "\n",
       "    .dataframe thead th {\n",
       "        text-align: right;\n",
       "    }\n",
       "</style>\n",
       "<table border=\"1\" class=\"dataframe\">\n",
       "  <thead>\n",
       "    <tr style=\"text-align: right;\">\n",
       "      <th></th>\n",
       "      <th>지역</th>\n",
       "      <th>2013년12월</th>\n",
       "      <th>2014년1월</th>\n",
       "      <th>2014년2월</th>\n",
       "      <th>2014년3월</th>\n",
       "      <th>2014년4월</th>\n",
       "      <th>2014년5월</th>\n",
       "      <th>2014년6월</th>\n",
       "      <th>2014년7월</th>\n",
       "      <th>2014년8월</th>\n",
       "      <th>...</th>\n",
       "      <th>2014년11월</th>\n",
       "      <th>2014년12월</th>\n",
       "      <th>2015년1월</th>\n",
       "      <th>2015년2월</th>\n",
       "      <th>2015년3월</th>\n",
       "      <th>2015년4월</th>\n",
       "      <th>2015년5월</th>\n",
       "      <th>2015년6월</th>\n",
       "      <th>2015년7월</th>\n",
       "      <th>2015년8월</th>\n",
       "    </tr>\n",
       "  </thead>\n",
       "  <tbody>\n",
       "    <tr>\n",
       "      <th>0</th>\n",
       "      <td>서울</td>\n",
       "      <td>18189</td>\n",
       "      <td>17925</td>\n",
       "      <td>17925</td>\n",
       "      <td>18016</td>\n",
       "      <td>18098</td>\n",
       "      <td>19446</td>\n",
       "      <td>18867</td>\n",
       "      <td>18742</td>\n",
       "      <td>19274</td>\n",
       "      <td>...</td>\n",
       "      <td>20242</td>\n",
       "      <td>20269</td>\n",
       "      <td>20670</td>\n",
       "      <td>20670</td>\n",
       "      <td>19415</td>\n",
       "      <td>18842</td>\n",
       "      <td>18367</td>\n",
       "      <td>18374</td>\n",
       "      <td>18152</td>\n",
       "      <td>18443</td>\n",
       "    </tr>\n",
       "    <tr>\n",
       "      <th>1</th>\n",
       "      <td>부산</td>\n",
       "      <td>8111</td>\n",
       "      <td>8111</td>\n",
       "      <td>9078</td>\n",
       "      <td>8965</td>\n",
       "      <td>9402</td>\n",
       "      <td>9501</td>\n",
       "      <td>9453</td>\n",
       "      <td>9457</td>\n",
       "      <td>9411</td>\n",
       "      <td>...</td>\n",
       "      <td>9208</td>\n",
       "      <td>9208</td>\n",
       "      <td>9204</td>\n",
       "      <td>9235</td>\n",
       "      <td>9279</td>\n",
       "      <td>9327</td>\n",
       "      <td>9345</td>\n",
       "      <td>9515</td>\n",
       "      <td>9559</td>\n",
       "      <td>9581</td>\n",
       "    </tr>\n",
       "    <tr>\n",
       "      <th>2</th>\n",
       "      <td>대구</td>\n",
       "      <td>8080</td>\n",
       "      <td>8080</td>\n",
       "      <td>8077</td>\n",
       "      <td>8101</td>\n",
       "      <td>8267</td>\n",
       "      <td>8274</td>\n",
       "      <td>8360</td>\n",
       "      <td>8360</td>\n",
       "      <td>8370</td>\n",
       "      <td>...</td>\n",
       "      <td>8439</td>\n",
       "      <td>8253</td>\n",
       "      <td>8327</td>\n",
       "      <td>8416</td>\n",
       "      <td>8441</td>\n",
       "      <td>8446</td>\n",
       "      <td>8568</td>\n",
       "      <td>8542</td>\n",
       "      <td>8542</td>\n",
       "      <td>8795</td>\n",
       "    </tr>\n",
       "    <tr>\n",
       "      <th>3</th>\n",
       "      <td>인천</td>\n",
       "      <td>10204</td>\n",
       "      <td>10204</td>\n",
       "      <td>10408</td>\n",
       "      <td>10408</td>\n",
       "      <td>10000</td>\n",
       "      <td>9844</td>\n",
       "      <td>10058</td>\n",
       "      <td>9974</td>\n",
       "      <td>9973</td>\n",
       "      <td>...</td>\n",
       "      <td>10020</td>\n",
       "      <td>10020</td>\n",
       "      <td>10017</td>\n",
       "      <td>9876</td>\n",
       "      <td>9876</td>\n",
       "      <td>9938</td>\n",
       "      <td>10551</td>\n",
       "      <td>10443</td>\n",
       "      <td>10443</td>\n",
       "      <td>10449</td>\n",
       "    </tr>\n",
       "    <tr>\n",
       "      <th>4</th>\n",
       "      <td>광주</td>\n",
       "      <td>6098</td>\n",
       "      <td>7326</td>\n",
       "      <td>7611</td>\n",
       "      <td>7346</td>\n",
       "      <td>7346</td>\n",
       "      <td>7523</td>\n",
       "      <td>7659</td>\n",
       "      <td>7612</td>\n",
       "      <td>7622</td>\n",
       "      <td>...</td>\n",
       "      <td>7752</td>\n",
       "      <td>7748</td>\n",
       "      <td>7752</td>\n",
       "      <td>7756</td>\n",
       "      <td>7861</td>\n",
       "      <td>7914</td>\n",
       "      <td>7877</td>\n",
       "      <td>7881</td>\n",
       "      <td>8089</td>\n",
       "      <td>8231</td>\n",
       "    </tr>\n",
       "  </tbody>\n",
       "</table>\n",
       "<p>5 rows × 22 columns</p>\n",
       "</div>"
      ],
      "text/plain": [
       "   지역  2013년12월  2014년1월  2014년2월  2014년3월  2014년4월  2014년5월  2014년6월  \\\n",
       "0  서울     18189    17925    17925    18016    18098    19446    18867   \n",
       "1  부산      8111     8111     9078     8965     9402     9501     9453   \n",
       "2  대구      8080     8080     8077     8101     8267     8274     8360   \n",
       "3  인천     10204    10204    10408    10408    10000     9844    10058   \n",
       "4  광주      6098     7326     7611     7346     7346     7523     7659   \n",
       "\n",
       "   2014년7월  2014년8월  ...  2014년11월  2014년12월  2015년1월  2015년2월  2015년3월  \\\n",
       "0    18742    19274  ...     20242     20269    20670    20670    19415   \n",
       "1     9457     9411  ...      9208      9208     9204     9235     9279   \n",
       "2     8360     8370  ...      8439      8253     8327     8416     8441   \n",
       "3     9974     9973  ...     10020     10020    10017     9876     9876   \n",
       "4     7612     7622  ...      7752      7748     7752     7756     7861   \n",
       "\n",
       "   2015년4월  2015년5월  2015년6월  2015년7월  2015년8월  \n",
       "0    18842    18367    18374    18152    18443  \n",
       "1     9327     9345     9515     9559     9581  \n",
       "2     8446     8568     8542     8542     8795  \n",
       "3     9938    10551    10443    10443    10449  \n",
       "4     7914     7877     7881     8089     8231  \n",
       "\n",
       "[5 rows x 22 columns]"
      ]
     },
     "execution_count": 14,
     "metadata": {},
     "output_type": "execute_result"
    }
   ],
   "source": [
    "# df_first 변수에 담긴 데이터프레임을 head로 미리보기 합니다.\n",
    "df_first.head()"
   ]
  },
  {
   "cell_type": "code",
   "execution_count": 15,
   "metadata": {},
   "outputs": [
    {
     "data": {
      "text/html": [
       "<div>\n",
       "<style scoped>\n",
       "    .dataframe tbody tr th:only-of-type {\n",
       "        vertical-align: middle;\n",
       "    }\n",
       "\n",
       "    .dataframe tbody tr th {\n",
       "        vertical-align: top;\n",
       "    }\n",
       "\n",
       "    .dataframe thead th {\n",
       "        text-align: right;\n",
       "    }\n",
       "</style>\n",
       "<table border=\"1\" class=\"dataframe\">\n",
       "  <thead>\n",
       "    <tr style=\"text-align: right;\">\n",
       "      <th></th>\n",
       "      <th>지역</th>\n",
       "      <th>2013년12월</th>\n",
       "      <th>2014년1월</th>\n",
       "      <th>2014년2월</th>\n",
       "      <th>2014년3월</th>\n",
       "      <th>2014년4월</th>\n",
       "      <th>2014년5월</th>\n",
       "      <th>2014년6월</th>\n",
       "      <th>2014년7월</th>\n",
       "      <th>2014년8월</th>\n",
       "      <th>...</th>\n",
       "      <th>2014년11월</th>\n",
       "      <th>2014년12월</th>\n",
       "      <th>2015년1월</th>\n",
       "      <th>2015년2월</th>\n",
       "      <th>2015년3월</th>\n",
       "      <th>2015년4월</th>\n",
       "      <th>2015년5월</th>\n",
       "      <th>2015년6월</th>\n",
       "      <th>2015년7월</th>\n",
       "      <th>2015년8월</th>\n",
       "    </tr>\n",
       "  </thead>\n",
       "  <tbody>\n",
       "    <tr>\n",
       "      <th>12</th>\n",
       "      <td>전북</td>\n",
       "      <td>6282</td>\n",
       "      <td>6281</td>\n",
       "      <td>5946</td>\n",
       "      <td>5966</td>\n",
       "      <td>6277</td>\n",
       "      <td>6306</td>\n",
       "      <td>6351</td>\n",
       "      <td>6319</td>\n",
       "      <td>6436</td>\n",
       "      <td>...</td>\n",
       "      <td>6583</td>\n",
       "      <td>6583</td>\n",
       "      <td>6583</td>\n",
       "      <td>6583</td>\n",
       "      <td>6542</td>\n",
       "      <td>6551</td>\n",
       "      <td>6556</td>\n",
       "      <td>6601</td>\n",
       "      <td>6750</td>\n",
       "      <td>6580</td>\n",
       "    </tr>\n",
       "    <tr>\n",
       "      <th>13</th>\n",
       "      <td>전남</td>\n",
       "      <td>5678</td>\n",
       "      <td>5678</td>\n",
       "      <td>5678</td>\n",
       "      <td>5696</td>\n",
       "      <td>5736</td>\n",
       "      <td>5656</td>\n",
       "      <td>5609</td>\n",
       "      <td>5780</td>\n",
       "      <td>5685</td>\n",
       "      <td>...</td>\n",
       "      <td>5768</td>\n",
       "      <td>5784</td>\n",
       "      <td>5784</td>\n",
       "      <td>5833</td>\n",
       "      <td>5825</td>\n",
       "      <td>5940</td>\n",
       "      <td>6050</td>\n",
       "      <td>6243</td>\n",
       "      <td>6286</td>\n",
       "      <td>6289</td>\n",
       "    </tr>\n",
       "    <tr>\n",
       "      <th>14</th>\n",
       "      <td>경북</td>\n",
       "      <td>6168</td>\n",
       "      <td>6168</td>\n",
       "      <td>6234</td>\n",
       "      <td>6317</td>\n",
       "      <td>6412</td>\n",
       "      <td>6409</td>\n",
       "      <td>6554</td>\n",
       "      <td>6556</td>\n",
       "      <td>6563</td>\n",
       "      <td>...</td>\n",
       "      <td>6881</td>\n",
       "      <td>6989</td>\n",
       "      <td>6992</td>\n",
       "      <td>6953</td>\n",
       "      <td>6997</td>\n",
       "      <td>7006</td>\n",
       "      <td>6966</td>\n",
       "      <td>6887</td>\n",
       "      <td>7035</td>\n",
       "      <td>7037</td>\n",
       "    </tr>\n",
       "    <tr>\n",
       "      <th>15</th>\n",
       "      <td>경남</td>\n",
       "      <td>6473</td>\n",
       "      <td>6485</td>\n",
       "      <td>6502</td>\n",
       "      <td>6610</td>\n",
       "      <td>6599</td>\n",
       "      <td>6610</td>\n",
       "      <td>6615</td>\n",
       "      <td>6613</td>\n",
       "      <td>6606</td>\n",
       "      <td>...</td>\n",
       "      <td>7125</td>\n",
       "      <td>7332</td>\n",
       "      <td>7592</td>\n",
       "      <td>7588</td>\n",
       "      <td>7668</td>\n",
       "      <td>7683</td>\n",
       "      <td>7717</td>\n",
       "      <td>7715</td>\n",
       "      <td>7723</td>\n",
       "      <td>7665</td>\n",
       "    </tr>\n",
       "    <tr>\n",
       "      <th>16</th>\n",
       "      <td>제주</td>\n",
       "      <td>7674</td>\n",
       "      <td>7900</td>\n",
       "      <td>7900</td>\n",
       "      <td>7900</td>\n",
       "      <td>7900</td>\n",
       "      <td>7900</td>\n",
       "      <td>7914</td>\n",
       "      <td>7914</td>\n",
       "      <td>7914</td>\n",
       "      <td>...</td>\n",
       "      <td>7724</td>\n",
       "      <td>7739</td>\n",
       "      <td>7739</td>\n",
       "      <td>7739</td>\n",
       "      <td>7826</td>\n",
       "      <td>7285</td>\n",
       "      <td>7285</td>\n",
       "      <td>7343</td>\n",
       "      <td>7343</td>\n",
       "      <td>7343</td>\n",
       "    </tr>\n",
       "  </tbody>\n",
       "</table>\n",
       "<p>5 rows × 22 columns</p>\n",
       "</div>"
      ],
      "text/plain": [
       "    지역  2013년12월  2014년1월  2014년2월  2014년3월  2014년4월  2014년5월  2014년6월  \\\n",
       "12  전북      6282     6281     5946     5966     6277     6306     6351   \n",
       "13  전남      5678     5678     5678     5696     5736     5656     5609   \n",
       "14  경북      6168     6168     6234     6317     6412     6409     6554   \n",
       "15  경남      6473     6485     6502     6610     6599     6610     6615   \n",
       "16  제주      7674     7900     7900     7900     7900     7900     7914   \n",
       "\n",
       "    2014년7월  2014년8월  ...  2014년11월  2014년12월  2015년1월  2015년2월  2015년3월  \\\n",
       "12     6319     6436  ...      6583      6583     6583     6583     6542   \n",
       "13     5780     5685  ...      5768      5784     5784     5833     5825   \n",
       "14     6556     6563  ...      6881      6989     6992     6953     6997   \n",
       "15     6613     6606  ...      7125      7332     7592     7588     7668   \n",
       "16     7914     7914  ...      7724      7739     7739     7739     7826   \n",
       "\n",
       "    2015년4월  2015년5월  2015년6월  2015년7월  2015년8월  \n",
       "12     6551     6556     6601     6750     6580  \n",
       "13     5940     6050     6243     6286     6289  \n",
       "14     7006     6966     6887     7035     7037  \n",
       "15     7683     7717     7715     7723     7665  \n",
       "16     7285     7285     7343     7343     7343  \n",
       "\n",
       "[5 rows x 22 columns]"
      ]
     },
     "execution_count": 15,
     "metadata": {},
     "output_type": "execute_result"
    }
   ],
   "source": [
    "# df_first 변수에 담긴 데이터프레임을 tail로 미리보기 합니다.\n",
    "df_first.tail()"
   ]
  },
  {
   "cell_type": "markdown",
   "metadata": {
    "colab_type": "text",
    "id": "sRgcY7H7JZU3"
   },
   "source": [
    "### 데이터 요약하기"
   ]
  },
  {
   "cell_type": "code",
   "execution_count": 16,
   "metadata": {
    "colab": {},
    "colab_type": "code",
    "id": "rG_jMT8CJZU3"
   },
   "outputs": [
    {
     "name": "stdout",
     "output_type": "stream",
     "text": [
      "<class 'pandas.core.frame.DataFrame'>\n",
      "RangeIndex: 4080 entries, 0 to 4079\n",
      "Data columns (total 5 columns):\n",
      "지역명        4080 non-null object\n",
      "규모구분       4080 non-null object\n",
      "연도         4080 non-null int64\n",
      "월          4080 non-null int64\n",
      "분양가격(㎡)    3827 non-null object\n",
      "dtypes: int64(2), object(3)\n",
      "memory usage: 159.5+ KB\n"
     ]
    }
   ],
   "source": [
    "df_last.info()"
   ]
  },
  {
   "cell_type": "markdown",
   "metadata": {
    "colab_type": "text",
    "id": "0MekOAekJZU5"
   },
   "source": [
    "### 결측치 보기"
   ]
  },
  {
   "cell_type": "markdown",
   "metadata": {
    "colab_type": "text",
    "id": "yRMZ_rLdJZU6"
   },
   "source": [
    "isnull 혹은 isna 를 통해 데이터가 비어있는지를 확인할 수 있습니다.\n",
    "결측치는 True로 표시되는데, True == 1 이기 때문에 이 값을 다 더해주면 결측치의 수가 됩니다."
   ]
  },
  {
   "cell_type": "code",
   "execution_count": 18,
   "metadata": {
    "colab": {},
    "colab_type": "code",
    "id": "CqaWXfocJZU7"
   },
   "outputs": [
    {
     "data": {
      "text/plain": [
       "지역명          0\n",
       "규모구분         0\n",
       "연도           0\n",
       "월            0\n",
       "분양가격(㎡)    253\n",
       "dtype: int64"
      ]
     },
     "execution_count": 18,
     "metadata": {},
     "output_type": "execute_result"
    }
   ],
   "source": [
    "# isnull 을 통해 결측치를 구합니다.\n",
    "df_last.isnull().sum()"
   ]
  },
  {
   "cell_type": "code",
   "execution_count": 20,
   "metadata": {
    "colab": {},
    "colab_type": "code",
    "id": "jIf6_IFvJZU8"
   },
   "outputs": [
    {
     "data": {
      "text/plain": [
       "지역명          0\n",
       "규모구분         0\n",
       "연도           0\n",
       "월            0\n",
       "분양가격(㎡)    253\n",
       "dtype: int64"
      ]
     },
     "execution_count": 20,
     "metadata": {},
     "output_type": "execute_result"
    }
   ],
   "source": [
    "# isna 를 통해 결측치를 구합니다.\n",
    "df_last.isna().sum()"
   ]
  },
  {
   "cell_type": "markdown",
   "metadata": {
    "colab_type": "text",
    "id": "9PNqs0q4JZU_"
   },
   "source": [
    "### 데이터 타입 변경\n",
    "분양가격이 object(문자) 타입으로 되어 있습니다. 문자열 타입을 계산할 수 없기 때문에 수치 데이터로 변경해 줍니다. 결측치가 섞여 있을 때 변환이 제대로 되지 않습니다. 그래서 pd.to_numeric 을 통해 데이터의 타입을 변경합니다."
   ]
  },
  {
   "cell_type": "code",
   "execution_count": 22,
   "metadata": {
    "colab": {},
    "colab_type": "code",
    "id": "YdqsOWagJZVA"
   },
   "outputs": [
    {
     "data": {
      "text/plain": [
       "Index(['지역명', '규모구분', '연도', '월', '분양가격(㎡)'], dtype='object')"
      ]
     },
     "execution_count": 22,
     "metadata": {},
     "output_type": "execute_result"
    }
   ],
   "source": [
    "df_last.columns"
   ]
  },
  {
   "cell_type": "code",
   "execution_count": 25,
   "metadata": {},
   "outputs": [
    {
     "data": {
      "text/plain": [
       "dtype('O')"
      ]
     },
     "execution_count": 25,
     "metadata": {},
     "output_type": "execute_result"
    }
   ],
   "source": [
    "df_last['분양가격(㎡)'].dtype"
   ]
  },
  {
   "cell_type": "code",
   "execution_count": 29,
   "metadata": {},
   "outputs": [
    {
     "data": {
      "text/html": [
       "<div>\n",
       "<style scoped>\n",
       "    .dataframe tbody tr th:only-of-type {\n",
       "        vertical-align: middle;\n",
       "    }\n",
       "\n",
       "    .dataframe tbody tr th {\n",
       "        vertical-align: top;\n",
       "    }\n",
       "\n",
       "    .dataframe thead th {\n",
       "        text-align: right;\n",
       "    }\n",
       "</style>\n",
       "<table border=\"1\" class=\"dataframe\">\n",
       "  <thead>\n",
       "    <tr style=\"text-align: right;\">\n",
       "      <th></th>\n",
       "      <th>분양가격</th>\n",
       "      <th>분양가격(㎡)</th>\n",
       "    </tr>\n",
       "  </thead>\n",
       "  <tbody>\n",
       "    <tr>\n",
       "      <th>0</th>\n",
       "      <td>5841.0</td>\n",
       "      <td>5841</td>\n",
       "    </tr>\n",
       "    <tr>\n",
       "      <th>1</th>\n",
       "      <td>5652.0</td>\n",
       "      <td>5652</td>\n",
       "    </tr>\n",
       "    <tr>\n",
       "      <th>2</th>\n",
       "      <td>5882.0</td>\n",
       "      <td>5882</td>\n",
       "    </tr>\n",
       "    <tr>\n",
       "      <th>3</th>\n",
       "      <td>5721.0</td>\n",
       "      <td>5721</td>\n",
       "    </tr>\n",
       "    <tr>\n",
       "      <th>4</th>\n",
       "      <td>5879.0</td>\n",
       "      <td>5879</td>\n",
       "    </tr>\n",
       "  </tbody>\n",
       "</table>\n",
       "</div>"
      ],
      "text/plain": [
       "     분양가격 분양가격(㎡)\n",
       "0  5841.0    5841\n",
       "1  5652.0    5652\n",
       "2  5882.0    5882\n",
       "3  5721.0    5721\n",
       "4  5879.0    5879"
      ]
     },
     "execution_count": 29,
     "metadata": {},
     "output_type": "execute_result"
    }
   ],
   "source": [
    "df_last['분양가격'] = pd.to_numeric(df_last['분양가격(㎡)'], errors='coerce')\n",
    "df_last[['분양가격', '분양가격(㎡)']].head()"
   ]
  },
  {
   "cell_type": "markdown",
   "metadata": {
    "colab_type": "text",
    "id": "kdeItDwvJZVE"
   },
   "source": [
    "### 평당분양가격 구하기\n",
    "공공데이터포털에 올라와 있는 2013년부터의 데이터는 평당분양가격 기준으로 되어 있습니다.\n",
    "분양가격을 평당기준으로 보기위해 3.3을 곱해서 \"평당분양가격\" 컬럼을 만들어 추가해 줍니다."
   ]
  },
  {
   "cell_type": "code",
   "execution_count": 30,
   "metadata": {
    "colab": {},
    "colab_type": "code",
    "id": "y0dqodhEJZVE"
   },
   "outputs": [
    {
     "data": {
      "text/html": [
       "<div>\n",
       "<style scoped>\n",
       "    .dataframe tbody tr th:only-of-type {\n",
       "        vertical-align: middle;\n",
       "    }\n",
       "\n",
       "    .dataframe tbody tr th {\n",
       "        vertical-align: top;\n",
       "    }\n",
       "\n",
       "    .dataframe thead th {\n",
       "        text-align: right;\n",
       "    }\n",
       "</style>\n",
       "<table border=\"1\" class=\"dataframe\">\n",
       "  <thead>\n",
       "    <tr style=\"text-align: right;\">\n",
       "      <th></th>\n",
       "      <th>분양가격</th>\n",
       "      <th>평당분양가격</th>\n",
       "    </tr>\n",
       "  </thead>\n",
       "  <tbody>\n",
       "    <tr>\n",
       "      <th>0</th>\n",
       "      <td>5841.0</td>\n",
       "      <td>19275.3</td>\n",
       "    </tr>\n",
       "    <tr>\n",
       "      <th>1</th>\n",
       "      <td>5652.0</td>\n",
       "      <td>18651.6</td>\n",
       "    </tr>\n",
       "    <tr>\n",
       "      <th>2</th>\n",
       "      <td>5882.0</td>\n",
       "      <td>19410.6</td>\n",
       "    </tr>\n",
       "    <tr>\n",
       "      <th>3</th>\n",
       "      <td>5721.0</td>\n",
       "      <td>18879.3</td>\n",
       "    </tr>\n",
       "    <tr>\n",
       "      <th>4</th>\n",
       "      <td>5879.0</td>\n",
       "      <td>19400.7</td>\n",
       "    </tr>\n",
       "  </tbody>\n",
       "</table>\n",
       "</div>"
      ],
      "text/plain": [
       "     분양가격   평당분양가격\n",
       "0  5841.0  19275.3\n",
       "1  5652.0  18651.6\n",
       "2  5882.0  19410.6\n",
       "3  5721.0  18879.3\n",
       "4  5879.0  19400.7"
      ]
     },
     "execution_count": 30,
     "metadata": {},
     "output_type": "execute_result"
    }
   ],
   "source": [
    "df_last['평당분양가격'] = df_last['분양가격'] * 3.3\n",
    "df_last[['분양가격', '평당분양가격']].head()"
   ]
  },
  {
   "cell_type": "markdown",
   "metadata": {
    "colab_type": "text",
    "id": "O0PFKeVrJZVG"
   },
   "source": [
    "### 분양가격 요약하기"
   ]
  },
  {
   "cell_type": "code",
   "execution_count": 31,
   "metadata": {
    "colab": {},
    "colab_type": "code",
    "id": "dUFsWpx1JZVH"
   },
   "outputs": [
    {
     "name": "stdout",
     "output_type": "stream",
     "text": [
      "<class 'pandas.core.frame.DataFrame'>\n",
      "RangeIndex: 4080 entries, 0 to 4079\n",
      "Data columns (total 7 columns):\n",
      "지역명        4080 non-null object\n",
      "규모구분       4080 non-null object\n",
      "연도         4080 non-null int64\n",
      "월          4080 non-null int64\n",
      "분양가격(㎡)    3827 non-null object\n",
      "분양가격       3726 non-null float64\n",
      "평당분양가격     3726 non-null float64\n",
      "dtypes: float64(2), int64(2), object(3)\n",
      "memory usage: 223.2+ KB\n"
     ]
    }
   ],
   "source": [
    "# info를 통해 분양가격을 봅니다.\n",
    "df_last.info()"
   ]
  },
  {
   "cell_type": "code",
   "execution_count": 32,
   "metadata": {
    "colab": {},
    "colab_type": "code",
    "id": "V77bOjLIJZVJ"
   },
   "outputs": [
    {
     "data": {
      "text/plain": [
       "count     3827\n",
       "unique    1676\n",
       "top       2221\n",
       "freq        17\n",
       "Name: 분양가격(㎡), dtype: object"
      ]
     },
     "execution_count": 32,
     "metadata": {},
     "output_type": "execute_result"
    }
   ],
   "source": [
    "# 변경 전 컬럼인 분양가격(㎡) 컬럼을 요약합니다.\n",
    "df_last['분양가격(㎡)'].describe()"
   ]
  },
  {
   "cell_type": "code",
   "execution_count": 33,
   "metadata": {
    "colab": {},
    "colab_type": "code",
    "id": "LqwqYcy0JZVL"
   },
   "outputs": [
    {
     "data": {
      "text/plain": [
       "count     3726.000000\n",
       "mean      3201.605743\n",
       "std       1223.855504\n",
       "min       1868.000000\n",
       "25%       2418.500000\n",
       "50%       2855.000000\n",
       "75%       3508.000000\n",
       "max      12728.000000\n",
       "Name: 분양가격, dtype: float64"
      ]
     },
     "execution_count": 33,
     "metadata": {},
     "output_type": "execute_result"
    }
   ],
   "source": [
    "# 수치데이터로 변경된 분양가격 컬럼을 요약합니다.\n",
    "df_last['분양가격'].describe()"
   ]
  },
  {
   "cell_type": "markdown",
   "metadata": {
    "colab_type": "text",
    "id": "AReZC_8JJZVO"
   },
   "source": [
    "### 규모구분을 전용면적 컬럼으로 변경\n",
    "규모구분 컬럼은 전용면적에 대한 내용이 있습니다. 전용면적이라는 문구가 공통적으로 들어가고 규모구분보다는 전용면적이 좀 더 직관적이기 때문에 전용면적이라는 컬럼을 새로 만들어주고 기존 규모구분의 값에서 전용면적, 초과, 이하 등의 문구를 빼고 간결하게 만들어 봅니다.\n",
    "\n",
    "이 때 str 의 replace 기능을 사용해서 예를들면 \"전용면적 60㎡초과 85㎡이하\"라면 \"60㎡~85㎡\" 로 변경해 줍니다."
   ]
  },
  {
   "cell_type": "code",
   "execution_count": 35,
   "metadata": {
    "colab": {},
    "colab_type": "code",
    "id": "c_lCPSzLJZVO"
   },
   "outputs": [
    {
     "data": {
      "text/html": [
       "<div>\n",
       "<style scoped>\n",
       "    .dataframe tbody tr th:only-of-type {\n",
       "        vertical-align: middle;\n",
       "    }\n",
       "\n",
       "    .dataframe tbody tr th {\n",
       "        vertical-align: top;\n",
       "    }\n",
       "\n",
       "    .dataframe thead th {\n",
       "        text-align: right;\n",
       "    }\n",
       "</style>\n",
       "<table border=\"1\" class=\"dataframe\">\n",
       "  <thead>\n",
       "    <tr style=\"text-align: right;\">\n",
       "      <th></th>\n",
       "      <th>지역명</th>\n",
       "      <th>규모구분</th>\n",
       "      <th>연도</th>\n",
       "      <th>월</th>\n",
       "      <th>분양가격(㎡)</th>\n",
       "      <th>분양가격</th>\n",
       "      <th>평당분양가격</th>\n",
       "      <th>전용면적</th>\n",
       "    </tr>\n",
       "  </thead>\n",
       "  <tbody>\n",
       "    <tr>\n",
       "      <th>0</th>\n",
       "      <td>서울</td>\n",
       "      <td>전체</td>\n",
       "      <td>2015</td>\n",
       "      <td>10</td>\n",
       "      <td>5841</td>\n",
       "      <td>5841.0</td>\n",
       "      <td>19275.3</td>\n",
       "      <td>전체</td>\n",
       "    </tr>\n",
       "    <tr>\n",
       "      <th>1</th>\n",
       "      <td>서울</td>\n",
       "      <td>전용면적 60㎡이하</td>\n",
       "      <td>2015</td>\n",
       "      <td>10</td>\n",
       "      <td>5652</td>\n",
       "      <td>5652.0</td>\n",
       "      <td>18651.6</td>\n",
       "      <td>60㎡</td>\n",
       "    </tr>\n",
       "    <tr>\n",
       "      <th>2</th>\n",
       "      <td>서울</td>\n",
       "      <td>전용면적 60㎡초과 85㎡이하</td>\n",
       "      <td>2015</td>\n",
       "      <td>10</td>\n",
       "      <td>5882</td>\n",
       "      <td>5882.0</td>\n",
       "      <td>19410.6</td>\n",
       "      <td>60㎡~ 85㎡</td>\n",
       "    </tr>\n",
       "    <tr>\n",
       "      <th>3</th>\n",
       "      <td>서울</td>\n",
       "      <td>전용면적 85㎡초과 102㎡이하</td>\n",
       "      <td>2015</td>\n",
       "      <td>10</td>\n",
       "      <td>5721</td>\n",
       "      <td>5721.0</td>\n",
       "      <td>18879.3</td>\n",
       "      <td>85㎡~ 102㎡</td>\n",
       "    </tr>\n",
       "    <tr>\n",
       "      <th>4</th>\n",
       "      <td>서울</td>\n",
       "      <td>전용면적 102㎡초과</td>\n",
       "      <td>2015</td>\n",
       "      <td>10</td>\n",
       "      <td>5879</td>\n",
       "      <td>5879.0</td>\n",
       "      <td>19400.7</td>\n",
       "      <td>102㎡~</td>\n",
       "    </tr>\n",
       "  </tbody>\n",
       "</table>\n",
       "</div>"
      ],
      "text/plain": [
       "  지역명               규모구분    연도   월 분양가격(㎡)    분양가격   평당분양가격        전용면적\n",
       "0  서울                 전체  2015  10    5841  5841.0  19275.3          전체\n",
       "1  서울         전용면적 60㎡이하  2015  10    5652  5652.0  18651.6         60㎡\n",
       "2  서울   전용면적 60㎡초과 85㎡이하  2015  10    5882  5882.0  19410.6    60㎡~ 85㎡\n",
       "3  서울  전용면적 85㎡초과 102㎡이하  2015  10    5721  5721.0  18879.3   85㎡~ 102㎡\n",
       "4  서울        전용면적 102㎡초과  2015  10    5879  5879.0  19400.7       102㎡~"
      ]
     },
     "execution_count": 35,
     "metadata": {},
     "output_type": "execute_result"
    }
   ],
   "source": [
    "df_last['전용면적'] = df_last['규모구분'].str.replace('전용면적','')\n",
    "df_last['전용면적'] = df_last['전용면적'].str.replace('초과',\"~\")\n",
    "df_last['전용면적'] = df_last['전용면적'].str.replace('이하',\"\")\n",
    "df_last.head()"
   ]
  },
  {
   "cell_type": "markdown",
   "metadata": {
    "colab_type": "text",
    "id": "y6kOVY3CJZVQ"
   },
   "source": [
    "### 데이터시각화를 위한 폰트설정\n",
    "한글폰트 사용을 위해 matplotlib의 pyplot을 plt라는 별칭으로 불러옵니다."
   ]
  },
  {
   "cell_type": "code",
   "execution_count": 51,
   "metadata": {
    "colab": {},
    "colab_type": "code",
    "id": "gikJ-pZqJZVR"
   },
   "outputs": [],
   "source": [
    "import matplotlib.pyplot as plt\n",
    "\n",
    "plt.rc('font', family='Malgun Gothic')"
   ]
  },
  {
   "cell_type": "markdown",
   "metadata": {
    "colab_type": "text",
    "id": "qhS9AqdkJZVT"
   },
   "source": [
    "## groupby 로 데이터 집계하기\n",
    "groupby 를 통해 지역별 분양가격의 평균값을 구하고 그래프로 그려봅니다.\n",
    "pandas의 plot을 활용하면 다양한 그래프를 그릴 수 있습니다.\n",
    "seaborn을 사용했을 때보다 pandas를 사용해서 시각화를 할 때의 장점은 미리 계산을 하고 그리기 때문에 속도가 좀 더 빠릅니다."
   ]
  },
  {
   "cell_type": "code",
   "execution_count": 196,
   "metadata": {
    "colab": {},
    "colab_type": "code",
    "id": "zLLbvsgAJZVV"
   },
   "outputs": [
    {
     "data": {
      "text/plain": [
       "<matplotlib.axes._subplots.AxesSubplot at 0x126846e69b0>"
      ]
     },
     "execution_count": 196,
     "metadata": {},
     "output_type": "execute_result"
    },
    {
     "data": {
      "image/png": "[encoded data removed]",
      "text/plain": [
       "<Figure size 720x288 with 1 Axes>"
      ]
     },
     "metadata": {},
     "output_type": "display_data"
    }
   ],
   "source": [
    "# 지역명으로 분양가격의 평균을 구하고 막대그래프(bar)로 시각화 합니다.\n",
    "df_last.groupby(['지역명'])['분양가격'].mean().plot.bar(rot=0, figsize=(10,4))"
   ]
  },
  {
   "cell_type": "code",
   "execution_count": 39,
   "metadata": {},
   "outputs": [],
   "source": []
  },
  {
   "cell_type": "markdown",
   "metadata": {
    "colab_type": "text",
    "id": "mW5UyrkSJZVZ"
   },
   "source": [
    "전용면적별 분양가격의 평균값을 구하고 그래프로 그려봅니다."
   ]
  },
  {
   "cell_type": "code",
   "execution_count": 197,
   "metadata": {
    "colab": {},
    "colab_type": "code",
    "id": "YL0cMtMGJZVa"
   },
   "outputs": [
    {
     "data": {
      "text/plain": [
       "<matplotlib.axes._subplots.AxesSubplot at 0x126846e66d8>"
      ]
     },
     "execution_count": 197,
     "metadata": {},
     "output_type": "execute_result"
    },
    {
     "data": {
      "image/png": "[encoded data removed]",
      "text/plain": [
       "<Figure size 432x288 with 1 Axes>"
      ]
     },
     "metadata": {},
     "output_type": "display_data"
    }
   ],
   "source": [
    "# 전용면적으로 분양가격의 평균을 구하고 막대그래프(bar)로 시각화 합니다.\n",
    "df_last.groupby(['전용면적'])['분양가격'].mean().plot.barh()"
   ]
  },
  {
   "cell_type": "code",
   "execution_count": 54,
   "metadata": {},
   "outputs": [
    {
     "name": "stdout",
     "output_type": "stream",
     "text": [
      "1.17 ms ± 21.9 µs per loop (mean ± std. dev. of 7 runs, 1000 loops each)\n"
     ]
    }
   ],
   "source": [
    "%timeit df_last.groupby(['전용면적'])['분양가격'].mean()"
   ]
  },
  {
   "cell_type": "code",
   "execution_count": 55,
   "metadata": {},
   "outputs": [
    {
     "name": "stdout",
     "output_type": "stream",
     "text": [
      "7 ms ± 251 µs per loop (mean ± std. dev. of 7 runs, 100 loops each)\n"
     ]
    }
   ],
   "source": [
    "%timeit df_last.pivot_table(index='전용면적', values='분양가격')"
   ]
  },
  {
   "cell_type": "code",
   "execution_count": 198,
   "metadata": {},
   "outputs": [
    {
     "data": {
      "text/plain": [
       "<matplotlib.axes._subplots.AxesSubplot at 0x126847eb908>"
      ]
     },
     "execution_count": 198,
     "metadata": {},
     "output_type": "execute_result"
    },
    {
     "data": {
      "image/png": "[encoded data removed]",
      "text/plain": [
       "<Figure size 432x288 with 1 Axes>"
      ]
     },
     "metadata": {},
     "output_type": "display_data"
    }
   ],
   "source": [
    "# pivot_table 사용 (values 의 default값 -> mean.)\n",
    "df_last.pivot_table(index='전용면적', values='분양가격').plot.barh()"
   ]
  },
  {
   "cell_type": "markdown",
   "metadata": {
    "colab_type": "text",
    "id": "R5QxvdFJJZVc"
   },
   "source": [
    "## box-and-whisker plot | diagram\n",
    "\n",
    "* https://pandas.pydata.org/pandas-docs/stable/user_guide/visualization.html\n",
    "* https://pandas.pydata.org/pandas-docs/stable/reference/api/pandas.DataFrame.boxplot.html\n",
    "\n",
    "* [상자 수염 그림 - 위키백과, 우리 모두의 백과사전](https://ko.wikipedia.org/wiki/%EC%83%81%EC%9E%90_%EC%88%98%EC%97%BC_%EA%B7%B8%EB%A6%BC)\n",
    "* 가공하지 않은 자료 그대로를 이용하여 그린 것이 아니라, 자료로부터 얻어낸 통계량인 5가지 요약 수치로 그린다.\n",
    "* 5가지 요약 수치란 기술통계학에서 자료의 정보를 알려주는 아래의 다섯 가지 수치를 의미한다.\n",
    "\n",
    "\n",
    "1. 최솟값\n",
    "1. 제 1사분위수\n",
    "1. 제 2사분위수( ), 즉 중앙값\n",
    "1. 제 3 사분위 수( )\n",
    "1. 최댓값\n",
    "\n",
    "* Box plot 이해하기 : \n",
    "    * [박스 플롯에 대하여 :: -[|]- Box and Whisker](https://boxnwhis.kr/2019/02/19/boxplot.html)\n",
    "    * [Understanding Boxplots – Towards Data Science](https://towardsdatascience.com/understanding-boxplots-5e2df7bcbd51)"
   ]
  },
  {
   "cell_type": "code",
   "execution_count": 60,
   "metadata": {
    "colab": {},
    "colab_type": "code",
    "id": "Z8nv1y-nJZVd"
   },
   "outputs": [
    {
     "data": {
      "text/plain": [
       "전용면적\n",
       " 102㎡~        3445.238420\n",
       " 60㎡          3117.587131\n",
       " 60㎡~ 85㎡     3080.829114\n",
       " 85㎡~ 102㎡    3311.575075\n",
       "전체            3082.650633\n",
       "Name: 분양가격, dtype: float64"
      ]
     },
     "execution_count": 60,
     "metadata": {},
     "output_type": "execute_result"
    }
   ],
   "source": [
    "df_last.groupby(['전용면적'])['분양가격'].mean()"
   ]
  },
  {
   "cell_type": "code",
   "execution_count": 199,
   "metadata": {
    "colab": {},
    "colab_type": "code",
    "id": "5kFet7u0JZVf"
   },
   "outputs": [
    {
     "data": {
      "text/plain": [
       "<matplotlib.axes._subplots.AxesSubplot at 0x12685864748>"
      ]
     },
     "execution_count": 199,
     "metadata": {},
     "output_type": "execute_result"
    },
    {
     "data": {
      "image/png": "[encoded data removed]",
      "text/plain": [
       "<Figure size 720x288 with 1 Axes>"
      ]
     },
     "metadata": {},
     "output_type": "display_data"
    }
   ],
   "source": [
    "df_last[['지역명', '평당분양가격']].boxplot(by='지역명', figsize=(10,4))"
   ]
  },
  {
   "cell_type": "code",
   "execution_count": 200,
   "metadata": {
    "colab": {},
    "colab_type": "code",
    "id": "yzIX8EHnJZVh"
   },
   "outputs": [
    {
     "data": {
      "text/plain": [
       "<matplotlib.axes._subplots.AxesSubplot at 0x12685a12048>"
      ]
     },
     "execution_count": 200,
     "metadata": {},
     "output_type": "execute_result"
    },
    {
     "data": {
      "image/png": "[encoded data removed]",
      "text/plain": [
       "<Figure size 720x288 with 1 Axes>"
      ]
     },
     "metadata": {},
     "output_type": "display_data"
    }
   ],
   "source": [
    "df_last[['연도', '평당분양가격']].boxplot(by='연도', figsize=(10,4))"
   ]
  },
  {
   "cell_type": "code",
   "execution_count": 201,
   "metadata": {
    "colab": {},
    "colab_type": "code",
    "id": "NVMvZdl8JZVj"
   },
   "outputs": [
    {
     "data": {
      "text/plain": [
       "<matplotlib.axes._subplots.AxesSubplot at 0x12685a3af28>"
      ]
     },
     "execution_count": 201,
     "metadata": {},
     "output_type": "execute_result"
    },
    {
     "data": {
      "image/png": "[encoded data removed]",
      "text/plain": [
       "<Figure size 1440x288 with 1 Axes>"
      ]
     },
     "metadata": {},
     "output_type": "display_data"
    }
   ],
   "source": [
    "df_last[['연도', '지역명', '평당분양가격']].boxplot(by=['연도', '지역명'], figsize=(20,4))"
   ]
  },
  {
   "cell_type": "code",
   "execution_count": 67,
   "metadata": {
    "colab": {},
    "colab_type": "code",
    "id": "jEGHLEpmJZVl"
   },
   "outputs": [
    {
     "data": {
      "text/html": [
       "<div>\n",
       "<style scoped>\n",
       "    .dataframe tbody tr th:only-of-type {\n",
       "        vertical-align: middle;\n",
       "    }\n",
       "\n",
       "    .dataframe tbody tr th {\n",
       "        vertical-align: top;\n",
       "    }\n",
       "\n",
       "    .dataframe thead th {\n",
       "        text-align: right;\n",
       "    }\n",
       "</style>\n",
       "<table border=\"1\" class=\"dataframe\">\n",
       "  <thead>\n",
       "    <tr style=\"text-align: right;\">\n",
       "      <th></th>\n",
       "      <th>지역명</th>\n",
       "      <th>규모구분</th>\n",
       "      <th>연도</th>\n",
       "      <th>월</th>\n",
       "      <th>분양가격(㎡)</th>\n",
       "      <th>분양가격</th>\n",
       "      <th>평당분양가격</th>\n",
       "      <th>전용면적</th>\n",
       "    </tr>\n",
       "  </thead>\n",
       "  <tbody>\n",
       "    <tr>\n",
       "      <th>0</th>\n",
       "      <td>서울</td>\n",
       "      <td>전체</td>\n",
       "      <td>2015</td>\n",
       "      <td>10</td>\n",
       "      <td>5841</td>\n",
       "      <td>5841.0</td>\n",
       "      <td>19275.3</td>\n",
       "      <td>전체</td>\n",
       "    </tr>\n",
       "    <tr>\n",
       "      <th>1</th>\n",
       "      <td>서울</td>\n",
       "      <td>전용면적 60㎡이하</td>\n",
       "      <td>2015</td>\n",
       "      <td>10</td>\n",
       "      <td>5652</td>\n",
       "      <td>5652.0</td>\n",
       "      <td>18651.6</td>\n",
       "      <td>60㎡</td>\n",
       "    </tr>\n",
       "    <tr>\n",
       "      <th>2</th>\n",
       "      <td>서울</td>\n",
       "      <td>전용면적 60㎡초과 85㎡이하</td>\n",
       "      <td>2015</td>\n",
       "      <td>10</td>\n",
       "      <td>5882</td>\n",
       "      <td>5882.0</td>\n",
       "      <td>19410.6</td>\n",
       "      <td>60㎡~ 85㎡</td>\n",
       "    </tr>\n",
       "    <tr>\n",
       "      <th>3</th>\n",
       "      <td>서울</td>\n",
       "      <td>전용면적 85㎡초과 102㎡이하</td>\n",
       "      <td>2015</td>\n",
       "      <td>10</td>\n",
       "      <td>5721</td>\n",
       "      <td>5721.0</td>\n",
       "      <td>18879.3</td>\n",
       "      <td>85㎡~ 102㎡</td>\n",
       "    </tr>\n",
       "    <tr>\n",
       "      <th>4</th>\n",
       "      <td>서울</td>\n",
       "      <td>전용면적 102㎡초과</td>\n",
       "      <td>2015</td>\n",
       "      <td>10</td>\n",
       "      <td>5879</td>\n",
       "      <td>5879.0</td>\n",
       "      <td>19400.7</td>\n",
       "      <td>102㎡~</td>\n",
       "    </tr>\n",
       "    <tr>\n",
       "      <th>85</th>\n",
       "      <td>서울</td>\n",
       "      <td>전체</td>\n",
       "      <td>2015</td>\n",
       "      <td>11</td>\n",
       "      <td>6050</td>\n",
       "      <td>6050.0</td>\n",
       "      <td>19965.0</td>\n",
       "      <td>전체</td>\n",
       "    </tr>\n",
       "    <tr>\n",
       "      <th>86</th>\n",
       "      <td>서울</td>\n",
       "      <td>전용면적 60㎡이하</td>\n",
       "      <td>2015</td>\n",
       "      <td>11</td>\n",
       "      <td>6320</td>\n",
       "      <td>6320.0</td>\n",
       "      <td>20856.0</td>\n",
       "      <td>60㎡</td>\n",
       "    </tr>\n",
       "    <tr>\n",
       "      <th>87</th>\n",
       "      <td>서울</td>\n",
       "      <td>전용면적 60㎡초과 85㎡이하</td>\n",
       "      <td>2015</td>\n",
       "      <td>11</td>\n",
       "      <td>5964</td>\n",
       "      <td>5964.0</td>\n",
       "      <td>19681.2</td>\n",
       "      <td>60㎡~ 85㎡</td>\n",
       "    </tr>\n",
       "    <tr>\n",
       "      <th>88</th>\n",
       "      <td>서울</td>\n",
       "      <td>전용면적 85㎡초과 102㎡이하</td>\n",
       "      <td>2015</td>\n",
       "      <td>11</td>\n",
       "      <td>7092</td>\n",
       "      <td>7092.0</td>\n",
       "      <td>23403.6</td>\n",
       "      <td>85㎡~ 102㎡</td>\n",
       "    </tr>\n",
       "    <tr>\n",
       "      <th>89</th>\n",
       "      <td>서울</td>\n",
       "      <td>전용면적 102㎡초과</td>\n",
       "      <td>2015</td>\n",
       "      <td>11</td>\n",
       "      <td>6551</td>\n",
       "      <td>6551.0</td>\n",
       "      <td>21618.3</td>\n",
       "      <td>102㎡~</td>\n",
       "    </tr>\n",
       "    <tr>\n",
       "      <th>170</th>\n",
       "      <td>서울</td>\n",
       "      <td>전체</td>\n",
       "      <td>2015</td>\n",
       "      <td>12</td>\n",
       "      <td>6041</td>\n",
       "      <td>6041.0</td>\n",
       "      <td>19935.3</td>\n",
       "      <td>전체</td>\n",
       "    </tr>\n",
       "    <tr>\n",
       "      <th>171</th>\n",
       "      <td>서울</td>\n",
       "      <td>전용면적 60㎡이하</td>\n",
       "      <td>2015</td>\n",
       "      <td>12</td>\n",
       "      <td>6321</td>\n",
       "      <td>6321.0</td>\n",
       "      <td>20859.3</td>\n",
       "      <td>60㎡</td>\n",
       "    </tr>\n",
       "    <tr>\n",
       "      <th>172</th>\n",
       "      <td>서울</td>\n",
       "      <td>전용면적 60㎡초과 85㎡이하</td>\n",
       "      <td>2015</td>\n",
       "      <td>12</td>\n",
       "      <td>5966</td>\n",
       "      <td>5966.0</td>\n",
       "      <td>19687.8</td>\n",
       "      <td>60㎡~ 85㎡</td>\n",
       "    </tr>\n",
       "    <tr>\n",
       "      <th>173</th>\n",
       "      <td>서울</td>\n",
       "      <td>전용면적 85㎡초과 102㎡이하</td>\n",
       "      <td>2015</td>\n",
       "      <td>12</td>\n",
       "      <td>6513</td>\n",
       "      <td>6513.0</td>\n",
       "      <td>21492.9</td>\n",
       "      <td>85㎡~ 102㎡</td>\n",
       "    </tr>\n",
       "    <tr>\n",
       "      <th>174</th>\n",
       "      <td>서울</td>\n",
       "      <td>전용면적 102㎡초과</td>\n",
       "      <td>2015</td>\n",
       "      <td>12</td>\n",
       "      <td>6551</td>\n",
       "      <td>6551.0</td>\n",
       "      <td>21618.3</td>\n",
       "      <td>102㎡~</td>\n",
       "    </tr>\n",
       "    <tr>\n",
       "      <th>255</th>\n",
       "      <td>서울</td>\n",
       "      <td>전체</td>\n",
       "      <td>2016</td>\n",
       "      <td>1</td>\n",
       "      <td>6108</td>\n",
       "      <td>6108.0</td>\n",
       "      <td>20156.4</td>\n",
       "      <td>전체</td>\n",
       "    </tr>\n",
       "    <tr>\n",
       "      <th>256</th>\n",
       "      <td>서울</td>\n",
       "      <td>전용면적 60㎡이하</td>\n",
       "      <td>2016</td>\n",
       "      <td>1</td>\n",
       "      <td>6427</td>\n",
       "      <td>6427.0</td>\n",
       "      <td>21209.1</td>\n",
       "      <td>60㎡</td>\n",
       "    </tr>\n",
       "    <tr>\n",
       "      <th>257</th>\n",
       "      <td>서울</td>\n",
       "      <td>전용면적 60㎡초과 85㎡이하</td>\n",
       "      <td>2016</td>\n",
       "      <td>1</td>\n",
       "      <td>6036</td>\n",
       "      <td>6036.0</td>\n",
       "      <td>19918.8</td>\n",
       "      <td>60㎡~ 85㎡</td>\n",
       "    </tr>\n",
       "    <tr>\n",
       "      <th>258</th>\n",
       "      <td>서울</td>\n",
       "      <td>전용면적 85㎡초과 102㎡이하</td>\n",
       "      <td>2016</td>\n",
       "      <td>1</td>\n",
       "      <td>6513</td>\n",
       "      <td>6513.0</td>\n",
       "      <td>21492.9</td>\n",
       "      <td>85㎡~ 102㎡</td>\n",
       "    </tr>\n",
       "    <tr>\n",
       "      <th>259</th>\n",
       "      <td>서울</td>\n",
       "      <td>전용면적 102㎡초과</td>\n",
       "      <td>2016</td>\n",
       "      <td>1</td>\n",
       "      <td>6551</td>\n",
       "      <td>6551.0</td>\n",
       "      <td>21618.3</td>\n",
       "      <td>102㎡~</td>\n",
       "    </tr>\n",
       "    <tr>\n",
       "      <th>340</th>\n",
       "      <td>서울</td>\n",
       "      <td>전체</td>\n",
       "      <td>2016</td>\n",
       "      <td>2</td>\n",
       "      <td>6111</td>\n",
       "      <td>6111.0</td>\n",
       "      <td>20166.3</td>\n",
       "      <td>전체</td>\n",
       "    </tr>\n",
       "    <tr>\n",
       "      <th>341</th>\n",
       "      <td>서울</td>\n",
       "      <td>전용면적 60㎡이하</td>\n",
       "      <td>2016</td>\n",
       "      <td>2</td>\n",
       "      <td>6438</td>\n",
       "      <td>6438.0</td>\n",
       "      <td>21245.4</td>\n",
       "      <td>60㎡</td>\n",
       "    </tr>\n",
       "    <tr>\n",
       "      <th>342</th>\n",
       "      <td>서울</td>\n",
       "      <td>전용면적 60㎡초과 85㎡이하</td>\n",
       "      <td>2016</td>\n",
       "      <td>2</td>\n",
       "      <td>6039</td>\n",
       "      <td>6039.0</td>\n",
       "      <td>19928.7</td>\n",
       "      <td>60㎡~ 85㎡</td>\n",
       "    </tr>\n",
       "    <tr>\n",
       "      <th>343</th>\n",
       "      <td>서울</td>\n",
       "      <td>전용면적 85㎡초과 102㎡이하</td>\n",
       "      <td>2016</td>\n",
       "      <td>2</td>\n",
       "      <td>6513</td>\n",
       "      <td>6513.0</td>\n",
       "      <td>21492.9</td>\n",
       "      <td>85㎡~ 102㎡</td>\n",
       "    </tr>\n",
       "    <tr>\n",
       "      <th>344</th>\n",
       "      <td>서울</td>\n",
       "      <td>전용면적 102㎡초과</td>\n",
       "      <td>2016</td>\n",
       "      <td>2</td>\n",
       "      <td>6458</td>\n",
       "      <td>6458.0</td>\n",
       "      <td>21311.4</td>\n",
       "      <td>102㎡~</td>\n",
       "    </tr>\n",
       "    <tr>\n",
       "      <th>425</th>\n",
       "      <td>서울</td>\n",
       "      <td>전체</td>\n",
       "      <td>2016</td>\n",
       "      <td>3</td>\n",
       "      <td>6173</td>\n",
       "      <td>6173.0</td>\n",
       "      <td>20370.9</td>\n",
       "      <td>전체</td>\n",
       "    </tr>\n",
       "    <tr>\n",
       "      <th>426</th>\n",
       "      <td>서울</td>\n",
       "      <td>전용면적 60㎡이하</td>\n",
       "      <td>2016</td>\n",
       "      <td>3</td>\n",
       "      <td>6550</td>\n",
       "      <td>6550.0</td>\n",
       "      <td>21615.0</td>\n",
       "      <td>60㎡</td>\n",
       "    </tr>\n",
       "    <tr>\n",
       "      <th>427</th>\n",
       "      <td>서울</td>\n",
       "      <td>전용면적 60㎡초과 85㎡이하</td>\n",
       "      <td>2016</td>\n",
       "      <td>3</td>\n",
       "      <td>6127</td>\n",
       "      <td>6127.0</td>\n",
       "      <td>20219.1</td>\n",
       "      <td>60㎡~ 85㎡</td>\n",
       "    </tr>\n",
       "    <tr>\n",
       "      <th>428</th>\n",
       "      <td>서울</td>\n",
       "      <td>전용면적 85㎡초과 102㎡이하</td>\n",
       "      <td>2016</td>\n",
       "      <td>3</td>\n",
       "      <td>7179</td>\n",
       "      <td>7179.0</td>\n",
       "      <td>23690.7</td>\n",
       "      <td>85㎡~ 102㎡</td>\n",
       "    </tr>\n",
       "    <tr>\n",
       "      <th>429</th>\n",
       "      <td>서울</td>\n",
       "      <td>전용면적 102㎡초과</td>\n",
       "      <td>2016</td>\n",
       "      <td>3</td>\n",
       "      <td>6371</td>\n",
       "      <td>6371.0</td>\n",
       "      <td>21024.3</td>\n",
       "      <td>102㎡~</td>\n",
       "    </tr>\n",
       "    <tr>\n",
       "      <th>...</th>\n",
       "      <td>...</td>\n",
       "      <td>...</td>\n",
       "      <td>...</td>\n",
       "      <td>...</td>\n",
       "      <td>...</td>\n",
       "      <td>...</td>\n",
       "      <td>...</td>\n",
       "      <td>...</td>\n",
       "    </tr>\n",
       "    <tr>\n",
       "      <th>3570</th>\n",
       "      <td>서울</td>\n",
       "      <td>전체</td>\n",
       "      <td>2019</td>\n",
       "      <td>4</td>\n",
       "      <td>7784</td>\n",
       "      <td>7784.0</td>\n",
       "      <td>25687.2</td>\n",
       "      <td>전체</td>\n",
       "    </tr>\n",
       "    <tr>\n",
       "      <th>3571</th>\n",
       "      <td>서울</td>\n",
       "      <td>전용면적 60㎡이하</td>\n",
       "      <td>2019</td>\n",
       "      <td>4</td>\n",
       "      <td>7894</td>\n",
       "      <td>7894.0</td>\n",
       "      <td>26050.2</td>\n",
       "      <td>60㎡</td>\n",
       "    </tr>\n",
       "    <tr>\n",
       "      <th>3572</th>\n",
       "      <td>서울</td>\n",
       "      <td>전용면적 60㎡초과 85㎡이하</td>\n",
       "      <td>2019</td>\n",
       "      <td>4</td>\n",
       "      <td>8272</td>\n",
       "      <td>8272.0</td>\n",
       "      <td>27297.6</td>\n",
       "      <td>60㎡~ 85㎡</td>\n",
       "    </tr>\n",
       "    <tr>\n",
       "      <th>3573</th>\n",
       "      <td>서울</td>\n",
       "      <td>전용면적 85㎡초과 102㎡이하</td>\n",
       "      <td>2019</td>\n",
       "      <td>4</td>\n",
       "      <td>6842</td>\n",
       "      <td>6842.0</td>\n",
       "      <td>22578.6</td>\n",
       "      <td>85㎡~ 102㎡</td>\n",
       "    </tr>\n",
       "    <tr>\n",
       "      <th>3574</th>\n",
       "      <td>서울</td>\n",
       "      <td>전용면적 102㎡초과</td>\n",
       "      <td>2019</td>\n",
       "      <td>4</td>\n",
       "      <td>7683</td>\n",
       "      <td>7683.0</td>\n",
       "      <td>25353.9</td>\n",
       "      <td>102㎡~</td>\n",
       "    </tr>\n",
       "    <tr>\n",
       "      <th>3655</th>\n",
       "      <td>서울</td>\n",
       "      <td>전체</td>\n",
       "      <td>2019</td>\n",
       "      <td>5</td>\n",
       "      <td>7786</td>\n",
       "      <td>7786.0</td>\n",
       "      <td>25693.8</td>\n",
       "      <td>전체</td>\n",
       "    </tr>\n",
       "    <tr>\n",
       "      <th>3656</th>\n",
       "      <td>서울</td>\n",
       "      <td>전용면적 60㎡이하</td>\n",
       "      <td>2019</td>\n",
       "      <td>5</td>\n",
       "      <td>8104</td>\n",
       "      <td>8104.0</td>\n",
       "      <td>26743.2</td>\n",
       "      <td>60㎡</td>\n",
       "    </tr>\n",
       "    <tr>\n",
       "      <th>3657</th>\n",
       "      <td>서울</td>\n",
       "      <td>전용면적 60㎡초과 85㎡이하</td>\n",
       "      <td>2019</td>\n",
       "      <td>5</td>\n",
       "      <td>8336</td>\n",
       "      <td>8336.0</td>\n",
       "      <td>27508.8</td>\n",
       "      <td>60㎡~ 85㎡</td>\n",
       "    </tr>\n",
       "    <tr>\n",
       "      <th>3658</th>\n",
       "      <td>서울</td>\n",
       "      <td>전용면적 85㎡초과 102㎡이하</td>\n",
       "      <td>2019</td>\n",
       "      <td>5</td>\n",
       "      <td>6842</td>\n",
       "      <td>6842.0</td>\n",
       "      <td>22578.6</td>\n",
       "      <td>85㎡~ 102㎡</td>\n",
       "    </tr>\n",
       "    <tr>\n",
       "      <th>3659</th>\n",
       "      <td>서울</td>\n",
       "      <td>전용면적 102㎡초과</td>\n",
       "      <td>2019</td>\n",
       "      <td>5</td>\n",
       "      <td>7831</td>\n",
       "      <td>7831.0</td>\n",
       "      <td>25842.3</td>\n",
       "      <td>102㎡~</td>\n",
       "    </tr>\n",
       "    <tr>\n",
       "      <th>3740</th>\n",
       "      <td>서울</td>\n",
       "      <td>전체</td>\n",
       "      <td>2019</td>\n",
       "      <td>6</td>\n",
       "      <td>8100</td>\n",
       "      <td>8100.0</td>\n",
       "      <td>26730.0</td>\n",
       "      <td>전체</td>\n",
       "    </tr>\n",
       "    <tr>\n",
       "      <th>3741</th>\n",
       "      <td>서울</td>\n",
       "      <td>전용면적 60㎡이하</td>\n",
       "      <td>2019</td>\n",
       "      <td>6</td>\n",
       "      <td>8281</td>\n",
       "      <td>8281.0</td>\n",
       "      <td>27327.3</td>\n",
       "      <td>60㎡</td>\n",
       "    </tr>\n",
       "    <tr>\n",
       "      <th>3742</th>\n",
       "      <td>서울</td>\n",
       "      <td>전용면적 60㎡초과 85㎡이하</td>\n",
       "      <td>2019</td>\n",
       "      <td>6</td>\n",
       "      <td>8588</td>\n",
       "      <td>8588.0</td>\n",
       "      <td>28340.4</td>\n",
       "      <td>60㎡~ 85㎡</td>\n",
       "    </tr>\n",
       "    <tr>\n",
       "      <th>3743</th>\n",
       "      <td>서울</td>\n",
       "      <td>전용면적 85㎡초과 102㎡이하</td>\n",
       "      <td>2019</td>\n",
       "      <td>6</td>\n",
       "      <td>12728</td>\n",
       "      <td>12728.0</td>\n",
       "      <td>42002.4</td>\n",
       "      <td>85㎡~ 102㎡</td>\n",
       "    </tr>\n",
       "    <tr>\n",
       "      <th>3744</th>\n",
       "      <td>서울</td>\n",
       "      <td>전용면적 102㎡초과</td>\n",
       "      <td>2019</td>\n",
       "      <td>6</td>\n",
       "      <td>8430</td>\n",
       "      <td>8430.0</td>\n",
       "      <td>27819.0</td>\n",
       "      <td>102㎡~</td>\n",
       "    </tr>\n",
       "    <tr>\n",
       "      <th>3825</th>\n",
       "      <td>서울</td>\n",
       "      <td>전체</td>\n",
       "      <td>2019</td>\n",
       "      <td>7</td>\n",
       "      <td>8067</td>\n",
       "      <td>8067.0</td>\n",
       "      <td>26621.1</td>\n",
       "      <td>전체</td>\n",
       "    </tr>\n",
       "    <tr>\n",
       "      <th>3826</th>\n",
       "      <td>서울</td>\n",
       "      <td>전용면적 60㎡이하</td>\n",
       "      <td>2019</td>\n",
       "      <td>7</td>\n",
       "      <td>8231</td>\n",
       "      <td>8231.0</td>\n",
       "      <td>27162.3</td>\n",
       "      <td>60㎡</td>\n",
       "    </tr>\n",
       "    <tr>\n",
       "      <th>3827</th>\n",
       "      <td>서울</td>\n",
       "      <td>전용면적 60㎡초과 85㎡이하</td>\n",
       "      <td>2019</td>\n",
       "      <td>7</td>\n",
       "      <td>8506</td>\n",
       "      <td>8506.0</td>\n",
       "      <td>28069.8</td>\n",
       "      <td>60㎡~ 85㎡</td>\n",
       "    </tr>\n",
       "    <tr>\n",
       "      <th>3828</th>\n",
       "      <td>서울</td>\n",
       "      <td>전용면적 85㎡초과 102㎡이하</td>\n",
       "      <td>2019</td>\n",
       "      <td>7</td>\n",
       "      <td>12728</td>\n",
       "      <td>12728.0</td>\n",
       "      <td>42002.4</td>\n",
       "      <td>85㎡~ 102㎡</td>\n",
       "    </tr>\n",
       "    <tr>\n",
       "      <th>3829</th>\n",
       "      <td>서울</td>\n",
       "      <td>전용면적 102㎡초과</td>\n",
       "      <td>2019</td>\n",
       "      <td>7</td>\n",
       "      <td>8430</td>\n",
       "      <td>8430.0</td>\n",
       "      <td>27819.0</td>\n",
       "      <td>102㎡~</td>\n",
       "    </tr>\n",
       "    <tr>\n",
       "      <th>3910</th>\n",
       "      <td>서울</td>\n",
       "      <td>전체</td>\n",
       "      <td>2019</td>\n",
       "      <td>8</td>\n",
       "      <td>8093</td>\n",
       "      <td>8093.0</td>\n",
       "      <td>26706.9</td>\n",
       "      <td>전체</td>\n",
       "    </tr>\n",
       "    <tr>\n",
       "      <th>3911</th>\n",
       "      <td>서울</td>\n",
       "      <td>전용면적 60㎡이하</td>\n",
       "      <td>2019</td>\n",
       "      <td>8</td>\n",
       "      <td>8223</td>\n",
       "      <td>8223.0</td>\n",
       "      <td>27135.9</td>\n",
       "      <td>60㎡</td>\n",
       "    </tr>\n",
       "    <tr>\n",
       "      <th>3912</th>\n",
       "      <td>서울</td>\n",
       "      <td>전용면적 60㎡초과 85㎡이하</td>\n",
       "      <td>2019</td>\n",
       "      <td>8</td>\n",
       "      <td>8562</td>\n",
       "      <td>8562.0</td>\n",
       "      <td>28254.6</td>\n",
       "      <td>60㎡~ 85㎡</td>\n",
       "    </tr>\n",
       "    <tr>\n",
       "      <th>3913</th>\n",
       "      <td>서울</td>\n",
       "      <td>전용면적 85㎡초과 102㎡이하</td>\n",
       "      <td>2019</td>\n",
       "      <td>8</td>\n",
       "      <td>12728</td>\n",
       "      <td>12728.0</td>\n",
       "      <td>42002.4</td>\n",
       "      <td>85㎡~ 102㎡</td>\n",
       "    </tr>\n",
       "    <tr>\n",
       "      <th>3914</th>\n",
       "      <td>서울</td>\n",
       "      <td>전용면적 102㎡초과</td>\n",
       "      <td>2019</td>\n",
       "      <td>8</td>\n",
       "      <td>8866</td>\n",
       "      <td>8866.0</td>\n",
       "      <td>29257.8</td>\n",
       "      <td>102㎡~</td>\n",
       "    </tr>\n",
       "    <tr>\n",
       "      <th>3995</th>\n",
       "      <td>서울</td>\n",
       "      <td>전체</td>\n",
       "      <td>2019</td>\n",
       "      <td>9</td>\n",
       "      <td>8085</td>\n",
       "      <td>8085.0</td>\n",
       "      <td>26680.5</td>\n",
       "      <td>전체</td>\n",
       "    </tr>\n",
       "    <tr>\n",
       "      <th>3996</th>\n",
       "      <td>서울</td>\n",
       "      <td>전용면적 60㎡이하</td>\n",
       "      <td>2019</td>\n",
       "      <td>9</td>\n",
       "      <td>8205</td>\n",
       "      <td>8205.0</td>\n",
       "      <td>27076.5</td>\n",
       "      <td>60㎡</td>\n",
       "    </tr>\n",
       "    <tr>\n",
       "      <th>3997</th>\n",
       "      <td>서울</td>\n",
       "      <td>전용면적 60㎡초과 85㎡이하</td>\n",
       "      <td>2019</td>\n",
       "      <td>9</td>\n",
       "      <td>8572</td>\n",
       "      <td>8572.0</td>\n",
       "      <td>28287.6</td>\n",
       "      <td>60㎡~ 85㎡</td>\n",
       "    </tr>\n",
       "    <tr>\n",
       "      <th>3998</th>\n",
       "      <td>서울</td>\n",
       "      <td>전용면적 85㎡초과 102㎡이하</td>\n",
       "      <td>2019</td>\n",
       "      <td>9</td>\n",
       "      <td>12728</td>\n",
       "      <td>12728.0</td>\n",
       "      <td>42002.4</td>\n",
       "      <td>85㎡~ 102㎡</td>\n",
       "    </tr>\n",
       "    <tr>\n",
       "      <th>3999</th>\n",
       "      <td>서울</td>\n",
       "      <td>전용면적 102㎡초과</td>\n",
       "      <td>2019</td>\n",
       "      <td>9</td>\n",
       "      <td>8972</td>\n",
       "      <td>8972.0</td>\n",
       "      <td>29607.6</td>\n",
       "      <td>102㎡~</td>\n",
       "    </tr>\n",
       "  </tbody>\n",
       "</table>\n",
       "<p>240 rows × 8 columns</p>\n",
       "</div>"
      ],
      "text/plain": [
       "     지역명               규모구분    연도   월 분양가격(㎡)     분양가격   평당분양가격        전용면적\n",
       "0     서울                 전체  2015  10    5841   5841.0  19275.3          전체\n",
       "1     서울         전용면적 60㎡이하  2015  10    5652   5652.0  18651.6         60㎡\n",
       "2     서울   전용면적 60㎡초과 85㎡이하  2015  10    5882   5882.0  19410.6    60㎡~ 85㎡\n",
       "3     서울  전용면적 85㎡초과 102㎡이하  2015  10    5721   5721.0  18879.3   85㎡~ 102㎡\n",
       "4     서울        전용면적 102㎡초과  2015  10    5879   5879.0  19400.7       102㎡~\n",
       "85    서울                 전체  2015  11    6050   6050.0  19965.0          전체\n",
       "86    서울         전용면적 60㎡이하  2015  11    6320   6320.0  20856.0         60㎡\n",
       "87    서울   전용면적 60㎡초과 85㎡이하  2015  11    5964   5964.0  19681.2    60㎡~ 85㎡\n",
       "88    서울  전용면적 85㎡초과 102㎡이하  2015  11    7092   7092.0  23403.6   85㎡~ 102㎡\n",
       "89    서울        전용면적 102㎡초과  2015  11    6551   6551.0  21618.3       102㎡~\n",
       "170   서울                 전체  2015  12    6041   6041.0  19935.3          전체\n",
       "171   서울         전용면적 60㎡이하  2015  12    6321   6321.0  20859.3         60㎡\n",
       "172   서울   전용면적 60㎡초과 85㎡이하  2015  12    5966   5966.0  19687.8    60㎡~ 85㎡\n",
       "173   서울  전용면적 85㎡초과 102㎡이하  2015  12    6513   6513.0  21492.9   85㎡~ 102㎡\n",
       "174   서울        전용면적 102㎡초과  2015  12    6551   6551.0  21618.3       102㎡~\n",
       "255   서울                 전체  2016   1    6108   6108.0  20156.4          전체\n",
       "256   서울         전용면적 60㎡이하  2016   1    6427   6427.0  21209.1         60㎡\n",
       "257   서울   전용면적 60㎡초과 85㎡이하  2016   1    6036   6036.0  19918.8    60㎡~ 85㎡\n",
       "258   서울  전용면적 85㎡초과 102㎡이하  2016   1    6513   6513.0  21492.9   85㎡~ 102㎡\n",
       "259   서울        전용면적 102㎡초과  2016   1    6551   6551.0  21618.3       102㎡~\n",
       "340   서울                 전체  2016   2    6111   6111.0  20166.3          전체\n",
       "341   서울         전용면적 60㎡이하  2016   2    6438   6438.0  21245.4         60㎡\n",
       "342   서울   전용면적 60㎡초과 85㎡이하  2016   2    6039   6039.0  19928.7    60㎡~ 85㎡\n",
       "343   서울  전용면적 85㎡초과 102㎡이하  2016   2    6513   6513.0  21492.9   85㎡~ 102㎡\n",
       "344   서울        전용면적 102㎡초과  2016   2    6458   6458.0  21311.4       102㎡~\n",
       "425   서울                 전체  2016   3    6173   6173.0  20370.9          전체\n",
       "426   서울         전용면적 60㎡이하  2016   3    6550   6550.0  21615.0         60㎡\n",
       "427   서울   전용면적 60㎡초과 85㎡이하  2016   3    6127   6127.0  20219.1    60㎡~ 85㎡\n",
       "428   서울  전용면적 85㎡초과 102㎡이하  2016   3    7179   7179.0  23690.7   85㎡~ 102㎡\n",
       "429   서울        전용면적 102㎡초과  2016   3    6371   6371.0  21024.3       102㎡~\n",
       "...   ..                ...   ...  ..     ...      ...      ...         ...\n",
       "3570  서울                 전체  2019   4    7784   7784.0  25687.2          전체\n",
       "3571  서울         전용면적 60㎡이하  2019   4    7894   7894.0  26050.2         60㎡\n",
       "3572  서울   전용면적 60㎡초과 85㎡이하  2019   4    8272   8272.0  27297.6    60㎡~ 85㎡\n",
       "3573  서울  전용면적 85㎡초과 102㎡이하  2019   4    6842   6842.0  22578.6   85㎡~ 102㎡\n",
       "3574  서울        전용면적 102㎡초과  2019   4    7683   7683.0  25353.9       102㎡~\n",
       "3655  서울                 전체  2019   5    7786   7786.0  25693.8          전체\n",
       "3656  서울         전용면적 60㎡이하  2019   5    8104   8104.0  26743.2         60㎡\n",
       "3657  서울   전용면적 60㎡초과 85㎡이하  2019   5    8336   8336.0  27508.8    60㎡~ 85㎡\n",
       "3658  서울  전용면적 85㎡초과 102㎡이하  2019   5    6842   6842.0  22578.6   85㎡~ 102㎡\n",
       "3659  서울        전용면적 102㎡초과  2019   5    7831   7831.0  25842.3       102㎡~\n",
       "3740  서울                 전체  2019   6    8100   8100.0  26730.0          전체\n",
       "3741  서울         전용면적 60㎡이하  2019   6    8281   8281.0  27327.3         60㎡\n",
       "3742  서울   전용면적 60㎡초과 85㎡이하  2019   6    8588   8588.0  28340.4    60㎡~ 85㎡\n",
       "3743  서울  전용면적 85㎡초과 102㎡이하  2019   6   12728  12728.0  42002.4   85㎡~ 102㎡\n",
       "3744  서울        전용면적 102㎡초과  2019   6    8430   8430.0  27819.0       102㎡~\n",
       "3825  서울                 전체  2019   7    8067   8067.0  26621.1          전체\n",
       "3826  서울         전용면적 60㎡이하  2019   7    8231   8231.0  27162.3         60㎡\n",
       "3827  서울   전용면적 60㎡초과 85㎡이하  2019   7    8506   8506.0  28069.8    60㎡~ 85㎡\n",
       "3828  서울  전용면적 85㎡초과 102㎡이하  2019   7   12728  12728.0  42002.4   85㎡~ 102㎡\n",
       "3829  서울        전용면적 102㎡초과  2019   7    8430   8430.0  27819.0       102㎡~\n",
       "3910  서울                 전체  2019   8    8093   8093.0  26706.9          전체\n",
       "3911  서울         전용면적 60㎡이하  2019   8    8223   8223.0  27135.9         60㎡\n",
       "3912  서울   전용면적 60㎡초과 85㎡이하  2019   8    8562   8562.0  28254.6    60㎡~ 85㎡\n",
       "3913  서울  전용면적 85㎡초과 102㎡이하  2019   8   12728  12728.0  42002.4   85㎡~ 102㎡\n",
       "3914  서울        전용면적 102㎡초과  2019   8    8866   8866.0  29257.8       102㎡~\n",
       "3995  서울                 전체  2019   9    8085   8085.0  26680.5          전체\n",
       "3996  서울         전용면적 60㎡이하  2019   9    8205   8205.0  27076.5         60㎡\n",
       "3997  서울   전용면적 60㎡초과 85㎡이하  2019   9    8572   8572.0  28287.6    60㎡~ 85㎡\n",
       "3998  서울  전용면적 85㎡초과 102㎡이하  2019   9   12728  12728.0  42002.4   85㎡~ 102㎡\n",
       "3999  서울        전용면적 102㎡초과  2019   9    8972   8972.0  29607.6       102㎡~\n",
       "\n",
       "[240 rows x 8 columns]"
      ]
     },
     "execution_count": 67,
     "metadata": {},
     "output_type": "execute_result"
    }
   ],
   "source": [
    "df_seoul = df_last[df_last['지역명']=='서울']\n",
    "df_seoul"
   ]
  },
  {
   "cell_type": "code",
   "execution_count": 202,
   "metadata": {
    "colab": {},
    "colab_type": "code",
    "id": "X5HqHuzzJZVo"
   },
   "outputs": [
    {
     "data": {
      "text/plain": [
       "<matplotlib.axes._subplots.AxesSubplot at 0x1268640ec88>"
      ]
     },
     "execution_count": 202,
     "metadata": {},
     "output_type": "execute_result"
    },
    {
     "data": {
      "image/png": "[encoded data removed]",
      "text/plain": [
       "<Figure size 432x288 with 1 Axes>"
      ]
     },
     "metadata": {},
     "output_type": "display_data"
    }
   ],
   "source": [
    "df_seoul[['연도', '평당분양가격']].boxplot(by='연도')\n"
   ]
  },
  {
   "cell_type": "markdown",
   "metadata": {
    "colab_type": "text",
    "id": "D6DhLjbeJZVq"
   },
   "source": [
    "### Seaborn 으로 시각화 해보기"
   ]
  },
  {
   "cell_type": "code",
   "execution_count": 149,
   "metadata": {
    "colab": {},
    "colab_type": "code",
    "id": "RlhEsHpkJZVq"
   },
   "outputs": [
    {
     "data": {
      "text/plain": [
       "<matplotlib.rc_context at 0x12684163da0>"
      ]
     },
     "execution_count": 149,
     "metadata": {},
     "output_type": "execute_result"
    }
   ],
   "source": [
    "# seaborn 라이브러리 로드\n",
    "import seaborn as sns\n",
    "# %matplotlib inline #쥬피터 노트북으로 그래프를 보기 위한 코드."
   ]
  },
  {
   "cell_type": "code",
   "execution_count": 203,
   "metadata": {
    "colab": {},
    "colab_type": "code",
    "id": "FK4lchFMJZVs"
   },
   "outputs": [
    {
     "data": {
      "text/plain": [
       "<matplotlib.axes._subplots.AxesSubplot at 0x126862691d0>"
      ]
     },
     "execution_count": 203,
     "metadata": {},
     "output_type": "execute_result"
    },
    {
     "data": {
      "image/png": "[encoded data removed]",
      "text/plain": [
       "<Figure size 432x288 with 1 Axes>"
      ]
     },
     "metadata": {},
     "output_type": "display_data"
    }
   ],
   "source": [
    "# barplot으로 지역별 평당분양가격을 그려봅니다.\n",
    "sns.barplot(data=df_last, x='지역명', y='평당분양가격')"
   ]
  },
  {
   "cell_type": "code",
   "execution_count": 98,
   "metadata": {
    "colab": {},
    "colab_type": "code",
    "id": "3GLbX_atJZVv",
    "scrolled": true
   },
   "outputs": [
    {
     "data": {
      "text/plain": [
       "<matplotlib.axes._subplots.AxesSubplot at 0x126ffa62898>"
      ]
     },
     "execution_count": 98,
     "metadata": {},
     "output_type": "execute_result"
    },
    {
     "data": {
      "image/png": "[encoded data removed]",
      "text/plain": [
       "<Figure size 432x288 with 1 Axes>"
      ]
     },
     "metadata": {},
     "output_type": "display_data"
    }
   ],
   "source": [
    "# barplot으로 연도별 평당분양가격을 그려봅니다.\n",
    "sns.barplot(data=df_last, x='연도', y='평당분양가격')"
   ]
  },
  {
   "cell_type": "code",
   "execution_count": 97,
   "metadata": {
    "colab": {},
    "colab_type": "code",
    "id": "Gw1TJOE0JZVz"
   },
   "outputs": [
    {
     "data": {
      "text/plain": [
       "<matplotlib.axes._subplots.AxesSubplot at 0x126ffbf24a8>"
      ]
     },
     "execution_count": 97,
     "metadata": {},
     "output_type": "execute_result"
    },
    {
     "data": {
      "image/png": "[encoded data removed]",
      "text/plain": [
       "<Figure size 432x288 with 1 Axes>"
      ]
     },
     "metadata": {},
     "output_type": "display_data"
    }
   ],
   "source": [
    "# pointplot으로 연도별 평당분양가격을 그려봅니다.\n",
    "# hue 옵션을 통해 지역별로 다르게 표시해 봅니다.\n",
    "sns.pointplot(data=df_last, x='연도', y='평당분양가격')"
   ]
  },
  {
   "cell_type": "code",
   "execution_count": 96,
   "metadata": {
    "colab": {},
    "colab_type": "code",
    "id": "rxsrlYmyJZV5"
   },
   "outputs": [
    {
     "data": {
      "text/plain": [
       "<matplotlib.axes._subplots.AxesSubplot at 0x126ffb445f8>"
      ]
     },
     "execution_count": 96,
     "metadata": {},
     "output_type": "execute_result"
    },
    {
     "data": {
      "image/png": "[encoded data removed]",
      "text/plain": [
       "<Figure size 432x288 with 1 Axes>"
      ]
     },
     "metadata": {},
     "output_type": "display_data"
    }
   ],
   "source": [
    "# 연도별 평당분양가격을 boxplot으로 그려봅니다.\n",
    "sns.boxplot(data=df_last, x='연도', y='평당분양가격')\n",
    "sns.pointplot(data=df_last, x='연도', y='평당분양가격')"
   ]
  },
  {
   "cell_type": "code",
   "execution_count": 204,
   "metadata": {
    "colab": {},
    "colab_type": "code",
    "id": "6YzYjc_xJZV7"
   },
   "outputs": [
    {
     "data": {
      "text/plain": [
       "<matplotlib.axes._subplots.AxesSubplot at 0x12686340518>"
      ]
     },
     "execution_count": 204,
     "metadata": {},
     "output_type": "execute_result"
    },
    {
     "data": {
      "image/png": "[encoded data removed]",
      "text/plain": [
       "<Figure size 720x288 with 1 Axes>"
      ]
     },
     "metadata": {},
     "output_type": "display_data"
    }
   ],
   "source": [
    "# hue옵션을 주어 전용면적별로 다르게 표시해 봅니다.\n",
    "plt.figure(figsize=(10,4))\n",
    "sns.lineplot(data=df_last, x='연도', y='평당분양가격', hue='지역명')"
   ]
  },
  {
   "cell_type": "code",
   "execution_count": 100,
   "metadata": {
    "colab": {},
    "colab_type": "code",
    "id": "sN78v5QHJZV9"
   },
   "outputs": [
    {
     "data": {
      "text/plain": [
       "<matplotlib.axes._subplots.AxesSubplot at 0x126ffd817b8>"
      ]
     },
     "execution_count": 100,
     "metadata": {},
     "output_type": "execute_result"
    },
    {
     "data": {
      "image/png": "[encoded data removed]",
      "text/plain": [
       "<Figure size 720x288 with 1 Axes>"
      ]
     },
     "metadata": {},
     "output_type": "display_data"
    }
   ],
   "source": [
    "# 연도별 평당분양가격을 violinplot으로 그려봅니다.\n",
    "plt.figure(figsize=(10,4))\n",
    "sns.violinplot(data=df_last, x='연도', y='평당분양가격')"
   ]
  },
  {
   "cell_type": "code",
   "execution_count": 102,
   "metadata": {
    "colab": {},
    "colab_type": "code",
    "id": "2G_aLXW6JZWA"
   },
   "outputs": [
    {
     "data": {
      "text/plain": [
       "<seaborn.axisgrid.FacetGrid at 0x126ffd0b390>"
      ]
     },
     "execution_count": 102,
     "metadata": {},
     "output_type": "execute_result"
    },
    {
     "data": {
      "image/png": "[encoded data removed]",
      "text/plain": [
       "<Figure size 360x360 with 1 Axes>"
      ]
     },
     "metadata": {},
     "output_type": "display_data"
    }
   ],
   "source": [
    "# lmplot은 상관관계를 그려줍니다.\n",
    "# 연도별 평당분양가격을 lmplot으로 그려봅니다.\n",
    "sns.lmplot(data=df_last, x='연도', y='평당분양가격')"
   ]
  },
  {
   "cell_type": "code",
   "execution_count": 106,
   "metadata": {
    "colab": {},
    "colab_type": "code",
    "id": "tqDZ3quoJZWB"
   },
   "outputs": [
    {
     "data": {
      "text/plain": [
       "<seaborn.axisgrid.FacetGrid at 0x12681ad5a58>"
      ]
     },
     "execution_count": 106,
     "metadata": {},
     "output_type": "execute_result"
    },
    {
     "data": {
      "image/png": "[encoded data removed]",
      "text/plain": [
       "<Figure size 1800x360 with 5 Axes>"
      ]
     },
     "metadata": {},
     "output_type": "display_data"
    }
   ],
   "source": [
    "# 연도별 평당분양가격을 lmplot으로 그려봅니다. \n",
    "# hue 옵션으로 전용면적을 표현해 봅니다.\n",
    "sns.lmplot(data=df_last, x='연도', y='평당분양가격', hue='전용면적', col='전용면적')"
   ]
  },
  {
   "cell_type": "code",
   "execution_count": 205,
   "metadata": {
    "colab": {},
    "colab_type": "code",
    "id": "8HXGt1ZSJZWD",
    "scrolled": true
   },
   "outputs": [
    {
     "name": "stderr",
     "output_type": "stream",
     "text": [
      "C:\\Python\\Anaconda3\\lib\\site-packages\\seaborn\\categorical.py:1324: RuntimeWarning: invalid value encountered in less\n",
      "  off_low = points < low_gutter\n",
      "C:\\Python\\Anaconda3\\lib\\site-packages\\seaborn\\categorical.py:1328: RuntimeWarning: invalid value encountered in greater\n",
      "  off_high = points > high_gutter\n"
     ]
    },
    {
     "data": {
      "text/plain": [
       "<matplotlib.axes._subplots.AxesSubplot at 0x126863368d0>"
      ]
     },
     "execution_count": 205,
     "metadata": {},
     "output_type": "execute_result"
    },
    {
     "data": {
      "image/png": "[encoded data removed]",
      "text/plain": [
       "<Figure size 720x288 with 1 Axes>"
      ]
     },
     "metadata": {},
     "output_type": "display_data"
    }
   ],
   "source": [
    "# 연도별 평당분양가격을 swarmplot 으로 그려봅니다. \n",
    "# swarmplot은 범주형(카테고리) 데이터의 산점도를 표현하기에 적합합니다.\n",
    "plt.figure(figsize=(10,4))\n",
    "sns.swarmplot(data=df_seoul, x='연도', y='평당분양가격', hue='전용면적')"
   ]
  },
  {
   "cell_type": "markdown",
   "metadata": {
    "colab_type": "text",
    "id": "3FVFKFZyJZWF"
   },
   "source": [
    "### 이상치 보기"
   ]
  },
  {
   "cell_type": "code",
   "execution_count": 111,
   "metadata": {
    "colab": {},
    "colab_type": "code",
    "id": "AOVmBaRIJZWG"
   },
   "outputs": [
    {
     "data": {
      "text/plain": [
       "42002.399999999994"
      ]
     },
     "execution_count": 111,
     "metadata": {},
     "output_type": "execute_result"
    }
   ],
   "source": [
    "# 평당분양가격의 최대값을 구해서 max_price 라는 변수에 담습니다.\n",
    "max_price = df_last['평당분양가격'].max()\n",
    "max_price"
   ]
  },
  {
   "cell_type": "code",
   "execution_count": 112,
   "metadata": {
    "colab": {},
    "colab_type": "code",
    "id": "MsnZwsdGJZWH"
   },
   "outputs": [
    {
     "data": {
      "text/html": [
       "<div>\n",
       "<style scoped>\n",
       "    .dataframe tbody tr th:only-of-type {\n",
       "        vertical-align: middle;\n",
       "    }\n",
       "\n",
       "    .dataframe tbody tr th {\n",
       "        vertical-align: top;\n",
       "    }\n",
       "\n",
       "    .dataframe thead th {\n",
       "        text-align: right;\n",
       "    }\n",
       "</style>\n",
       "<table border=\"1\" class=\"dataframe\">\n",
       "  <thead>\n",
       "    <tr style=\"text-align: right;\">\n",
       "      <th></th>\n",
       "      <th>지역명</th>\n",
       "      <th>규모구분</th>\n",
       "      <th>연도</th>\n",
       "      <th>월</th>\n",
       "      <th>분양가격(㎡)</th>\n",
       "      <th>분양가격</th>\n",
       "      <th>평당분양가격</th>\n",
       "      <th>전용면적</th>\n",
       "    </tr>\n",
       "  </thead>\n",
       "  <tbody>\n",
       "    <tr>\n",
       "      <th>3743</th>\n",
       "      <td>서울</td>\n",
       "      <td>전용면적 85㎡초과 102㎡이하</td>\n",
       "      <td>2019</td>\n",
       "      <td>6</td>\n",
       "      <td>12728</td>\n",
       "      <td>12728.0</td>\n",
       "      <td>42002.4</td>\n",
       "      <td>85㎡~ 102㎡</td>\n",
       "    </tr>\n",
       "    <tr>\n",
       "      <th>3828</th>\n",
       "      <td>서울</td>\n",
       "      <td>전용면적 85㎡초과 102㎡이하</td>\n",
       "      <td>2019</td>\n",
       "      <td>7</td>\n",
       "      <td>12728</td>\n",
       "      <td>12728.0</td>\n",
       "      <td>42002.4</td>\n",
       "      <td>85㎡~ 102㎡</td>\n",
       "    </tr>\n",
       "    <tr>\n",
       "      <th>3913</th>\n",
       "      <td>서울</td>\n",
       "      <td>전용면적 85㎡초과 102㎡이하</td>\n",
       "      <td>2019</td>\n",
       "      <td>8</td>\n",
       "      <td>12728</td>\n",
       "      <td>12728.0</td>\n",
       "      <td>42002.4</td>\n",
       "      <td>85㎡~ 102㎡</td>\n",
       "    </tr>\n",
       "    <tr>\n",
       "      <th>3998</th>\n",
       "      <td>서울</td>\n",
       "      <td>전용면적 85㎡초과 102㎡이하</td>\n",
       "      <td>2019</td>\n",
       "      <td>9</td>\n",
       "      <td>12728</td>\n",
       "      <td>12728.0</td>\n",
       "      <td>42002.4</td>\n",
       "      <td>85㎡~ 102㎡</td>\n",
       "    </tr>\n",
       "  </tbody>\n",
       "</table>\n",
       "</div>"
      ],
      "text/plain": [
       "     지역명               규모구분    연도  월 분양가격(㎡)     분양가격   평당분양가격        전용면적\n",
       "3743  서울  전용면적 85㎡초과 102㎡이하  2019  6   12728  12728.0  42002.4   85㎡~ 102㎡\n",
       "3828  서울  전용면적 85㎡초과 102㎡이하  2019  7   12728  12728.0  42002.4   85㎡~ 102㎡\n",
       "3913  서울  전용면적 85㎡초과 102㎡이하  2019  8   12728  12728.0  42002.4   85㎡~ 102㎡\n",
       "3998  서울  전용면적 85㎡초과 102㎡이하  2019  9   12728  12728.0  42002.4   85㎡~ 102㎡"
      ]
     },
     "execution_count": 112,
     "metadata": {},
     "output_type": "execute_result"
    }
   ],
   "source": [
    "# 서울의 평당분양가격이 특히 높은 데이터가 있습니다. 해당 데이터를 가져옵니다.\n",
    "df_last[df_last['평당분양가격'] == max_price]"
   ]
  },
  {
   "cell_type": "markdown",
   "metadata": {
    "colab_type": "text",
    "id": "L-lOJGCAJZWK"
   },
   "source": [
    "### 수치데이터 히스토그램 그리기"
   ]
  },
  {
   "cell_type": "markdown",
   "metadata": {
    "colab_type": "text",
    "id": "qg_D3zf0JZWK"
   },
   "source": [
    "distplot은 결측치가 있으면 그래프를 그릴 때 오류가 납니다. \n",
    "따라서 결측치가 아닌 데이터만 따로 모아서 평당분양가격을 시각화하기 위한 데이터를 만듭니다.\n",
    "데이터프레임의 .loc를 활용하여 결측치가 없는 데이터에서 평당분양가격만 가져옵니다."
   ]
  },
  {
   "cell_type": "code",
   "execution_count": 118,
   "metadata": {
    "colab": {},
    "colab_type": "code",
    "id": "tgsPLSG7JZWL"
   },
   "outputs": [
    {
     "data": {
      "text/plain": [
       "3992    12817.2\n",
       "Name: 평당분양가격, dtype: float64"
      ]
     },
     "execution_count": 118,
     "metadata": {},
     "output_type": "execute_result"
    }
   ],
   "source": [
    "# 결측치가 없는 데이터에서 평당분양가격만 가져옵니다. 그리고 price라는 변수에 담습니다.\n",
    "# df_last[df_last['평당분양가격'].notnull()]['평당분양가격']\n",
    "df_last.loc[df_last['평당분양가격'].notnull(), '평당분양가격'].sample()"
   ]
  },
  {
   "cell_type": "code",
   "execution_count": 126,
   "metadata": {
    "colab": {},
    "colab_type": "code",
    "id": "rV3v5VOxJZWM",
    "scrolled": true
   },
   "outputs": [
    {
     "data": {
      "text/plain": [
       "<matplotlib.axes._subplots.AxesSubplot at 0x1268292d3c8>"
      ]
     },
     "execution_count": 126,
     "metadata": {},
     "output_type": "execute_result"
    },
    {
     "data": {
      "image/png": "[encoded data removed]",
      "text/plain": [
       "<Figure size 432x288 with 1 Axes>"
      ]
     },
     "metadata": {},
     "output_type": "display_data"
    }
   ],
   "source": [
    "# distplot으로 평당분양가격을 표현해 봅니다.\n",
    "sns.distplot(df_last.loc[df_last['평당분양가격'].notnull(), '평당분양가격'], bins=100)"
   ]
  },
  {
   "cell_type": "code",
   "execution_count": 139,
   "metadata": {},
   "outputs": [],
   "source": [
    "df_seoul_2019 = df_seoul.loc[df_seoul['평당분양가격'].notnull() & (df_seoul['연도'] == 2019), '평당분양가격']"
   ]
  },
  {
   "cell_type": "code",
   "execution_count": 142,
   "metadata": {},
   "outputs": [],
   "source": [
    "df_seoul_2018 = df_seoul.loc[df_seoul['평당분양가격'].notnull() & (df_seoul['연도'] == 2018), '평당분양가격']"
   ]
  },
  {
   "cell_type": "code",
   "execution_count": 144,
   "metadata": {},
   "outputs": [],
   "source": [
    "df_seoul_2017 = df_seoul.loc[df_seoul['평당분양가격'].notnull() & (df_seoul['연도'] == 2017), '평당분양가격']"
   ]
  },
  {
   "cell_type": "code",
   "execution_count": 195,
   "metadata": {
    "colab": {},
    "colab_type": "code",
    "id": "g2pcgOGSJZWP"
   },
   "outputs": [
    {
     "data": {
      "text/plain": [
       "<matplotlib.axes._subplots.AxesSubplot at 0x1268466b940>"
      ]
     },
     "execution_count": 195,
     "metadata": {},
     "output_type": "execute_result"
    },
    {
     "data": {
      "image/png": "[encoded data removed]",
      "text/plain": [
       "<Figure size 432x288 with 1 Axes>"
      ]
     },
     "metadata": {},
     "output_type": "display_data"
    }
   ],
   "source": [
    "# 서울에서 평당분양가격이 결측치가 없는 데이터만 따로 가져옵니다.\n",
    "sns.distplot(df_seoul_2019, hist = False, label=2019)\n",
    "sns.distplot(df_seoul_2018, hist = False, label=2018)\n",
    "sns.distplot(df_seoul_2017, hist = False, label=2017)"
   ]
  },
  {
   "cell_type": "code",
   "execution_count": 194,
   "metadata": {},
   "outputs": [
    {
     "data": {
      "text/plain": [
       "<matplotlib.rc_context at 0x12684661dd8>"
      ]
     },
     "execution_count": 194,
     "metadata": {},
     "output_type": "execute_result"
    }
   ],
   "source": [
    "plt.rc_context({'text.color': 'black', 'xtick.color':'black', 'ytick.color':'black', 'figure.facecolor':'white'})"
   ]
  },
  {
   "cell_type": "code",
   "execution_count": 150,
   "metadata": {
    "colab": {},
    "colab_type": "code",
    "id": "VFj5rmGCJZWU"
   },
   "outputs": [
    {
     "data": {
      "text/plain": [
       " 60㎡          816\n",
       "전체            816\n",
       " 60㎡~ 85㎡     816\n",
       " 102㎡~        816\n",
       " 85㎡~ 102㎡    816\n",
       "Name: 전용면적, dtype: int64"
      ]
     },
     "execution_count": 150,
     "metadata": {},
     "output_type": "execute_result"
    }
   ],
   "source": [
    "# 규모구분(전용면적)별로 value_counts를 사용해서 데이터를 집계해 봅니다.\n",
    "df_last['전용면적'].value_counts()"
   ]
  },
  {
   "cell_type": "markdown",
   "metadata": {
    "colab_type": "text",
    "id": "B1Y4qFSKJZWa"
   },
   "source": [
    "## 2015년 8월 이전 데이터 보기"
   ]
  },
  {
   "cell_type": "code",
   "execution_count": 157,
   "metadata": {
    "colab": {},
    "colab_type": "code",
    "id": "ZsRnpSRJJZWa"
   },
   "outputs": [
    {
     "name": "stdout",
     "output_type": "stream",
     "text": [
      "<class 'pandas.core.frame.DataFrame'>\n",
      "RangeIndex: 17 entries, 0 to 16\n",
      "Data columns (total 22 columns):\n",
      "지역          17 non-null object\n",
      "2013년12월    17 non-null int64\n",
      "2014년1월     17 non-null int64\n",
      "2014년2월     17 non-null int64\n",
      "2014년3월     17 non-null int64\n",
      "2014년4월     17 non-null int64\n",
      "2014년5월     17 non-null int64\n",
      "2014년6월     17 non-null int64\n",
      "2014년7월     17 non-null int64\n",
      "2014년8월     17 non-null int64\n",
      "2014년9월     17 non-null int64\n",
      "2014년10월    17 non-null int64\n",
      "2014년11월    17 non-null int64\n",
      "2014년12월    17 non-null int64\n",
      "2015년1월     17 non-null int64\n",
      "2015년2월     17 non-null int64\n",
      "2015년3월     17 non-null int64\n",
      "2015년4월     17 non-null int64\n",
      "2015년5월     17 non-null int64\n",
      "2015년6월     17 non-null int64\n",
      "2015년7월     17 non-null int64\n",
      "2015년8월     17 non-null int64\n",
      "dtypes: int64(21), object(1)\n",
      "memory usage: 3.0+ KB\n"
     ]
    }
   ],
   "source": [
    "# df_first 변수에 담겨있는 데이터프레임의 정보를 info를 통해 봅니다.\n",
    "df_first.info()"
   ]
  },
  {
   "cell_type": "code",
   "execution_count": 151,
   "metadata": {
    "colab": {},
    "colab_type": "code",
    "id": "BE3i4RslJZWc",
    "scrolled": false
   },
   "outputs": [
    {
     "data": {
      "text/plain": [
       "지역          0\n",
       "2013년12월    0\n",
       "2014년1월     0\n",
       "2014년2월     0\n",
       "2014년3월     0\n",
       "2014년4월     0\n",
       "2014년5월     0\n",
       "2014년6월     0\n",
       "2014년7월     0\n",
       "2014년8월     0\n",
       "2014년9월     0\n",
       "2014년10월    0\n",
       "2014년11월    0\n",
       "2014년12월    0\n",
       "2015년1월     0\n",
       "2015년2월     0\n",
       "2015년3월     0\n",
       "2015년4월     0\n",
       "2015년5월     0\n",
       "2015년6월     0\n",
       "2015년7월     0\n",
       "2015년8월     0\n",
       "dtype: int64"
      ]
     },
     "execution_count": 151,
     "metadata": {},
     "output_type": "execute_result"
    }
   ],
   "source": [
    "# 결측치가 있는지 봅니다.\n",
    "df_first.isnull().sum()"
   ]
  },
  {
   "cell_type": "code",
   "execution_count": 158,
   "metadata": {},
   "outputs": [
    {
     "data": {
      "text/plain": [
       "Index(['지역', '2013년12월', '2014년1월', '2014년2월', '2014년3월', '2014년4월', '2014년5월',\n",
       "       '2014년6월', '2014년7월', '2014년8월', '2014년9월', '2014년10월', '2014년11월',\n",
       "       '2014년12월', '2015년1월', '2015년2월', '2015년3월', '2015년4월', '2015년5월',\n",
       "       '2015년6월', '2015년7월', '2015년8월'],\n",
       "      dtype='object')"
      ]
     },
     "execution_count": 158,
     "metadata": {},
     "output_type": "execute_result"
    }
   ],
   "source": [
    "df_first.columns"
   ]
  },
  {
   "cell_type": "markdown",
   "metadata": {
    "colab_type": "text",
    "id": "qJPb9qxMJZWi"
   },
   "source": [
    "pandas의 melt를 사용하면 데이터의 형태를 변경할 수 있습니다. \n",
    "df_first 변수에 담긴 데이터프레임은 df_last에 담겨있는 데이터프레임의 모습과 다릅니다. \n",
    "같은 형태로 만들어주어야 데이터를 합칠 수 있습니다. \n",
    "데이터를 병합하기 위해 melt를 사용해 열에 있는 데이터를 행으로 녹여봅니다."
   ]
  },
  {
   "cell_type": "code",
   "execution_count": 207,
   "metadata": {
    "colab": {},
    "colab_type": "code",
    "id": "XFlALkt_JZWi"
   },
   "outputs": [],
   "source": [
    "# pd.melt 를 사용하며, 녹인 데이터는 df_first_melt 변수에 담습니다. \n",
    "# pd.melt?\n",
    "\n",
    "# pd.melt(df_first, id_vars='지역', value_vars=['2013년12월', '2014년1월', '2014년2월', '2014년3월', '2014년4월', '2014년5월',\n",
    "#        '2014년6월', '2014년7월', '2014년8월', '2014년9월', '2014년10월', '2014년11월',\n",
    "#        '2014년12월', '2015년1월', '2015년2월', '2015년3월', '2015년4월', '2015년5월',\n",
    "#        '2015년6월', '2015년7월', '2015년8월'])\n",
    "\n",
    "df_first_melt = pd.melt(df_first, id_vars='지역', value_vars=df_first.columns[1:])"
   ]
  },
  {
   "cell_type": "code",
   "execution_count": 208,
   "metadata": {
    "colab": {},
    "colab_type": "code",
    "id": "cw_cUHIBJZWm"
   },
   "outputs": [
    {
     "data": {
      "text/html": [
       "<div>\n",
       "<style scoped>\n",
       "    .dataframe tbody tr th:only-of-type {\n",
       "        vertical-align: middle;\n",
       "    }\n",
       "\n",
       "    .dataframe tbody tr th {\n",
       "        vertical-align: top;\n",
       "    }\n",
       "\n",
       "    .dataframe thead th {\n",
       "        text-align: right;\n",
       "    }\n",
       "</style>\n",
       "<table border=\"1\" class=\"dataframe\">\n",
       "  <thead>\n",
       "    <tr style=\"text-align: right;\">\n",
       "      <th></th>\n",
       "      <th>지역명</th>\n",
       "      <th>기간</th>\n",
       "      <th>평당분양가격</th>\n",
       "    </tr>\n",
       "  </thead>\n",
       "  <tbody>\n",
       "    <tr>\n",
       "      <th>0</th>\n",
       "      <td>서울</td>\n",
       "      <td>2013년12월</td>\n",
       "      <td>18189</td>\n",
       "    </tr>\n",
       "    <tr>\n",
       "      <th>1</th>\n",
       "      <td>부산</td>\n",
       "      <td>2013년12월</td>\n",
       "      <td>8111</td>\n",
       "    </tr>\n",
       "    <tr>\n",
       "      <th>2</th>\n",
       "      <td>대구</td>\n",
       "      <td>2013년12월</td>\n",
       "      <td>8080</td>\n",
       "    </tr>\n",
       "    <tr>\n",
       "      <th>3</th>\n",
       "      <td>인천</td>\n",
       "      <td>2013년12월</td>\n",
       "      <td>10204</td>\n",
       "    </tr>\n",
       "    <tr>\n",
       "      <th>4</th>\n",
       "      <td>광주</td>\n",
       "      <td>2013년12월</td>\n",
       "      <td>6098</td>\n",
       "    </tr>\n",
       "    <tr>\n",
       "      <th>5</th>\n",
       "      <td>대전</td>\n",
       "      <td>2013년12월</td>\n",
       "      <td>8321</td>\n",
       "    </tr>\n",
       "    <tr>\n",
       "      <th>6</th>\n",
       "      <td>울산</td>\n",
       "      <td>2013년12월</td>\n",
       "      <td>8090</td>\n",
       "    </tr>\n",
       "    <tr>\n",
       "      <th>7</th>\n",
       "      <td>경기</td>\n",
       "      <td>2013년12월</td>\n",
       "      <td>10855</td>\n",
       "    </tr>\n",
       "    <tr>\n",
       "      <th>8</th>\n",
       "      <td>세종</td>\n",
       "      <td>2013년12월</td>\n",
       "      <td>7601</td>\n",
       "    </tr>\n",
       "    <tr>\n",
       "      <th>9</th>\n",
       "      <td>강원</td>\n",
       "      <td>2013년12월</td>\n",
       "      <td>6230</td>\n",
       "    </tr>\n",
       "    <tr>\n",
       "      <th>10</th>\n",
       "      <td>충북</td>\n",
       "      <td>2013년12월</td>\n",
       "      <td>6589</td>\n",
       "    </tr>\n",
       "    <tr>\n",
       "      <th>11</th>\n",
       "      <td>충남</td>\n",
       "      <td>2013년12월</td>\n",
       "      <td>6365</td>\n",
       "    </tr>\n",
       "    <tr>\n",
       "      <th>12</th>\n",
       "      <td>전북</td>\n",
       "      <td>2013년12월</td>\n",
       "      <td>6282</td>\n",
       "    </tr>\n",
       "    <tr>\n",
       "      <th>13</th>\n",
       "      <td>전남</td>\n",
       "      <td>2013년12월</td>\n",
       "      <td>5678</td>\n",
       "    </tr>\n",
       "    <tr>\n",
       "      <th>14</th>\n",
       "      <td>경북</td>\n",
       "      <td>2013년12월</td>\n",
       "      <td>6168</td>\n",
       "    </tr>\n",
       "    <tr>\n",
       "      <th>15</th>\n",
       "      <td>경남</td>\n",
       "      <td>2013년12월</td>\n",
       "      <td>6473</td>\n",
       "    </tr>\n",
       "    <tr>\n",
       "      <th>16</th>\n",
       "      <td>제주</td>\n",
       "      <td>2013년12월</td>\n",
       "      <td>7674</td>\n",
       "    </tr>\n",
       "    <tr>\n",
       "      <th>17</th>\n",
       "      <td>서울</td>\n",
       "      <td>2014년1월</td>\n",
       "      <td>17925</td>\n",
       "    </tr>\n",
       "    <tr>\n",
       "      <th>18</th>\n",
       "      <td>부산</td>\n",
       "      <td>2014년1월</td>\n",
       "      <td>8111</td>\n",
       "    </tr>\n",
       "    <tr>\n",
       "      <th>19</th>\n",
       "      <td>대구</td>\n",
       "      <td>2014년1월</td>\n",
       "      <td>8080</td>\n",
       "    </tr>\n",
       "    <tr>\n",
       "      <th>20</th>\n",
       "      <td>인천</td>\n",
       "      <td>2014년1월</td>\n",
       "      <td>10204</td>\n",
       "    </tr>\n",
       "    <tr>\n",
       "      <th>21</th>\n",
       "      <td>광주</td>\n",
       "      <td>2014년1월</td>\n",
       "      <td>7326</td>\n",
       "    </tr>\n",
       "    <tr>\n",
       "      <th>22</th>\n",
       "      <td>대전</td>\n",
       "      <td>2014년1월</td>\n",
       "      <td>8321</td>\n",
       "    </tr>\n",
       "    <tr>\n",
       "      <th>23</th>\n",
       "      <td>울산</td>\n",
       "      <td>2014년1월</td>\n",
       "      <td>8090</td>\n",
       "    </tr>\n",
       "    <tr>\n",
       "      <th>24</th>\n",
       "      <td>경기</td>\n",
       "      <td>2014년1월</td>\n",
       "      <td>10855</td>\n",
       "    </tr>\n",
       "    <tr>\n",
       "      <th>25</th>\n",
       "      <td>세종</td>\n",
       "      <td>2014년1월</td>\n",
       "      <td>7600</td>\n",
       "    </tr>\n",
       "    <tr>\n",
       "      <th>26</th>\n",
       "      <td>강원</td>\n",
       "      <td>2014년1월</td>\n",
       "      <td>6230</td>\n",
       "    </tr>\n",
       "    <tr>\n",
       "      <th>27</th>\n",
       "      <td>충북</td>\n",
       "      <td>2014년1월</td>\n",
       "      <td>6589</td>\n",
       "    </tr>\n",
       "    <tr>\n",
       "      <th>28</th>\n",
       "      <td>충남</td>\n",
       "      <td>2014년1월</td>\n",
       "      <td>6365</td>\n",
       "    </tr>\n",
       "    <tr>\n",
       "      <th>29</th>\n",
       "      <td>전북</td>\n",
       "      <td>2014년1월</td>\n",
       "      <td>6281</td>\n",
       "    </tr>\n",
       "    <tr>\n",
       "      <th>...</th>\n",
       "      <td>...</td>\n",
       "      <td>...</td>\n",
       "      <td>...</td>\n",
       "    </tr>\n",
       "    <tr>\n",
       "      <th>327</th>\n",
       "      <td>광주</td>\n",
       "      <td>2015년7월</td>\n",
       "      <td>8089</td>\n",
       "    </tr>\n",
       "    <tr>\n",
       "      <th>328</th>\n",
       "      <td>대전</td>\n",
       "      <td>2015년7월</td>\n",
       "      <td>8079</td>\n",
       "    </tr>\n",
       "    <tr>\n",
       "      <th>329</th>\n",
       "      <td>울산</td>\n",
       "      <td>2015년7월</td>\n",
       "      <td>9190</td>\n",
       "    </tr>\n",
       "    <tr>\n",
       "      <th>330</th>\n",
       "      <td>경기</td>\n",
       "      <td>2015년7월</td>\n",
       "      <td>10518</td>\n",
       "    </tr>\n",
       "    <tr>\n",
       "      <th>331</th>\n",
       "      <td>세종</td>\n",
       "      <td>2015년7월</td>\n",
       "      <td>8669</td>\n",
       "    </tr>\n",
       "    <tr>\n",
       "      <th>332</th>\n",
       "      <td>강원</td>\n",
       "      <td>2015년7월</td>\n",
       "      <td>7019</td>\n",
       "    </tr>\n",
       "    <tr>\n",
       "      <th>333</th>\n",
       "      <td>충북</td>\n",
       "      <td>2015년7월</td>\n",
       "      <td>6601</td>\n",
       "    </tr>\n",
       "    <tr>\n",
       "      <th>334</th>\n",
       "      <td>충남</td>\n",
       "      <td>2015년7월</td>\n",
       "      <td>6935</td>\n",
       "    </tr>\n",
       "    <tr>\n",
       "      <th>335</th>\n",
       "      <td>전북</td>\n",
       "      <td>2015년7월</td>\n",
       "      <td>6750</td>\n",
       "    </tr>\n",
       "    <tr>\n",
       "      <th>336</th>\n",
       "      <td>전남</td>\n",
       "      <td>2015년7월</td>\n",
       "      <td>6286</td>\n",
       "    </tr>\n",
       "    <tr>\n",
       "      <th>337</th>\n",
       "      <td>경북</td>\n",
       "      <td>2015년7월</td>\n",
       "      <td>7035</td>\n",
       "    </tr>\n",
       "    <tr>\n",
       "      <th>338</th>\n",
       "      <td>경남</td>\n",
       "      <td>2015년7월</td>\n",
       "      <td>7723</td>\n",
       "    </tr>\n",
       "    <tr>\n",
       "      <th>339</th>\n",
       "      <td>제주</td>\n",
       "      <td>2015년7월</td>\n",
       "      <td>7343</td>\n",
       "    </tr>\n",
       "    <tr>\n",
       "      <th>340</th>\n",
       "      <td>서울</td>\n",
       "      <td>2015년8월</td>\n",
       "      <td>18443</td>\n",
       "    </tr>\n",
       "    <tr>\n",
       "      <th>341</th>\n",
       "      <td>부산</td>\n",
       "      <td>2015년8월</td>\n",
       "      <td>9581</td>\n",
       "    </tr>\n",
       "    <tr>\n",
       "      <th>342</th>\n",
       "      <td>대구</td>\n",
       "      <td>2015년8월</td>\n",
       "      <td>8795</td>\n",
       "    </tr>\n",
       "    <tr>\n",
       "      <th>343</th>\n",
       "      <td>인천</td>\n",
       "      <td>2015년8월</td>\n",
       "      <td>10449</td>\n",
       "    </tr>\n",
       "    <tr>\n",
       "      <th>344</th>\n",
       "      <td>광주</td>\n",
       "      <td>2015년8월</td>\n",
       "      <td>8231</td>\n",
       "    </tr>\n",
       "    <tr>\n",
       "      <th>345</th>\n",
       "      <td>대전</td>\n",
       "      <td>2015년8월</td>\n",
       "      <td>8079</td>\n",
       "    </tr>\n",
       "    <tr>\n",
       "      <th>346</th>\n",
       "      <td>울산</td>\n",
       "      <td>2015년8월</td>\n",
       "      <td>9215</td>\n",
       "    </tr>\n",
       "    <tr>\n",
       "      <th>347</th>\n",
       "      <td>경기</td>\n",
       "      <td>2015년8월</td>\n",
       "      <td>10573</td>\n",
       "    </tr>\n",
       "    <tr>\n",
       "      <th>348</th>\n",
       "      <td>세종</td>\n",
       "      <td>2015년8월</td>\n",
       "      <td>8695</td>\n",
       "    </tr>\n",
       "    <tr>\n",
       "      <th>349</th>\n",
       "      <td>강원</td>\n",
       "      <td>2015년8월</td>\n",
       "      <td>7008</td>\n",
       "    </tr>\n",
       "    <tr>\n",
       "      <th>350</th>\n",
       "      <td>충북</td>\n",
       "      <td>2015년8월</td>\n",
       "      <td>6603</td>\n",
       "    </tr>\n",
       "    <tr>\n",
       "      <th>351</th>\n",
       "      <td>충남</td>\n",
       "      <td>2015년8월</td>\n",
       "      <td>6942</td>\n",
       "    </tr>\n",
       "    <tr>\n",
       "      <th>352</th>\n",
       "      <td>전북</td>\n",
       "      <td>2015년8월</td>\n",
       "      <td>6580</td>\n",
       "    </tr>\n",
       "    <tr>\n",
       "      <th>353</th>\n",
       "      <td>전남</td>\n",
       "      <td>2015년8월</td>\n",
       "      <td>6289</td>\n",
       "    </tr>\n",
       "    <tr>\n",
       "      <th>354</th>\n",
       "      <td>경북</td>\n",
       "      <td>2015년8월</td>\n",
       "      <td>7037</td>\n",
       "    </tr>\n",
       "    <tr>\n",
       "      <th>355</th>\n",
       "      <td>경남</td>\n",
       "      <td>2015년8월</td>\n",
       "      <td>7665</td>\n",
       "    </tr>\n",
       "    <tr>\n",
       "      <th>356</th>\n",
       "      <td>제주</td>\n",
       "      <td>2015년8월</td>\n",
       "      <td>7343</td>\n",
       "    </tr>\n",
       "  </tbody>\n",
       "</table>\n",
       "<p>357 rows × 3 columns</p>\n",
       "</div>"
      ],
      "text/plain": [
       "    지역명        기간  평당분양가격\n",
       "0    서울  2013년12월   18189\n",
       "1    부산  2013년12월    8111\n",
       "2    대구  2013년12월    8080\n",
       "3    인천  2013년12월   10204\n",
       "4    광주  2013년12월    6098\n",
       "5    대전  2013년12월    8321\n",
       "6    울산  2013년12월    8090\n",
       "7    경기  2013년12월   10855\n",
       "8    세종  2013년12월    7601\n",
       "9    강원  2013년12월    6230\n",
       "10   충북  2013년12월    6589\n",
       "11   충남  2013년12월    6365\n",
       "12   전북  2013년12월    6282\n",
       "13   전남  2013년12월    5678\n",
       "14   경북  2013년12월    6168\n",
       "15   경남  2013년12월    6473\n",
       "16   제주  2013년12월    7674\n",
       "17   서울   2014년1월   17925\n",
       "18   부산   2014년1월    8111\n",
       "19   대구   2014년1월    8080\n",
       "20   인천   2014년1월   10204\n",
       "21   광주   2014년1월    7326\n",
       "22   대전   2014년1월    8321\n",
       "23   울산   2014년1월    8090\n",
       "24   경기   2014년1월   10855\n",
       "25   세종   2014년1월    7600\n",
       "26   강원   2014년1월    6230\n",
       "27   충북   2014년1월    6589\n",
       "28   충남   2014년1월    6365\n",
       "29   전북   2014년1월    6281\n",
       "..   ..       ...     ...\n",
       "327  광주   2015년7월    8089\n",
       "328  대전   2015년7월    8079\n",
       "329  울산   2015년7월    9190\n",
       "330  경기   2015년7월   10518\n",
       "331  세종   2015년7월    8669\n",
       "332  강원   2015년7월    7019\n",
       "333  충북   2015년7월    6601\n",
       "334  충남   2015년7월    6935\n",
       "335  전북   2015년7월    6750\n",
       "336  전남   2015년7월    6286\n",
       "337  경북   2015년7월    7035\n",
       "338  경남   2015년7월    7723\n",
       "339  제주   2015년7월    7343\n",
       "340  서울   2015년8월   18443\n",
       "341  부산   2015년8월    9581\n",
       "342  대구   2015년8월    8795\n",
       "343  인천   2015년8월   10449\n",
       "344  광주   2015년8월    8231\n",
       "345  대전   2015년8월    8079\n",
       "346  울산   2015년8월    9215\n",
       "347  경기   2015년8월   10573\n",
       "348  세종   2015년8월    8695\n",
       "349  강원   2015년8월    7008\n",
       "350  충북   2015년8월    6603\n",
       "351  충남   2015년8월    6942\n",
       "352  전북   2015년8월    6580\n",
       "353  전남   2015년8월    6289\n",
       "354  경북   2015년8월    7037\n",
       "355  경남   2015년8월    7665\n",
       "356  제주   2015년8월    7343\n",
       "\n",
       "[357 rows x 3 columns]"
      ]
     },
     "execution_count": 208,
     "metadata": {},
     "output_type": "execute_result"
    }
   ],
   "source": [
    "# df_first_melt 변수에 담겨진 컬럼의 이름을 \n",
    "# [\"지역명\", \"기간\", \"평당분양가격\"] 으로 변경합니다.\n",
    "df_first_melt.columns = [\"지역명\", \"기간\", \"평당분양가격\"] \n",
    "df_first_melt"
   ]
  },
  {
   "cell_type": "markdown",
   "metadata": {
    "colab_type": "text",
    "id": "Fnc_Oj1zJZWo"
   },
   "source": [
    "## 연도와 월을 분리하기"
   ]
  },
  {
   "cell_type": "code",
   "execution_count": 166,
   "metadata": {
    "colab": {},
    "colab_type": "code",
    "id": "PxzM-lNZJZWo"
   },
   "outputs": [
    {
     "data": {
      "text/plain": [
       "'2013년12월'"
      ]
     },
     "execution_count": 166,
     "metadata": {},
     "output_type": "execute_result"
    }
   ],
   "source": [
    "date = \"2013년12월\"\n",
    "date"
   ]
  },
  {
   "cell_type": "code",
   "execution_count": 170,
   "metadata": {
    "colab": {},
    "colab_type": "code",
    "id": "FvVearAvJZWq"
   },
   "outputs": [
    {
     "data": {
      "text/plain": [
       "['2013', '12월']"
      ]
     },
     "execution_count": 170,
     "metadata": {},
     "output_type": "execute_result"
    }
   ],
   "source": [
    "# split 을 통해 \"년\"을 기준으로 텍스트를 분리해 봅니다.\n",
    "date.split('년')"
   ]
  },
  {
   "cell_type": "code",
   "execution_count": 171,
   "metadata": {
    "colab": {},
    "colab_type": "code",
    "id": "XN7UQjf2JZWr"
   },
   "outputs": [
    {
     "data": {
      "text/plain": [
       "'2013'"
      ]
     },
     "execution_count": 171,
     "metadata": {},
     "output_type": "execute_result"
    }
   ],
   "source": [
    "# 리스트의 인덱싱을 사용해서 연도만 가져옵니다.\n",
    "date.split('년')[0]"
   ]
  },
  {
   "cell_type": "code",
   "execution_count": 173,
   "metadata": {
    "colab": {},
    "colab_type": "code",
    "id": "IerNx9rJJZWt"
   },
   "outputs": [
    {
     "data": {
      "text/plain": [
       "'12'"
      ]
     },
     "execution_count": 173,
     "metadata": {},
     "output_type": "execute_result"
    }
   ],
   "source": [
    "# 리스트의 인덱싱과 replace를 사용해서 월을 제거합니다.\n",
    "date.split('년')[1].replace('월','')"
   ]
  },
  {
   "cell_type": "code",
   "execution_count": null,
   "metadata": {},
   "outputs": [],
   "source": []
  },
  {
   "cell_type": "code",
   "execution_count": 176,
   "metadata": {
    "colab": {},
    "colab_type": "code",
    "id": "FzrhsBYVJZWu"
   },
   "outputs": [],
   "source": [
    "# parse_year라는 함수를 만듭니다.\n",
    "# 연도만 반환하도록 하며, 반환하는 데이터는 int 타입이 되도록 합니다.\n",
    "def parse_year(date):\n",
    "    year = date[0:4]\n",
    "    return int(year)"
   ]
  },
  {
   "cell_type": "code",
   "execution_count": 177,
   "metadata": {
    "colab": {},
    "colab_type": "code",
    "id": "_cb07-sTJZWv",
    "scrolled": true
   },
   "outputs": [
    {
     "data": {
      "text/plain": [
       "2013"
      ]
     },
     "execution_count": 177,
     "metadata": {},
     "output_type": "execute_result"
    }
   ],
   "source": [
    "# 제대로 분리가 되었는지 parse_year 함수를 확인합니다.\n",
    "parse_year(date)"
   ]
  },
  {
   "cell_type": "code",
   "execution_count": 179,
   "metadata": {
    "colab": {},
    "colab_type": "code",
    "id": "5ZZV-wMCJZWx"
   },
   "outputs": [],
   "source": [
    "# parse_month 라는 함수를 만듭니다.\n",
    "# 월만 반환하도록 하며, 반환하는 데이터는 int 타입이 되도록 합니다.\n",
    "def parse_month(date):\n",
    "    month = date.split('년')[1].replace('월','')\n",
    "    return int(month)"
   ]
  },
  {
   "cell_type": "code",
   "execution_count": 180,
   "metadata": {
    "colab": {},
    "colab_type": "code",
    "id": "9Vg3xrfMJZWy"
   },
   "outputs": [
    {
     "data": {
      "text/plain": [
       "12"
      ]
     },
     "execution_count": 180,
     "metadata": {},
     "output_type": "execute_result"
    }
   ],
   "source": [
    "# 제대로 분리가 되었는지 parse_month 함수를 확인합니다.\n",
    "parse_month(date)"
   ]
  },
  {
   "cell_type": "code",
   "execution_count": 209,
   "metadata": {
    "colab": {},
    "colab_type": "code",
    "id": "-1kqUVUiJZW2"
   },
   "outputs": [
    {
     "data": {
      "text/plain": [
       "0    2013\n",
       "1    2013\n",
       "2    2013\n",
       "3    2013\n",
       "4    2013\n",
       "Name: 연도, dtype: int64"
      ]
     },
     "execution_count": 209,
     "metadata": {},
     "output_type": "execute_result"
    }
   ],
   "source": [
    "# df_first_melt 변수에 담긴 데이터프레임에서 \n",
    "# apply를 활용해 연도만 추출해서 새로운 컬럼에 담습니다.\n",
    "df_first_melt['연도'] = df_first_melt['기간'].apply(parse_year)\n",
    "df_first_melt['연도'].head()"
   ]
  },
  {
   "cell_type": "code",
   "execution_count": 210,
   "metadata": {
    "colab": {},
    "colab_type": "code",
    "id": "rITud4g6JZW4"
   },
   "outputs": [
    {
     "data": {
      "text/plain": [
       "0    12\n",
       "1    12\n",
       "2    12\n",
       "3    12\n",
       "4    12\n",
       "Name: 월, dtype: int64"
      ]
     },
     "execution_count": 210,
     "metadata": {},
     "output_type": "execute_result"
    }
   ],
   "source": [
    "# df_first_melt 변수에 담긴 데이터프레임에서 \n",
    "# apply를 활용해 월만 추출해서 새로운 컬럼에 담습니다.\n",
    "df_first_melt['월'] = df_first_melt['기간'].apply(parse_month)\n",
    "df_first_melt['월'].head()"
   ]
  },
  {
   "cell_type": "code",
   "execution_count": 211,
   "metadata": {
    "colab": {},
    "colab_type": "code",
    "id": "01xmyXCZJZW5"
   },
   "outputs": [
    {
     "data": {
      "text/html": [
       "<div>\n",
       "<style scoped>\n",
       "    .dataframe tbody tr th:only-of-type {\n",
       "        vertical-align: middle;\n",
       "    }\n",
       "\n",
       "    .dataframe tbody tr th {\n",
       "        vertical-align: top;\n",
       "    }\n",
       "\n",
       "    .dataframe thead th {\n",
       "        text-align: right;\n",
       "    }\n",
       "</style>\n",
       "<table border=\"1\" class=\"dataframe\">\n",
       "  <thead>\n",
       "    <tr style=\"text-align: right;\">\n",
       "      <th></th>\n",
       "      <th>지역명</th>\n",
       "      <th>기간</th>\n",
       "      <th>평당분양가격</th>\n",
       "      <th>연도</th>\n",
       "      <th>월</th>\n",
       "    </tr>\n",
       "  </thead>\n",
       "  <tbody>\n",
       "    <tr>\n",
       "      <th>259</th>\n",
       "      <td>광주</td>\n",
       "      <td>2015년3월</td>\n",
       "      <td>7861</td>\n",
       "      <td>2015</td>\n",
       "      <td>3</td>\n",
       "    </tr>\n",
       "  </tbody>\n",
       "</table>\n",
       "</div>"
      ],
      "text/plain": [
       "    지역명       기간  평당분양가격    연도  월\n",
       "259  광주  2015년3월    7861  2015  3"
      ]
     },
     "execution_count": 211,
     "metadata": {},
     "output_type": "execute_result"
    }
   ],
   "source": [
    "# df_last와 병합을 하기 위해서는 컬럼의 이름이 같아야 합니다.\n",
    "# sample을 활용해서 데이터를 미리보기 합니다.\n",
    "df_first_melt.sample()"
   ]
  },
  {
   "cell_type": "code",
   "execution_count": 212,
   "metadata": {
    "colab": {},
    "colab_type": "code",
    "id": "tI7kFYkNJZW6"
   },
   "outputs": [
    {
     "data": {
      "text/plain": [
       "['지역명', '연도', '월', '평당분양가격']"
      ]
     },
     "execution_count": 212,
     "metadata": {},
     "output_type": "execute_result"
    }
   ],
   "source": [
    "# df_last와 컬럼명을 맞춰주기 위해 컬럼의 이름을 \n",
    "# [\"지역명\", \"연도\", \"월\", \"평당분양가격\"] 으로 변경합니다.\n",
    "columns = [\"지역명\", \"연도\", \"월\", \"평당분양가격\"]\n",
    "columns"
   ]
  },
  {
   "cell_type": "code",
   "execution_count": 216,
   "metadata": {
    "colab": {},
    "colab_type": "code",
    "id": "g1ZjE8N2JZW8"
   },
   "outputs": [
    {
     "data": {
      "text/html": [
       "<div>\n",
       "<style scoped>\n",
       "    .dataframe tbody tr th:only-of-type {\n",
       "        vertical-align: middle;\n",
       "    }\n",
       "\n",
       "    .dataframe tbody tr th {\n",
       "        vertical-align: top;\n",
       "    }\n",
       "\n",
       "    .dataframe thead th {\n",
       "        text-align: right;\n",
       "    }\n",
       "</style>\n",
       "<table border=\"1\" class=\"dataframe\">\n",
       "  <thead>\n",
       "    <tr style=\"text-align: right;\">\n",
       "      <th></th>\n",
       "      <th>지역명</th>\n",
       "      <th>연도</th>\n",
       "      <th>월</th>\n",
       "      <th>평당분양가격</th>\n",
       "    </tr>\n",
       "  </thead>\n",
       "  <tbody>\n",
       "    <tr>\n",
       "      <th>0</th>\n",
       "      <td>서울</td>\n",
       "      <td>2015</td>\n",
       "      <td>10</td>\n",
       "      <td>19275.3</td>\n",
       "    </tr>\n",
       "    <tr>\n",
       "      <th>5</th>\n",
       "      <td>인천</td>\n",
       "      <td>2015</td>\n",
       "      <td>10</td>\n",
       "      <td>10437.9</td>\n",
       "    </tr>\n",
       "    <tr>\n",
       "      <th>10</th>\n",
       "      <td>경기</td>\n",
       "      <td>2015</td>\n",
       "      <td>10</td>\n",
       "      <td>10355.4</td>\n",
       "    </tr>\n",
       "    <tr>\n",
       "      <th>15</th>\n",
       "      <td>부산</td>\n",
       "      <td>2015</td>\n",
       "      <td>10</td>\n",
       "      <td>10269.6</td>\n",
       "    </tr>\n",
       "    <tr>\n",
       "      <th>20</th>\n",
       "      <td>대구</td>\n",
       "      <td>2015</td>\n",
       "      <td>10</td>\n",
       "      <td>8850.6</td>\n",
       "    </tr>\n",
       "  </tbody>\n",
       "</table>\n",
       "</div>"
      ],
      "text/plain": [
       "   지역명    연도   월   평당분양가격\n",
       "0   서울  2015  10  19275.3\n",
       "5   인천  2015  10  10437.9\n",
       "10  경기  2015  10  10355.4\n",
       "15  부산  2015  10  10269.6\n",
       "20  대구  2015  10   8850.6"
      ]
     },
     "execution_count": 216,
     "metadata": {},
     "output_type": "execute_result"
    }
   ],
   "source": [
    "# 최근 데이터가 담긴 df_last 에는 전용면적이 있습니다. \n",
    "# 이전 데이터에는 전용면적이 없기 때문에 \"전체\"만 사용하도록 합니다.\n",
    "# loc를 사용해서 전체에 해당하는 면적만 copy로 복사해서 df_last_prepare 컬럼에 담습니다.\n",
    "df_last_prepare = df_last.loc[df_last['전용면적']=='전체', columns].copy()\n",
    "df_last_prepare.head()"
   ]
  },
  {
   "cell_type": "code",
   "execution_count": 225,
   "metadata": {
    "colab": {},
    "colab_type": "code",
    "id": "4CwygvPsJZW9"
   },
   "outputs": [
    {
     "data": {
      "text/html": [
       "<div>\n",
       "<style scoped>\n",
       "    .dataframe tbody tr th:only-of-type {\n",
       "        vertical-align: middle;\n",
       "    }\n",
       "\n",
       "    .dataframe tbody tr th {\n",
       "        vertical-align: top;\n",
       "    }\n",
       "\n",
       "    .dataframe thead th {\n",
       "        text-align: right;\n",
       "    }\n",
       "</style>\n",
       "<table border=\"1\" class=\"dataframe\">\n",
       "  <thead>\n",
       "    <tr style=\"text-align: right;\">\n",
       "      <th></th>\n",
       "      <th>지역명</th>\n",
       "      <th>연도</th>\n",
       "      <th>월</th>\n",
       "      <th>평당분양가격</th>\n",
       "    </tr>\n",
       "  </thead>\n",
       "  <tbody>\n",
       "    <tr>\n",
       "      <th>0</th>\n",
       "      <td>서울</td>\n",
       "      <td>2013</td>\n",
       "      <td>12</td>\n",
       "      <td>18189</td>\n",
       "    </tr>\n",
       "    <tr>\n",
       "      <th>1</th>\n",
       "      <td>부산</td>\n",
       "      <td>2013</td>\n",
       "      <td>12</td>\n",
       "      <td>8111</td>\n",
       "    </tr>\n",
       "    <tr>\n",
       "      <th>2</th>\n",
       "      <td>대구</td>\n",
       "      <td>2013</td>\n",
       "      <td>12</td>\n",
       "      <td>8080</td>\n",
       "    </tr>\n",
       "    <tr>\n",
       "      <th>3</th>\n",
       "      <td>인천</td>\n",
       "      <td>2013</td>\n",
       "      <td>12</td>\n",
       "      <td>10204</td>\n",
       "    </tr>\n",
       "    <tr>\n",
       "      <th>4</th>\n",
       "      <td>광주</td>\n",
       "      <td>2013</td>\n",
       "      <td>12</td>\n",
       "      <td>6098</td>\n",
       "    </tr>\n",
       "    <tr>\n",
       "      <th>5</th>\n",
       "      <td>대전</td>\n",
       "      <td>2013</td>\n",
       "      <td>12</td>\n",
       "      <td>8321</td>\n",
       "    </tr>\n",
       "    <tr>\n",
       "      <th>6</th>\n",
       "      <td>울산</td>\n",
       "      <td>2013</td>\n",
       "      <td>12</td>\n",
       "      <td>8090</td>\n",
       "    </tr>\n",
       "    <tr>\n",
       "      <th>7</th>\n",
       "      <td>경기</td>\n",
       "      <td>2013</td>\n",
       "      <td>12</td>\n",
       "      <td>10855</td>\n",
       "    </tr>\n",
       "    <tr>\n",
       "      <th>8</th>\n",
       "      <td>세종</td>\n",
       "      <td>2013</td>\n",
       "      <td>12</td>\n",
       "      <td>7601</td>\n",
       "    </tr>\n",
       "    <tr>\n",
       "      <th>9</th>\n",
       "      <td>강원</td>\n",
       "      <td>2013</td>\n",
       "      <td>12</td>\n",
       "      <td>6230</td>\n",
       "    </tr>\n",
       "    <tr>\n",
       "      <th>10</th>\n",
       "      <td>충북</td>\n",
       "      <td>2013</td>\n",
       "      <td>12</td>\n",
       "      <td>6589</td>\n",
       "    </tr>\n",
       "    <tr>\n",
       "      <th>11</th>\n",
       "      <td>충남</td>\n",
       "      <td>2013</td>\n",
       "      <td>12</td>\n",
       "      <td>6365</td>\n",
       "    </tr>\n",
       "    <tr>\n",
       "      <th>12</th>\n",
       "      <td>전북</td>\n",
       "      <td>2013</td>\n",
       "      <td>12</td>\n",
       "      <td>6282</td>\n",
       "    </tr>\n",
       "    <tr>\n",
       "      <th>13</th>\n",
       "      <td>전남</td>\n",
       "      <td>2013</td>\n",
       "      <td>12</td>\n",
       "      <td>5678</td>\n",
       "    </tr>\n",
       "    <tr>\n",
       "      <th>14</th>\n",
       "      <td>경북</td>\n",
       "      <td>2013</td>\n",
       "      <td>12</td>\n",
       "      <td>6168</td>\n",
       "    </tr>\n",
       "    <tr>\n",
       "      <th>15</th>\n",
       "      <td>경남</td>\n",
       "      <td>2013</td>\n",
       "      <td>12</td>\n",
       "      <td>6473</td>\n",
       "    </tr>\n",
       "    <tr>\n",
       "      <th>16</th>\n",
       "      <td>제주</td>\n",
       "      <td>2013</td>\n",
       "      <td>12</td>\n",
       "      <td>7674</td>\n",
       "    </tr>\n",
       "    <tr>\n",
       "      <th>17</th>\n",
       "      <td>서울</td>\n",
       "      <td>2014</td>\n",
       "      <td>1</td>\n",
       "      <td>17925</td>\n",
       "    </tr>\n",
       "    <tr>\n",
       "      <th>18</th>\n",
       "      <td>부산</td>\n",
       "      <td>2014</td>\n",
       "      <td>1</td>\n",
       "      <td>8111</td>\n",
       "    </tr>\n",
       "    <tr>\n",
       "      <th>19</th>\n",
       "      <td>대구</td>\n",
       "      <td>2014</td>\n",
       "      <td>1</td>\n",
       "      <td>8080</td>\n",
       "    </tr>\n",
       "    <tr>\n",
       "      <th>20</th>\n",
       "      <td>인천</td>\n",
       "      <td>2014</td>\n",
       "      <td>1</td>\n",
       "      <td>10204</td>\n",
       "    </tr>\n",
       "    <tr>\n",
       "      <th>21</th>\n",
       "      <td>광주</td>\n",
       "      <td>2014</td>\n",
       "      <td>1</td>\n",
       "      <td>7326</td>\n",
       "    </tr>\n",
       "    <tr>\n",
       "      <th>22</th>\n",
       "      <td>대전</td>\n",
       "      <td>2014</td>\n",
       "      <td>1</td>\n",
       "      <td>8321</td>\n",
       "    </tr>\n",
       "    <tr>\n",
       "      <th>23</th>\n",
       "      <td>울산</td>\n",
       "      <td>2014</td>\n",
       "      <td>1</td>\n",
       "      <td>8090</td>\n",
       "    </tr>\n",
       "    <tr>\n",
       "      <th>24</th>\n",
       "      <td>경기</td>\n",
       "      <td>2014</td>\n",
       "      <td>1</td>\n",
       "      <td>10855</td>\n",
       "    </tr>\n",
       "    <tr>\n",
       "      <th>25</th>\n",
       "      <td>세종</td>\n",
       "      <td>2014</td>\n",
       "      <td>1</td>\n",
       "      <td>7600</td>\n",
       "    </tr>\n",
       "    <tr>\n",
       "      <th>26</th>\n",
       "      <td>강원</td>\n",
       "      <td>2014</td>\n",
       "      <td>1</td>\n",
       "      <td>6230</td>\n",
       "    </tr>\n",
       "    <tr>\n",
       "      <th>27</th>\n",
       "      <td>충북</td>\n",
       "      <td>2014</td>\n",
       "      <td>1</td>\n",
       "      <td>6589</td>\n",
       "    </tr>\n",
       "    <tr>\n",
       "      <th>28</th>\n",
       "      <td>충남</td>\n",
       "      <td>2014</td>\n",
       "      <td>1</td>\n",
       "      <td>6365</td>\n",
       "    </tr>\n",
       "    <tr>\n",
       "      <th>29</th>\n",
       "      <td>전북</td>\n",
       "      <td>2014</td>\n",
       "      <td>1</td>\n",
       "      <td>6281</td>\n",
       "    </tr>\n",
       "    <tr>\n",
       "      <th>...</th>\n",
       "      <td>...</td>\n",
       "      <td>...</td>\n",
       "      <td>...</td>\n",
       "      <td>...</td>\n",
       "    </tr>\n",
       "    <tr>\n",
       "      <th>327</th>\n",
       "      <td>광주</td>\n",
       "      <td>2015</td>\n",
       "      <td>7</td>\n",
       "      <td>8089</td>\n",
       "    </tr>\n",
       "    <tr>\n",
       "      <th>328</th>\n",
       "      <td>대전</td>\n",
       "      <td>2015</td>\n",
       "      <td>7</td>\n",
       "      <td>8079</td>\n",
       "    </tr>\n",
       "    <tr>\n",
       "      <th>329</th>\n",
       "      <td>울산</td>\n",
       "      <td>2015</td>\n",
       "      <td>7</td>\n",
       "      <td>9190</td>\n",
       "    </tr>\n",
       "    <tr>\n",
       "      <th>330</th>\n",
       "      <td>경기</td>\n",
       "      <td>2015</td>\n",
       "      <td>7</td>\n",
       "      <td>10518</td>\n",
       "    </tr>\n",
       "    <tr>\n",
       "      <th>331</th>\n",
       "      <td>세종</td>\n",
       "      <td>2015</td>\n",
       "      <td>7</td>\n",
       "      <td>8669</td>\n",
       "    </tr>\n",
       "    <tr>\n",
       "      <th>332</th>\n",
       "      <td>강원</td>\n",
       "      <td>2015</td>\n",
       "      <td>7</td>\n",
       "      <td>7019</td>\n",
       "    </tr>\n",
       "    <tr>\n",
       "      <th>333</th>\n",
       "      <td>충북</td>\n",
       "      <td>2015</td>\n",
       "      <td>7</td>\n",
       "      <td>6601</td>\n",
       "    </tr>\n",
       "    <tr>\n",
       "      <th>334</th>\n",
       "      <td>충남</td>\n",
       "      <td>2015</td>\n",
       "      <td>7</td>\n",
       "      <td>6935</td>\n",
       "    </tr>\n",
       "    <tr>\n",
       "      <th>335</th>\n",
       "      <td>전북</td>\n",
       "      <td>2015</td>\n",
       "      <td>7</td>\n",
       "      <td>6750</td>\n",
       "    </tr>\n",
       "    <tr>\n",
       "      <th>336</th>\n",
       "      <td>전남</td>\n",
       "      <td>2015</td>\n",
       "      <td>7</td>\n",
       "      <td>6286</td>\n",
       "    </tr>\n",
       "    <tr>\n",
       "      <th>337</th>\n",
       "      <td>경북</td>\n",
       "      <td>2015</td>\n",
       "      <td>7</td>\n",
       "      <td>7035</td>\n",
       "    </tr>\n",
       "    <tr>\n",
       "      <th>338</th>\n",
       "      <td>경남</td>\n",
       "      <td>2015</td>\n",
       "      <td>7</td>\n",
       "      <td>7723</td>\n",
       "    </tr>\n",
       "    <tr>\n",
       "      <th>339</th>\n",
       "      <td>제주</td>\n",
       "      <td>2015</td>\n",
       "      <td>7</td>\n",
       "      <td>7343</td>\n",
       "    </tr>\n",
       "    <tr>\n",
       "      <th>340</th>\n",
       "      <td>서울</td>\n",
       "      <td>2015</td>\n",
       "      <td>8</td>\n",
       "      <td>18443</td>\n",
       "    </tr>\n",
       "    <tr>\n",
       "      <th>341</th>\n",
       "      <td>부산</td>\n",
       "      <td>2015</td>\n",
       "      <td>8</td>\n",
       "      <td>9581</td>\n",
       "    </tr>\n",
       "    <tr>\n",
       "      <th>342</th>\n",
       "      <td>대구</td>\n",
       "      <td>2015</td>\n",
       "      <td>8</td>\n",
       "      <td>8795</td>\n",
       "    </tr>\n",
       "    <tr>\n",
       "      <th>343</th>\n",
       "      <td>인천</td>\n",
       "      <td>2015</td>\n",
       "      <td>8</td>\n",
       "      <td>10449</td>\n",
       "    </tr>\n",
       "    <tr>\n",
       "      <th>344</th>\n",
       "      <td>광주</td>\n",
       "      <td>2015</td>\n",
       "      <td>8</td>\n",
       "      <td>8231</td>\n",
       "    </tr>\n",
       "    <tr>\n",
       "      <th>345</th>\n",
       "      <td>대전</td>\n",
       "      <td>2015</td>\n",
       "      <td>8</td>\n",
       "      <td>8079</td>\n",
       "    </tr>\n",
       "    <tr>\n",
       "      <th>346</th>\n",
       "      <td>울산</td>\n",
       "      <td>2015</td>\n",
       "      <td>8</td>\n",
       "      <td>9215</td>\n",
       "    </tr>\n",
       "    <tr>\n",
       "      <th>347</th>\n",
       "      <td>경기</td>\n",
       "      <td>2015</td>\n",
       "      <td>8</td>\n",
       "      <td>10573</td>\n",
       "    </tr>\n",
       "    <tr>\n",
       "      <th>348</th>\n",
       "      <td>세종</td>\n",
       "      <td>2015</td>\n",
       "      <td>8</td>\n",
       "      <td>8695</td>\n",
       "    </tr>\n",
       "    <tr>\n",
       "      <th>349</th>\n",
       "      <td>강원</td>\n",
       "      <td>2015</td>\n",
       "      <td>8</td>\n",
       "      <td>7008</td>\n",
       "    </tr>\n",
       "    <tr>\n",
       "      <th>350</th>\n",
       "      <td>충북</td>\n",
       "      <td>2015</td>\n",
       "      <td>8</td>\n",
       "      <td>6603</td>\n",
       "    </tr>\n",
       "    <tr>\n",
       "      <th>351</th>\n",
       "      <td>충남</td>\n",
       "      <td>2015</td>\n",
       "      <td>8</td>\n",
       "      <td>6942</td>\n",
       "    </tr>\n",
       "    <tr>\n",
       "      <th>352</th>\n",
       "      <td>전북</td>\n",
       "      <td>2015</td>\n",
       "      <td>8</td>\n",
       "      <td>6580</td>\n",
       "    </tr>\n",
       "    <tr>\n",
       "      <th>353</th>\n",
       "      <td>전남</td>\n",
       "      <td>2015</td>\n",
       "      <td>8</td>\n",
       "      <td>6289</td>\n",
       "    </tr>\n",
       "    <tr>\n",
       "      <th>354</th>\n",
       "      <td>경북</td>\n",
       "      <td>2015</td>\n",
       "      <td>8</td>\n",
       "      <td>7037</td>\n",
       "    </tr>\n",
       "    <tr>\n",
       "      <th>355</th>\n",
       "      <td>경남</td>\n",
       "      <td>2015</td>\n",
       "      <td>8</td>\n",
       "      <td>7665</td>\n",
       "    </tr>\n",
       "    <tr>\n",
       "      <th>356</th>\n",
       "      <td>제주</td>\n",
       "      <td>2015</td>\n",
       "      <td>8</td>\n",
       "      <td>7343</td>\n",
       "    </tr>\n",
       "  </tbody>\n",
       "</table>\n",
       "<p>357 rows × 4 columns</p>\n",
       "</div>"
      ],
      "text/plain": [
       "    지역명    연도   월  평당분양가격\n",
       "0    서울  2013  12   18189\n",
       "1    부산  2013  12    8111\n",
       "2    대구  2013  12    8080\n",
       "3    인천  2013  12   10204\n",
       "4    광주  2013  12    6098\n",
       "5    대전  2013  12    8321\n",
       "6    울산  2013  12    8090\n",
       "7    경기  2013  12   10855\n",
       "8    세종  2013  12    7601\n",
       "9    강원  2013  12    6230\n",
       "10   충북  2013  12    6589\n",
       "11   충남  2013  12    6365\n",
       "12   전북  2013  12    6282\n",
       "13   전남  2013  12    5678\n",
       "14   경북  2013  12    6168\n",
       "15   경남  2013  12    6473\n",
       "16   제주  2013  12    7674\n",
       "17   서울  2014   1   17925\n",
       "18   부산  2014   1    8111\n",
       "19   대구  2014   1    8080\n",
       "20   인천  2014   1   10204\n",
       "21   광주  2014   1    7326\n",
       "22   대전  2014   1    8321\n",
       "23   울산  2014   1    8090\n",
       "24   경기  2014   1   10855\n",
       "25   세종  2014   1    7600\n",
       "26   강원  2014   1    6230\n",
       "27   충북  2014   1    6589\n",
       "28   충남  2014   1    6365\n",
       "29   전북  2014   1    6281\n",
       "..   ..   ...  ..     ...\n",
       "327  광주  2015   7    8089\n",
       "328  대전  2015   7    8079\n",
       "329  울산  2015   7    9190\n",
       "330  경기  2015   7   10518\n",
       "331  세종  2015   7    8669\n",
       "332  강원  2015   7    7019\n",
       "333  충북  2015   7    6601\n",
       "334  충남  2015   7    6935\n",
       "335  전북  2015   7    6750\n",
       "336  전남  2015   7    6286\n",
       "337  경북  2015   7    7035\n",
       "338  경남  2015   7    7723\n",
       "339  제주  2015   7    7343\n",
       "340  서울  2015   8   18443\n",
       "341  부산  2015   8    9581\n",
       "342  대구  2015   8    8795\n",
       "343  인천  2015   8   10449\n",
       "344  광주  2015   8    8231\n",
       "345  대전  2015   8    8079\n",
       "346  울산  2015   8    9215\n",
       "347  경기  2015   8   10573\n",
       "348  세종  2015   8    8695\n",
       "349  강원  2015   8    7008\n",
       "350  충북  2015   8    6603\n",
       "351  충남  2015   8    6942\n",
       "352  전북  2015   8    6580\n",
       "353  전남  2015   8    6289\n",
       "354  경북  2015   8    7037\n",
       "355  경남  2015   8    7665\n",
       "356  제주  2015   8    7343\n",
       "\n",
       "[357 rows x 4 columns]"
      ]
     },
     "execution_count": 225,
     "metadata": {},
     "output_type": "execute_result"
    }
   ],
   "source": [
    "# df_first_melt에서 공통된 컬럼만 가져온 뒤\n",
    "# copy로 복사해서 df_first_prepare 컬럼에 담습니다.\n",
    "df_first_prepare = df_first_melt[columns].copy()\n",
    "df_first_prepare"
   ]
  },
  {
   "cell_type": "markdown",
   "metadata": {
    "colab_type": "text",
    "id": "1D9an7yBJZW-"
   },
   "source": [
    "## concat 으로 데이터 합치기"
   ]
  },
  {
   "cell_type": "code",
   "execution_count": 226,
   "metadata": {
    "colab": {},
    "colab_type": "code",
    "id": "zzt1XHxrJZW_"
   },
   "outputs": [
    {
     "data": {
      "text/html": [
       "<div>\n",
       "<style scoped>\n",
       "    .dataframe tbody tr th:only-of-type {\n",
       "        vertical-align: middle;\n",
       "    }\n",
       "\n",
       "    .dataframe tbody tr th {\n",
       "        vertical-align: top;\n",
       "    }\n",
       "\n",
       "    .dataframe thead th {\n",
       "        text-align: right;\n",
       "    }\n",
       "</style>\n",
       "<table border=\"1\" class=\"dataframe\">\n",
       "  <thead>\n",
       "    <tr style=\"text-align: right;\">\n",
       "      <th></th>\n",
       "      <th>지역명</th>\n",
       "      <th>연도</th>\n",
       "      <th>월</th>\n",
       "      <th>평당분양가격</th>\n",
       "    </tr>\n",
       "  </thead>\n",
       "  <tbody>\n",
       "    <tr>\n",
       "      <th>0</th>\n",
       "      <td>서울</td>\n",
       "      <td>2013</td>\n",
       "      <td>12</td>\n",
       "      <td>18189.0</td>\n",
       "    </tr>\n",
       "    <tr>\n",
       "      <th>1</th>\n",
       "      <td>부산</td>\n",
       "      <td>2013</td>\n",
       "      <td>12</td>\n",
       "      <td>8111.0</td>\n",
       "    </tr>\n",
       "    <tr>\n",
       "      <th>2</th>\n",
       "      <td>대구</td>\n",
       "      <td>2013</td>\n",
       "      <td>12</td>\n",
       "      <td>8080.0</td>\n",
       "    </tr>\n",
       "    <tr>\n",
       "      <th>3</th>\n",
       "      <td>인천</td>\n",
       "      <td>2013</td>\n",
       "      <td>12</td>\n",
       "      <td>10204.0</td>\n",
       "    </tr>\n",
       "    <tr>\n",
       "      <th>4</th>\n",
       "      <td>광주</td>\n",
       "      <td>2013</td>\n",
       "      <td>12</td>\n",
       "      <td>6098.0</td>\n",
       "    </tr>\n",
       "  </tbody>\n",
       "</table>\n",
       "</div>"
      ],
      "text/plain": [
       "  지역명    연도   월   평당분양가격\n",
       "0  서울  2013  12  18189.0\n",
       "1  부산  2013  12   8111.0\n",
       "2  대구  2013  12   8080.0\n",
       "3  인천  2013  12  10204.0\n",
       "4  광주  2013  12   6098.0"
      ]
     },
     "execution_count": 226,
     "metadata": {},
     "output_type": "execute_result"
    }
   ],
   "source": [
    "# df_first_prepare 와 df_last_prepare 를 합쳐줍니다.\n",
    "df = pd.concat([df_first_prepare, df_last_prepare])\n",
    "df.head()"
   ]
  },
  {
   "cell_type": "code",
   "execution_count": 227,
   "metadata": {
    "colab": {},
    "colab_type": "code",
    "id": "O4YP4QDkJZXC"
   },
   "outputs": [
    {
     "data": {
      "text/html": [
       "<div>\n",
       "<style scoped>\n",
       "    .dataframe tbody tr th:only-of-type {\n",
       "        vertical-align: middle;\n",
       "    }\n",
       "\n",
       "    .dataframe tbody tr th {\n",
       "        vertical-align: top;\n",
       "    }\n",
       "\n",
       "    .dataframe thead th {\n",
       "        text-align: right;\n",
       "    }\n",
       "</style>\n",
       "<table border=\"1\" class=\"dataframe\">\n",
       "  <thead>\n",
       "    <tr style=\"text-align: right;\">\n",
       "      <th></th>\n",
       "      <th>지역명</th>\n",
       "      <th>연도</th>\n",
       "      <th>월</th>\n",
       "      <th>평당분양가격</th>\n",
       "    </tr>\n",
       "  </thead>\n",
       "  <tbody>\n",
       "    <tr>\n",
       "      <th>4055</th>\n",
       "      <td>전북</td>\n",
       "      <td>2019</td>\n",
       "      <td>9</td>\n",
       "      <td>8679.0</td>\n",
       "    </tr>\n",
       "    <tr>\n",
       "      <th>4060</th>\n",
       "      <td>전남</td>\n",
       "      <td>2019</td>\n",
       "      <td>9</td>\n",
       "      <td>8187.3</td>\n",
       "    </tr>\n",
       "    <tr>\n",
       "      <th>4065</th>\n",
       "      <td>경북</td>\n",
       "      <td>2019</td>\n",
       "      <td>9</td>\n",
       "      <td>8771.4</td>\n",
       "    </tr>\n",
       "    <tr>\n",
       "      <th>4070</th>\n",
       "      <td>경남</td>\n",
       "      <td>2019</td>\n",
       "      <td>9</td>\n",
       "      <td>9883.5</td>\n",
       "    </tr>\n",
       "    <tr>\n",
       "      <th>4075</th>\n",
       "      <td>제주</td>\n",
       "      <td>2019</td>\n",
       "      <td>9</td>\n",
       "      <td>12767.7</td>\n",
       "    </tr>\n",
       "  </tbody>\n",
       "</table>\n",
       "</div>"
      ],
      "text/plain": [
       "     지역명    연도  월   평당분양가격\n",
       "4055  전북  2019  9   8679.0\n",
       "4060  전남  2019  9   8187.3\n",
       "4065  경북  2019  9   8771.4\n",
       "4070  경남  2019  9   9883.5\n",
       "4075  제주  2019  9  12767.7"
      ]
     },
     "execution_count": 227,
     "metadata": {},
     "output_type": "execute_result"
    }
   ],
   "source": [
    "# 제대로 합쳐졌는지 미리보기를 합니다.\n",
    "df.tail()"
   ]
  },
  {
   "cell_type": "code",
   "execution_count": 229,
   "metadata": {
    "colab": {},
    "colab_type": "code",
    "id": "Qn5Cyfp2JZXE"
   },
   "outputs": [
    {
     "data": {
      "text/plain": [
       "2013     17\n",
       "2014    204\n",
       "2015    187\n",
       "2016    204\n",
       "2017    204\n",
       "2018    204\n",
       "2019    153\n",
       "Name: 연도, dtype: int64"
      ]
     },
     "execution_count": 229,
     "metadata": {},
     "output_type": "execute_result"
    }
   ],
   "source": [
    "# 연도별로 데이터가 몇개씩 있는지 value_counts를 통해 세어봅니다.\n",
    "df['연도'].value_counts().sort_index()"
   ]
  },
  {
   "cell_type": "markdown",
   "metadata": {
    "colab_type": "text",
    "id": "pbwSpueSJZXF"
   },
   "source": [
    "### pivot_table 사용하기"
   ]
  },
  {
   "cell_type": "code",
   "execution_count": 234,
   "metadata": {
    "colab": {},
    "colab_type": "code",
    "id": "fmMM40-5JZXG",
    "scrolled": false
   },
   "outputs": [
    {
     "data": {
      "text/html": [
       "<div>\n",
       "<style scoped>\n",
       "    .dataframe tbody tr th:only-of-type {\n",
       "        vertical-align: middle;\n",
       "    }\n",
       "\n",
       "    .dataframe tbody tr th {\n",
       "        vertical-align: top;\n",
       "    }\n",
       "\n",
       "    .dataframe thead th {\n",
       "        text-align: right;\n",
       "    }\n",
       "</style>\n",
       "<table border=\"1\" class=\"dataframe\">\n",
       "  <thead>\n",
       "    <tr style=\"text-align: right;\">\n",
       "      <th>지역명</th>\n",
       "      <th>강원</th>\n",
       "      <th>경기</th>\n",
       "      <th>경남</th>\n",
       "      <th>경북</th>\n",
       "      <th>광주</th>\n",
       "      <th>대구</th>\n",
       "      <th>대전</th>\n",
       "      <th>부산</th>\n",
       "      <th>서울</th>\n",
       "      <th>세종</th>\n",
       "      <th>울산</th>\n",
       "      <th>인천</th>\n",
       "      <th>전남</th>\n",
       "      <th>전북</th>\n",
       "      <th>제주</th>\n",
       "      <th>충남</th>\n",
       "      <th>충북</th>\n",
       "    </tr>\n",
       "    <tr>\n",
       "      <th>연도</th>\n",
       "      <th></th>\n",
       "      <th></th>\n",
       "      <th></th>\n",
       "      <th></th>\n",
       "      <th></th>\n",
       "      <th></th>\n",
       "      <th></th>\n",
       "      <th></th>\n",
       "      <th></th>\n",
       "      <th></th>\n",
       "      <th></th>\n",
       "      <th></th>\n",
       "      <th></th>\n",
       "      <th></th>\n",
       "      <th></th>\n",
       "      <th></th>\n",
       "      <th></th>\n",
       "    </tr>\n",
       "  </thead>\n",
       "  <tbody>\n",
       "    <tr>\n",
       "      <th>2013</th>\n",
       "      <td>6230.0</td>\n",
       "      <td>10855.0</td>\n",
       "      <td>6473.0</td>\n",
       "      <td>6168.0</td>\n",
       "      <td>6098.0</td>\n",
       "      <td>8080.0</td>\n",
       "      <td>8321.0</td>\n",
       "      <td>8111.0</td>\n",
       "      <td>18189.0</td>\n",
       "      <td>7601.0</td>\n",
       "      <td>8090.0</td>\n",
       "      <td>10204.0</td>\n",
       "      <td>5678.0</td>\n",
       "      <td>6282.0</td>\n",
       "      <td>7674.0</td>\n",
       "      <td>6365.0</td>\n",
       "      <td>6589.0</td>\n",
       "    </tr>\n",
       "    <tr>\n",
       "      <th>2014</th>\n",
       "      <td>6332.0</td>\n",
       "      <td>10509.0</td>\n",
       "      <td>6729.0</td>\n",
       "      <td>6536.0</td>\n",
       "      <td>7588.0</td>\n",
       "      <td>8286.0</td>\n",
       "      <td>8240.0</td>\n",
       "      <td>9180.0</td>\n",
       "      <td>18997.0</td>\n",
       "      <td>8085.0</td>\n",
       "      <td>8362.0</td>\n",
       "      <td>10075.0</td>\n",
       "      <td>5719.0</td>\n",
       "      <td>6362.0</td>\n",
       "      <td>7855.0</td>\n",
       "      <td>6682.0</td>\n",
       "      <td>6620.0</td>\n",
       "    </tr>\n",
       "    <tr>\n",
       "      <th>2015</th>\n",
       "      <td>6831.0</td>\n",
       "      <td>10489.0</td>\n",
       "      <td>7646.0</td>\n",
       "      <td>7035.0</td>\n",
       "      <td>7956.0</td>\n",
       "      <td>8707.0</td>\n",
       "      <td>8105.0</td>\n",
       "      <td>9633.0</td>\n",
       "      <td>19283.0</td>\n",
       "      <td>8641.0</td>\n",
       "      <td>9273.0</td>\n",
       "      <td>10277.0</td>\n",
       "      <td>6109.0</td>\n",
       "      <td>6623.0</td>\n",
       "      <td>7465.0</td>\n",
       "      <td>7024.0</td>\n",
       "      <td>6700.0</td>\n",
       "    </tr>\n",
       "    <tr>\n",
       "      <th>2016</th>\n",
       "      <td>7011.0</td>\n",
       "      <td>11220.0</td>\n",
       "      <td>7848.0</td>\n",
       "      <td>7361.0</td>\n",
       "      <td>8899.0</td>\n",
       "      <td>10310.0</td>\n",
       "      <td>8502.0</td>\n",
       "      <td>10430.0</td>\n",
       "      <td>20663.0</td>\n",
       "      <td>8860.0</td>\n",
       "      <td>10209.0</td>\n",
       "      <td>10532.0</td>\n",
       "      <td>6489.0</td>\n",
       "      <td>6418.0</td>\n",
       "      <td>9129.0</td>\n",
       "      <td>7331.0</td>\n",
       "      <td>6770.0</td>\n",
       "    </tr>\n",
       "    <tr>\n",
       "      <th>2017</th>\n",
       "      <td>7127.0</td>\n",
       "      <td>11850.0</td>\n",
       "      <td>8120.0</td>\n",
       "      <td>7795.0</td>\n",
       "      <td>9464.0</td>\n",
       "      <td>11456.0</td>\n",
       "      <td>9045.0</td>\n",
       "      <td>11578.0</td>\n",
       "      <td>21376.0</td>\n",
       "      <td>9135.0</td>\n",
       "      <td>11345.0</td>\n",
       "      <td>10737.0</td>\n",
       "      <td>7188.0</td>\n",
       "      <td>7058.0</td>\n",
       "      <td>10831.0</td>\n",
       "      <td>7456.0</td>\n",
       "      <td>6763.0</td>\n",
       "    </tr>\n",
       "    <tr>\n",
       "      <th>2018</th>\n",
       "      <td>7681.0</td>\n",
       "      <td>13186.0</td>\n",
       "      <td>9019.0</td>\n",
       "      <td>8505.0</td>\n",
       "      <td>9856.0</td>\n",
       "      <td>12076.0</td>\n",
       "      <td>10180.0</td>\n",
       "      <td>12998.0</td>\n",
       "      <td>22889.0</td>\n",
       "      <td>10355.0</td>\n",
       "      <td>10241.0</td>\n",
       "      <td>11274.0</td>\n",
       "      <td>7789.0</td>\n",
       "      <td>7626.0</td>\n",
       "      <td>11891.0</td>\n",
       "      <td>8013.0</td>\n",
       "      <td>7874.0</td>\n",
       "    </tr>\n",
       "    <tr>\n",
       "      <th>2019</th>\n",
       "      <td>8113.0</td>\n",
       "      <td>14391.0</td>\n",
       "      <td>9688.0</td>\n",
       "      <td>8603.0</td>\n",
       "      <td>11569.0</td>\n",
       "      <td>13644.0</td>\n",
       "      <td>11708.0</td>\n",
       "      <td>13122.0</td>\n",
       "      <td>26002.0</td>\n",
       "      <td>10968.0</td>\n",
       "      <td>8992.0</td>\n",
       "      <td>12494.0</td>\n",
       "      <td>7802.0</td>\n",
       "      <td>8182.0</td>\n",
       "      <td>11918.0</td>\n",
       "      <td>8600.0</td>\n",
       "      <td>7577.0</td>\n",
       "    </tr>\n",
       "  </tbody>\n",
       "</table>\n",
       "</div>"
      ],
      "text/plain": [
       "지역명       강원       경기      경남      경북       광주       대구       대전       부산  \\\n",
       "연도                                                                          \n",
       "2013  6230.0  10855.0  6473.0  6168.0   6098.0   8080.0   8321.0   8111.0   \n",
       "2014  6332.0  10509.0  6729.0  6536.0   7588.0   8286.0   8240.0   9180.0   \n",
       "2015  6831.0  10489.0  7646.0  7035.0   7956.0   8707.0   8105.0   9633.0   \n",
       "2016  7011.0  11220.0  7848.0  7361.0   8899.0  10310.0   8502.0  10430.0   \n",
       "2017  7127.0  11850.0  8120.0  7795.0   9464.0  11456.0   9045.0  11578.0   \n",
       "2018  7681.0  13186.0  9019.0  8505.0   9856.0  12076.0  10180.0  12998.0   \n",
       "2019  8113.0  14391.0  9688.0  8603.0  11569.0  13644.0  11708.0  13122.0   \n",
       "\n",
       "지역명        서울       세종       울산       인천      전남      전북       제주      충남  \\\n",
       "연도                                                                          \n",
       "2013  18189.0   7601.0   8090.0  10204.0  5678.0  6282.0   7674.0  6365.0   \n",
       "2014  18997.0   8085.0   8362.0  10075.0  5719.0  6362.0   7855.0  6682.0   \n",
       "2015  19283.0   8641.0   9273.0  10277.0  6109.0  6623.0   7465.0  7024.0   \n",
       "2016  20663.0   8860.0  10209.0  10532.0  6489.0  6418.0   9129.0  7331.0   \n",
       "2017  21376.0   9135.0  11345.0  10737.0  7188.0  7058.0  10831.0  7456.0   \n",
       "2018  22889.0  10355.0  10241.0  11274.0  7789.0  7626.0  11891.0  8013.0   \n",
       "2019  26002.0  10968.0   8992.0  12494.0  7802.0  8182.0  11918.0  8600.0   \n",
       "\n",
       "지역명       충북  \n",
       "연도            \n",
       "2013  6589.0  \n",
       "2014  6620.0  \n",
       "2015  6700.0  \n",
       "2016  6770.0  \n",
       "2017  6763.0  \n",
       "2018  7874.0  \n",
       "2019  7577.0  "
      ]
     },
     "execution_count": 234,
     "metadata": {},
     "output_type": "execute_result"
    }
   ],
   "source": [
    "# 연도를 인덱스로, 지역명을 컬럼으로 평당분양가격을 피봇테이블로 그려봅니다.\n",
    "df_year_city = pd.pivot_table(df, index='연도', columns='지역명', values='평당분양가격')\n",
    "df_year_city = round(df_year_city)\n",
    "df_year_city"
   ]
  },
  {
   "cell_type": "code",
   "execution_count": 253,
   "metadata": {
    "colab": {},
    "colab_type": "code",
    "id": "IcMINejpJZXH"
   },
   "outputs": [
    {
     "data": {
      "text/plain": [
       "<matplotlib.axes._subplots.AxesSubplot at 0x1268b7e3e10>"
      ]
     },
     "execution_count": 253,
     "metadata": {},
     "output_type": "execute_result"
    },
    {
     "data": {
      "image/png": "[encoded data removed]",
      "text/plain": [
       "<Figure size 504x720 with 2 Axes>"
      ]
     },
     "metadata": {},
     "output_type": "display_data"
    }
   ],
   "source": [
    "# 위에서 그린 피봇테이블을 히트맵으로 표현해 봅니다.\n",
    "plt.figure(figsize=(7,10))\n",
    "sns.heatmap(df_year_city.T, annot=True, fmt=\".0f\", cmap='Blues')"
   ]
  },
  {
   "cell_type": "code",
   "execution_count": 0,
   "metadata": {
    "colab": {},
    "colab_type": "code",
    "id": "fvSgNmt9JZXK"
   },
   "outputs": [],
   "source": [
    "# transpose 를 사용하면 행과 열을 바꿔줄 수 있습니다.\n"
   ]
  },
  {
   "cell_type": "code",
   "execution_count": 0,
   "metadata": {
    "colab": {},
    "colab_type": "code",
    "id": "7e3AZk_iJZXM"
   },
   "outputs": [],
   "source": [
    "# 바뀐 행과 열을 히트맵으로 표현해 봅니다.\n"
   ]
  },
  {
   "cell_type": "code",
   "execution_count": 0,
   "metadata": {
    "colab": {},
    "colab_type": "code",
    "id": "x7sStggaJZXN"
   },
   "outputs": [],
   "source": [
    "# 다른형태의 피봇테이블도 그려봅니다. 인덱스에 [\"연도\", \"지역명\"] 을 넣고 그려봅니다.\n"
   ]
  },
  {
   "cell_type": "markdown",
   "metadata": {
    "colab_type": "text",
    "id": "vVBBZGaZJZXO"
   },
   "source": [
    "## 2013년부터 최근 데이터까지 시각화하기\n",
    "### 연도별 평당분양가격 보기"
   ]
  },
  {
   "cell_type": "code",
   "execution_count": 0,
   "metadata": {
    "colab": {},
    "colab_type": "code",
    "id": "iv0eQZCHJZXP"
   },
   "outputs": [],
   "source": [
    "# barplot 으로 연도별 평당분양가격 그리기\n"
   ]
  },
  {
   "cell_type": "code",
   "execution_count": 0,
   "metadata": {
    "colab": {},
    "colab_type": "code",
    "id": "2rK7oFJbJZXR"
   },
   "outputs": [],
   "source": [
    "# pointplot 으로 연도별 평당분양가격 그리기\n"
   ]
  },
  {
   "cell_type": "code",
   "execution_count": 0,
   "metadata": {
    "colab": {},
    "colab_type": "code",
    "id": "XzgLcAnUJZXT"
   },
   "outputs": [],
   "source": [
    "# pointplot 으로 연도별 평당분양가격 그리고 지역별로 표현해 보기\n"
   ]
  },
  {
   "cell_type": "code",
   "execution_count": 0,
   "metadata": {
    "colab": {},
    "colab_type": "code",
    "id": "gLQJIom0JZXU"
   },
   "outputs": [],
   "source": [
    "# 서울만 barplot 으로 그리기\n"
   ]
  },
  {
   "cell_type": "code",
   "execution_count": 0,
   "metadata": {
    "colab": {},
    "colab_type": "code",
    "id": "gkQm5wr_JZXW"
   },
   "outputs": [],
   "source": [
    "# 연도별 평당분양가격 boxplot 그리기\n"
   ]
  },
  {
   "cell_type": "code",
   "execution_count": 0,
   "metadata": {
    "colab": {},
    "colab_type": "code",
    "id": "6HFolwlNJZXX"
   },
   "outputs": [],
   "source": [
    "# 연도별 평당분양가격 violinplot 그리기\n"
   ]
  },
  {
   "cell_type": "code",
   "execution_count": 0,
   "metadata": {
    "colab": {},
    "colab_type": "code",
    "id": "uyY0TQlDJZXb"
   },
   "outputs": [],
   "source": [
    "# 연도별 평당분양가격 swarmplot 그리기\n"
   ]
  },
  {
   "cell_type": "markdown",
   "metadata": {
    "colab_type": "text",
    "id": "HfEF2oEBJZXe"
   },
   "source": [
    "### 지역별 평당분양가격 보기"
   ]
  },
  {
   "cell_type": "code",
   "execution_count": 0,
   "metadata": {
    "colab": {},
    "colab_type": "code",
    "id": "ChZzsxFyJZXe"
   },
   "outputs": [],
   "source": [
    "# barplot 으로 지역별 평당분양가격을 그려봅니다.\n"
   ]
  },
  {
   "cell_type": "code",
   "execution_count": 0,
   "metadata": {
    "colab": {},
    "colab_type": "code",
    "id": "CbwY3fWHJZXh"
   },
   "outputs": [],
   "source": [
    "# boxplot 으로 지역별 평당분양가격을 그려봅니다.\n"
   ]
  },
  {
   "cell_type": "code",
   "execution_count": 0,
   "metadata": {
    "colab": {},
    "colab_type": "code",
    "id": "e_bpkMzXJZXi"
   },
   "outputs": [],
   "source": [
    "# violinplot 으로 지역별 평당분양가격을 그려봅니다.\n",
    "# 그래프의 사이즈를 조정하기 위해서는 \n",
    "# matplotlib의 pyplot을 사용하며 plt 라는 별칭으로 불러왔습니다.\n"
   ]
  },
  {
   "cell_type": "code",
   "execution_count": 0,
   "metadata": {
    "colab": {},
    "colab_type": "code",
    "id": "ie5-t4I8JZXj"
   },
   "outputs": [],
   "source": [
    "# swarmplot 으로 지역별 평당분양가격을 그려봅니다.\n"
   ]
  },
  {
   "cell_type": "markdown",
   "metadata": {
    "colab_type": "text",
    "id": "Cu5j6FaTJZXm"
   },
   "source": []
  },
  {
   "cell_type": "code",
   "execution_count": 0,
   "metadata": {
    "colab": {},
    "colab_type": "code",
    "id": "gz9kkJM6JZXn"
   },
   "outputs": [],
   "source": []
  }
 ],
 "metadata": {
  "colab": {
   "collapsed_sections": [
    "9PNqs0q4JZU_",
    "kdeItDwvJZVE",
    "O0PFKeVrJZVG",
    "AReZC_8JJZVO",
    "y6kOVY3CJZVQ",
    "qhS9AqdkJZVT",
    "R5QxvdFJJZVc",
    "D6DhLjbeJZVq",
    "3FVFKFZyJZWF",
    "L-lOJGCAJZWK",
    "B1Y4qFSKJZWa",
    "Fnc_Oj1zJZWo",
    "1D9an7yBJZW-",
    "pbwSpueSJZXF",
    "vVBBZGaZJZXO",
    "HfEF2oEBJZXe"
   ],
   "name": "03-apt-price.ipynb",
   "provenance": []
  },
  "kernelspec": {
   "display_name": "Python 3",
   "language": "python",
   "name": "python3"
  },
  "language_info": {
   "codemirror_mode": {
    "name": "ipython",
    "version": 3
   },
   "file_extension": ".py",
   "mimetype": "text/x-python",
   "name": "python",
   "nbconvert_exporter": "python",
   "pygments_lexer": "ipython3",
   "version": "3.7.3"
  },
  "varInspector": {
   "cols": {
    "lenName": 16,
    "lenType": 16,
    "lenVar": 40
   },
   "kernels_config": {
    "python": {
     "delete_cmd_postfix": "",
     "delete_cmd_prefix": "del ",
     "library": "var_list.py",
     "varRefreshCmd": "print(var_dic_list())"
    },
    "r": {
     "delete_cmd_postfix": ") ",
     "delete_cmd_prefix": "rm(",
     "library": "var_list.r",
     "varRefreshCmd": "cat(var_dic_list()) "
    }
   },
   "types_to_exclude": [
    "module",
    "function",
    "builtin_function_or_method",
    "instance",
    "_Feature"
   ],
   "window_display": false
  }
 },
 "nbformat": 4,
 "nbformat_minor": 1
}
